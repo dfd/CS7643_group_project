{
  "nbformat": 4,
  "nbformat_minor": 0,
  "metadata": {
    "colab": {
      "name": "check_colab.ipynb",
      "provenance": [],
      "collapsed_sections": [],
      "include_colab_link": true
    },
    "kernelspec": {
      "name": "python3",
      "display_name": "Python 3"
    },
    "language_info": {
      "name": "python"
    },
    "accelerator": "GPU"
  },
  "cells": [
    {
      "cell_type": "markdown",
      "metadata": {
        "id": "view-in-github",
        "colab_type": "text"
      },
      "source": [
        "<a href=\"https://colab.research.google.com/github/dfd/CS7643_group_project/blob/master/notebooks/colab_example_lambada.ipynb\" target=\"_parent\"><img src=\"https://colab.research.google.com/assets/colab-badge.svg\" alt=\"Open In Colab\"/></a>"
      ]
    },
    {
      "cell_type": "code",
      "metadata": {
        "colab": {
          "base_uri": "https://localhost:8080/"
        },
        "id": "1jYCSYqSL-ae",
        "outputId": "623c2dd3-1b90-42ab-a533-bd5cea93d3b5"
      },
      "source": [
        "!pip install torch==1.8.1\n",
        "!pip install spacy\n",
        "!pip install wandb\n",
        "!pip install transformers\n",
        "!python -m spacy download en_core_web_md"
      ],
      "execution_count": null,
      "outputs": [
        {
          "output_type": "stream",
          "text": [
            "Requirement already satisfied: torch==1.8.1 in /usr/local/lib/python3.7/dist-packages (1.8.1+cu101)\n",
            "Requirement already satisfied: typing-extensions in /usr/local/lib/python3.7/dist-packages (from torch==1.8.1) (3.7.4.3)\n",
            "Requirement already satisfied: numpy in /usr/local/lib/python3.7/dist-packages (from torch==1.8.1) (1.19.5)\n",
            "Requirement already satisfied: spacy in /usr/local/lib/python3.7/dist-packages (2.2.4)\n",
            "Requirement already satisfied: cymem<2.1.0,>=2.0.2 in /usr/local/lib/python3.7/dist-packages (from spacy) (2.0.5)\n",
            "Requirement already satisfied: murmurhash<1.1.0,>=0.28.0 in /usr/local/lib/python3.7/dist-packages (from spacy) (1.0.5)\n",
            "Requirement already satisfied: plac<1.2.0,>=0.9.6 in /usr/local/lib/python3.7/dist-packages (from spacy) (1.1.3)\n",
            "Requirement already satisfied: numpy>=1.15.0 in /usr/local/lib/python3.7/dist-packages (from spacy) (1.19.5)\n",
            "Requirement already satisfied: srsly<1.1.0,>=1.0.2 in /usr/local/lib/python3.7/dist-packages (from spacy) (1.0.5)\n",
            "Requirement already satisfied: wasabi<1.1.0,>=0.4.0 in /usr/local/lib/python3.7/dist-packages (from spacy) (0.8.2)\n",
            "Requirement already satisfied: catalogue<1.1.0,>=0.0.7 in /usr/local/lib/python3.7/dist-packages (from spacy) (1.0.0)\n",
            "Requirement already satisfied: requests<3.0.0,>=2.13.0 in /usr/local/lib/python3.7/dist-packages (from spacy) (2.23.0)\n",
            "Requirement already satisfied: setuptools in /usr/local/lib/python3.7/dist-packages (from spacy) (54.2.0)\n",
            "Requirement already satisfied: preshed<3.1.0,>=3.0.2 in /usr/local/lib/python3.7/dist-packages (from spacy) (3.0.5)\n",
            "Requirement already satisfied: blis<0.5.0,>=0.4.0 in /usr/local/lib/python3.7/dist-packages (from spacy) (0.4.1)\n",
            "Requirement already satisfied: thinc==7.4.0 in /usr/local/lib/python3.7/dist-packages (from spacy) (7.4.0)\n",
            "Requirement already satisfied: tqdm<5.0.0,>=4.38.0 in /usr/local/lib/python3.7/dist-packages (from spacy) (4.41.1)\n",
            "Requirement already satisfied: importlib-metadata>=0.20; python_version < \"3.8\" in /usr/local/lib/python3.7/dist-packages (from catalogue<1.1.0,>=0.0.7->spacy) (3.10.1)\n",
            "Requirement already satisfied: idna<3,>=2.5 in /usr/local/lib/python3.7/dist-packages (from requests<3.0.0,>=2.13.0->spacy) (2.10)\n",
            "Requirement already satisfied: certifi>=2017.4.17 in /usr/local/lib/python3.7/dist-packages (from requests<3.0.0,>=2.13.0->spacy) (2020.12.5)\n",
            "Requirement already satisfied: chardet<4,>=3.0.2 in /usr/local/lib/python3.7/dist-packages (from requests<3.0.0,>=2.13.0->spacy) (3.0.4)\n",
            "Requirement already satisfied: urllib3!=1.25.0,!=1.25.1,<1.26,>=1.21.1 in /usr/local/lib/python3.7/dist-packages (from requests<3.0.0,>=2.13.0->spacy) (1.24.3)\n",
            "Requirement already satisfied: typing-extensions>=3.6.4; python_version < \"3.8\" in /usr/local/lib/python3.7/dist-packages (from importlib-metadata>=0.20; python_version < \"3.8\"->catalogue<1.1.0,>=0.0.7->spacy) (3.7.4.3)\n",
            "Requirement already satisfied: zipp>=0.5 in /usr/local/lib/python3.7/dist-packages (from importlib-metadata>=0.20; python_version < \"3.8\"->catalogue<1.1.0,>=0.0.7->spacy) (3.4.1)\n",
            "Collecting wandb\n",
            "\u001b[?25l  Downloading https://files.pythonhosted.org/packages/d5/5d/20ab24504de2669c9a76a50c9bdaeb44a440b0e5e4b92be881ed323857b1/wandb-0.10.26-py2.py3-none-any.whl (2.1MB)\n",
            "\u001b[K     |████████████████████████████████| 2.1MB 5.3MB/s \n",
            "\u001b[?25hCollecting sentry-sdk>=0.4.0\n",
            "\u001b[?25l  Downloading https://files.pythonhosted.org/packages/f3/92/5a33be64990ba815364a8f2dd9e6f51de60d23dfddafb4f1fc5577d4dc64/sentry_sdk-1.0.0-py2.py3-none-any.whl (131kB)\n",
            "\u001b[K     |████████████████████████████████| 133kB 16.7MB/s \n",
            "\u001b[?25hCollecting GitPython>=1.0.0\n",
            "\u001b[?25l  Downloading https://files.pythonhosted.org/packages/a6/99/98019716955ba243657daedd1de8f3a88ca1f5b75057c38e959db22fb87b/GitPython-3.1.14-py3-none-any.whl (159kB)\n",
            "\u001b[K     |████████████████████████████████| 163kB 17.2MB/s \n",
            "\u001b[?25hRequirement already satisfied: requests<3,>=2.0.0 in /usr/local/lib/python3.7/dist-packages (from wandb) (2.23.0)\n",
            "Requirement already satisfied: protobuf>=3.12.0 in /usr/local/lib/python3.7/dist-packages (from wandb) (3.12.4)\n",
            "Requirement already satisfied: python-dateutil>=2.6.1 in /usr/local/lib/python3.7/dist-packages (from wandb) (2.8.1)\n",
            "Collecting configparser>=3.8.1\n",
            "  Downloading https://files.pythonhosted.org/packages/fd/01/ff260a18caaf4457eb028c96eeb405c4a230ca06c8ec9c1379f813caa52e/configparser-5.0.2-py3-none-any.whl\n",
            "Collecting shortuuid>=0.5.0\n",
            "  Downloading https://files.pythonhosted.org/packages/25/a6/2ecc1daa6a304e7f1b216f0896b26156b78e7c38e1211e9b798b4716c53d/shortuuid-1.0.1-py3-none-any.whl\n",
            "Collecting subprocess32>=3.5.3\n",
            "\u001b[?25l  Downloading https://files.pythonhosted.org/packages/32/c8/564be4d12629b912ea431f1a50eb8b3b9d00f1a0b1ceff17f266be190007/subprocess32-3.5.4.tar.gz (97kB)\n",
            "\u001b[K     |████████████████████████████████| 102kB 9.1MB/s \n",
            "\u001b[?25hCollecting pathtools\n",
            "  Downloading https://files.pythonhosted.org/packages/e7/7f/470d6fcdf23f9f3518f6b0b76be9df16dcc8630ad409947f8be2eb0ed13a/pathtools-0.1.2.tar.gz\n",
            "Collecting docker-pycreds>=0.4.0\n",
            "  Downloading https://files.pythonhosted.org/packages/f5/e8/f6bd1eee09314e7e6dee49cbe2c5e22314ccdb38db16c9fc72d2fa80d054/docker_pycreds-0.4.0-py2.py3-none-any.whl\n",
            "Requirement already satisfied: psutil>=5.0.0 in /usr/local/lib/python3.7/dist-packages (from wandb) (5.4.8)\n",
            "Requirement already satisfied: six>=1.13.0 in /usr/local/lib/python3.7/dist-packages (from wandb) (1.15.0)\n",
            "Requirement already satisfied: Click>=7.0 in /usr/local/lib/python3.7/dist-packages (from wandb) (7.1.2)\n",
            "Requirement already satisfied: promise<3,>=2.0 in /usr/local/lib/python3.7/dist-packages (from wandb) (2.3)\n",
            "Requirement already satisfied: PyYAML in /usr/local/lib/python3.7/dist-packages (from wandb) (3.13)\n",
            "Requirement already satisfied: certifi in /usr/local/lib/python3.7/dist-packages (from sentry-sdk>=0.4.0->wandb) (2020.12.5)\n",
            "Requirement already satisfied: urllib3>=1.10.0 in /usr/local/lib/python3.7/dist-packages (from sentry-sdk>=0.4.0->wandb) (1.24.3)\n",
            "Collecting gitdb<5,>=4.0.1\n",
            "\u001b[?25l  Downloading https://files.pythonhosted.org/packages/ea/e8/f414d1a4f0bbc668ed441f74f44c116d9816833a48bf81d22b697090dba8/gitdb-4.0.7-py3-none-any.whl (63kB)\n",
            "\u001b[K     |████████████████████████████████| 71kB 7.7MB/s \n",
            "\u001b[?25hRequirement already satisfied: chardet<4,>=3.0.2 in /usr/local/lib/python3.7/dist-packages (from requests<3,>=2.0.0->wandb) (3.0.4)\n",
            "Requirement already satisfied: idna<3,>=2.5 in /usr/local/lib/python3.7/dist-packages (from requests<3,>=2.0.0->wandb) (2.10)\n",
            "Requirement already satisfied: setuptools in /usr/local/lib/python3.7/dist-packages (from protobuf>=3.12.0->wandb) (54.2.0)\n",
            "Collecting smmap<5,>=3.0.1\n",
            "  Downloading https://files.pythonhosted.org/packages/68/ee/d540eb5e5996eb81c26ceffac6ee49041d473bc5125f2aa995cf51ec1cf1/smmap-4.0.0-py2.py3-none-any.whl\n",
            "Building wheels for collected packages: subprocess32, pathtools\n",
            "  Building wheel for subprocess32 (setup.py) ... \u001b[?25l\u001b[?25hdone\n",
            "  Created wheel for subprocess32: filename=subprocess32-3.5.4-cp37-none-any.whl size=6489 sha256=929a94f972848df50724ccbe06135a2925f52a2d99e976cf430fe4a5d5dd887e\n",
            "  Stored in directory: /root/.cache/pip/wheels/68/39/1a/5e402bdfdf004af1786c8b853fd92f8c4a04f22aad179654d1\n",
            "  Building wheel for pathtools (setup.py) ... \u001b[?25l\u001b[?25hdone\n",
            "  Created wheel for pathtools: filename=pathtools-0.1.2-cp37-none-any.whl size=8786 sha256=30b51a704dd77ee4c4e125c181c3b40e472f45809d77faef246bf711964fad0f\n",
            "  Stored in directory: /root/.cache/pip/wheels/0b/04/79/c3b0c3a0266a3cb4376da31e5bfe8bba0c489246968a68e843\n",
            "Successfully built subprocess32 pathtools\n",
            "Installing collected packages: sentry-sdk, smmap, gitdb, GitPython, configparser, shortuuid, subprocess32, pathtools, docker-pycreds, wandb\n",
            "Successfully installed GitPython-3.1.14 configparser-5.0.2 docker-pycreds-0.4.0 gitdb-4.0.7 pathtools-0.1.2 sentry-sdk-1.0.0 shortuuid-1.0.1 smmap-4.0.0 subprocess32-3.5.4 wandb-0.10.26\n",
            "Collecting transformers\n",
            "\u001b[?25l  Downloading https://files.pythonhosted.org/packages/d8/b2/57495b5309f09fa501866e225c84532d1fd89536ea62406b2181933fb418/transformers-4.5.1-py3-none-any.whl (2.1MB)\n",
            "\u001b[K     |████████████████████████████████| 2.1MB 4.2MB/s \n",
            "\u001b[?25hRequirement already satisfied: filelock in /usr/local/lib/python3.7/dist-packages (from transformers) (3.0.12)\n",
            "Requirement already satisfied: requests in /usr/local/lib/python3.7/dist-packages (from transformers) (2.23.0)\n",
            "Requirement already satisfied: tqdm>=4.27 in /usr/local/lib/python3.7/dist-packages (from transformers) (4.41.1)\n",
            "Requirement already satisfied: numpy>=1.17 in /usr/local/lib/python3.7/dist-packages (from transformers) (1.19.5)\n",
            "Requirement already satisfied: regex!=2019.12.17 in /usr/local/lib/python3.7/dist-packages (from transformers) (2019.12.20)\n",
            "Collecting tokenizers<0.11,>=0.10.1\n",
            "\u001b[?25l  Downloading https://files.pythonhosted.org/packages/ae/04/5b870f26a858552025a62f1649c20d29d2672c02ff3c3fb4c688ca46467a/tokenizers-0.10.2-cp37-cp37m-manylinux2010_x86_64.whl (3.3MB)\n",
            "\u001b[K     |████████████████████████████████| 3.3MB 17.2MB/s \n",
            "\u001b[?25hCollecting sacremoses\n",
            "\u001b[?25l  Downloading https://files.pythonhosted.org/packages/75/ee/67241dc87f266093c533a2d4d3d69438e57d7a90abb216fa076e7d475d4a/sacremoses-0.0.45-py3-none-any.whl (895kB)\n",
            "\u001b[K     |████████████████████████████████| 901kB 45.7MB/s \n",
            "\u001b[?25hRequirement already satisfied: packaging in /usr/local/lib/python3.7/dist-packages (from transformers) (20.9)\n",
            "Requirement already satisfied: importlib-metadata; python_version < \"3.8\" in /usr/local/lib/python3.7/dist-packages (from transformers) (3.10.1)\n",
            "Requirement already satisfied: idna<3,>=2.5 in /usr/local/lib/python3.7/dist-packages (from requests->transformers) (2.10)\n",
            "Requirement already satisfied: urllib3!=1.25.0,!=1.25.1,<1.26,>=1.21.1 in /usr/local/lib/python3.7/dist-packages (from requests->transformers) (1.24.3)\n",
            "Requirement already satisfied: chardet<4,>=3.0.2 in /usr/local/lib/python3.7/dist-packages (from requests->transformers) (3.0.4)\n",
            "Requirement already satisfied: certifi>=2017.4.17 in /usr/local/lib/python3.7/dist-packages (from requests->transformers) (2020.12.5)\n",
            "Requirement already satisfied: joblib in /usr/local/lib/python3.7/dist-packages (from sacremoses->transformers) (1.0.1)\n",
            "Requirement already satisfied: six in /usr/local/lib/python3.7/dist-packages (from sacremoses->transformers) (1.15.0)\n",
            "Requirement already satisfied: click in /usr/local/lib/python3.7/dist-packages (from sacremoses->transformers) (7.1.2)\n",
            "Requirement already satisfied: pyparsing>=2.0.2 in /usr/local/lib/python3.7/dist-packages (from packaging->transformers) (2.4.7)\n",
            "Requirement already satisfied: zipp>=0.5 in /usr/local/lib/python3.7/dist-packages (from importlib-metadata; python_version < \"3.8\"->transformers) (3.4.1)\n",
            "Requirement already satisfied: typing-extensions>=3.6.4; python_version < \"3.8\" in /usr/local/lib/python3.7/dist-packages (from importlib-metadata; python_version < \"3.8\"->transformers) (3.7.4.3)\n",
            "Installing collected packages: tokenizers, sacremoses, transformers\n",
            "Successfully installed sacremoses-0.0.45 tokenizers-0.10.2 transformers-4.5.1\n",
            "Collecting en_core_web_md==2.2.5\n",
            "\u001b[?25l  Downloading https://github.com/explosion/spacy-models/releases/download/en_core_web_md-2.2.5/en_core_web_md-2.2.5.tar.gz (96.4MB)\n",
            "\u001b[K     |████████████████████████████████| 96.4MB 1.3MB/s \n",
            "\u001b[?25hRequirement already satisfied: spacy>=2.2.2 in /usr/local/lib/python3.7/dist-packages (from en_core_web_md==2.2.5) (2.2.4)\n",
            "Requirement already satisfied: requests<3.0.0,>=2.13.0 in /usr/local/lib/python3.7/dist-packages (from spacy>=2.2.2->en_core_web_md==2.2.5) (2.23.0)\n",
            "Requirement already satisfied: numpy>=1.15.0 in /usr/local/lib/python3.7/dist-packages (from spacy>=2.2.2->en_core_web_md==2.2.5) (1.19.5)\n",
            "Requirement already satisfied: murmurhash<1.1.0,>=0.28.0 in /usr/local/lib/python3.7/dist-packages (from spacy>=2.2.2->en_core_web_md==2.2.5) (1.0.5)\n",
            "Requirement already satisfied: setuptools in /usr/local/lib/python3.7/dist-packages (from spacy>=2.2.2->en_core_web_md==2.2.5) (54.2.0)\n",
            "Requirement already satisfied: wasabi<1.1.0,>=0.4.0 in /usr/local/lib/python3.7/dist-packages (from spacy>=2.2.2->en_core_web_md==2.2.5) (0.8.2)\n",
            "Requirement already satisfied: blis<0.5.0,>=0.4.0 in /usr/local/lib/python3.7/dist-packages (from spacy>=2.2.2->en_core_web_md==2.2.5) (0.4.1)\n",
            "Requirement already satisfied: preshed<3.1.0,>=3.0.2 in /usr/local/lib/python3.7/dist-packages (from spacy>=2.2.2->en_core_web_md==2.2.5) (3.0.5)\n",
            "Requirement already satisfied: catalogue<1.1.0,>=0.0.7 in /usr/local/lib/python3.7/dist-packages (from spacy>=2.2.2->en_core_web_md==2.2.5) (1.0.0)\n",
            "Requirement already satisfied: cymem<2.1.0,>=2.0.2 in /usr/local/lib/python3.7/dist-packages (from spacy>=2.2.2->en_core_web_md==2.2.5) (2.0.5)\n",
            "Requirement already satisfied: plac<1.2.0,>=0.9.6 in /usr/local/lib/python3.7/dist-packages (from spacy>=2.2.2->en_core_web_md==2.2.5) (1.1.3)\n",
            "Requirement already satisfied: thinc==7.4.0 in /usr/local/lib/python3.7/dist-packages (from spacy>=2.2.2->en_core_web_md==2.2.5) (7.4.0)\n",
            "Requirement already satisfied: tqdm<5.0.0,>=4.38.0 in /usr/local/lib/python3.7/dist-packages (from spacy>=2.2.2->en_core_web_md==2.2.5) (4.41.1)\n",
            "Requirement already satisfied: srsly<1.1.0,>=1.0.2 in /usr/local/lib/python3.7/dist-packages (from spacy>=2.2.2->en_core_web_md==2.2.5) (1.0.5)\n",
            "Requirement already satisfied: chardet<4,>=3.0.2 in /usr/local/lib/python3.7/dist-packages (from requests<3.0.0,>=2.13.0->spacy>=2.2.2->en_core_web_md==2.2.5) (3.0.4)\n",
            "Requirement already satisfied: idna<3,>=2.5 in /usr/local/lib/python3.7/dist-packages (from requests<3.0.0,>=2.13.0->spacy>=2.2.2->en_core_web_md==2.2.5) (2.10)\n",
            "Requirement already satisfied: certifi>=2017.4.17 in /usr/local/lib/python3.7/dist-packages (from requests<3.0.0,>=2.13.0->spacy>=2.2.2->en_core_web_md==2.2.5) (2020.12.5)\n",
            "Requirement already satisfied: urllib3!=1.25.0,!=1.25.1,<1.26,>=1.21.1 in /usr/local/lib/python3.7/dist-packages (from requests<3.0.0,>=2.13.0->spacy>=2.2.2->en_core_web_md==2.2.5) (1.24.3)\n",
            "Requirement already satisfied: importlib-metadata>=0.20; python_version < \"3.8\" in /usr/local/lib/python3.7/dist-packages (from catalogue<1.1.0,>=0.0.7->spacy>=2.2.2->en_core_web_md==2.2.5) (3.10.1)\n",
            "Requirement already satisfied: zipp>=0.5 in /usr/local/lib/python3.7/dist-packages (from importlib-metadata>=0.20; python_version < \"3.8\"->catalogue<1.1.0,>=0.0.7->spacy>=2.2.2->en_core_web_md==2.2.5) (3.4.1)\n",
            "Requirement already satisfied: typing-extensions>=3.6.4; python_version < \"3.8\" in /usr/local/lib/python3.7/dist-packages (from importlib-metadata>=0.20; python_version < \"3.8\"->catalogue<1.1.0,>=0.0.7->spacy>=2.2.2->en_core_web_md==2.2.5) (3.7.4.3)\n",
            "Building wheels for collected packages: en-core-web-md\n",
            "  Building wheel for en-core-web-md (setup.py) ... \u001b[?25l\u001b[?25hdone\n",
            "  Created wheel for en-core-web-md: filename=en_core_web_md-2.2.5-cp37-none-any.whl size=98051305 sha256=3ddd1309bf5bb4653d6f4a2da63521e0438a0fe553bd22752fee9bde1bf218ea\n",
            "  Stored in directory: /tmp/pip-ephem-wheel-cache-4nsfww20/wheels/df/94/ad/f5cf59224cea6b5686ac4fd1ad19c8a07bc026e13c36502d81\n",
            "Successfully built en-core-web-md\n",
            "Installing collected packages: en-core-web-md\n",
            "Successfully installed en-core-web-md-2.2.5\n",
            "\u001b[38;5;2m✔ Download and installation successful\u001b[0m\n",
            "You can now load the model via spacy.load('en_core_web_md')\n"
          ],
          "name": "stdout"
        }
      ]
    },
    {
      "cell_type": "code",
      "metadata": {
        "colab": {
          "base_uri": "https://localhost:8080/"
        },
        "id": "sShT7FKJWNNM",
        "outputId": "6199f1b2-74e8-4a20-c6b3-1b28101b3b20"
      },
      "source": [
        "from google.colab import drive\n",
        "drive.mount('/content/drive', force_remount=True)"
      ],
      "execution_count": null,
      "outputs": [
        {
          "output_type": "stream",
          "text": [
            "Mounted at /content/drive\n"
          ],
          "name": "stdout"
        }
      ]
    },
    {
      "cell_type": "code",
      "metadata": {
        "colab": {
          "base_uri": "https://localhost:8080/"
        },
        "id": "IfILjhRCWP1k",
        "outputId": "53ace941-a8f1-4a59-e55a-cb023839e488"
      },
      "source": [
        "cd /content/drive/MyDrive/ga_tech/deep_learning/final_project/universal_transformer/"
      ],
      "execution_count": null,
      "outputs": [
        {
          "output_type": "stream",
          "text": [
            "/content/drive/MyDrive/ga_tech/deep_learning/final_project/universal_transformer\n"
          ],
          "name": "stdout"
        }
      ]
    },
    {
      "cell_type": "code",
      "metadata": {
        "colab": {
          "base_uri": "https://localhost:8080/"
        },
        "id": "U_i-EfGaWyyp",
        "outputId": "db1f482d-c37d-449b-a54a-e7fbe96ad476"
      },
      "source": [
        "ls "
      ],
      "execution_count": null,
      "outputs": [
        {
          "output_type": "stream",
          "text": [
            "\u001b[0m\u001b[01;34mconfigs\u001b[0m/    sandbox2.py  setup.cfg          train.py                \u001b[01;34mwandb\u001b[0m/\n",
            "\u001b[01;34mnotebooks\u001b[0m/  sandbox.py   state_dict.pickle  \u001b[01;34muniversal_transformer\u001b[0m/\n"
          ],
          "name": "stdout"
        }
      ]
    },
    {
      "cell_type": "code",
      "metadata": {
        "colab": {
          "base_uri": "https://localhost:8080/"
        },
        "id": "ZSFQShinXLSi",
        "outputId": "65edc164-8dc5-4942-b1a9-b569d2412b26"
      },
      "source": [
        "!WANDB_MODE=dryrun python train.py -c configs/depthwise_conv.yaml"
      ],
      "execution_count": null,
      "outputs": [
        {
          "output_type": "stream",
          "text": [
            "2021-04-19 04:37:20.561125: I tensorflow/stream_executor/platform/default/dso_loader.cc:49] Successfully opened dynamic library libcudart.so.11.0\n",
            "2021-04-19 04:37:22.668689: I tensorflow/stream_executor/platform/default/dso_loader.cc:49] Successfully opened dynamic library libcudart.so.11.0\n",
            "\u001b[34m\u001b[1mwandb\u001b[0m: W&B syncing is set to `offline` in this directory.  Run `wandb online` or set WANDB_MODE=online to enable cloud syncing.\n",
            "[2021-04-19 04:37:57 +0000] [universal_transformer] [INFO] {'train_loss': 17.57565712928772, 'train_examples_per_second': 177.21810567205284, 'train_sample_size': 10, 'epoch': 1}\n",
            "[2021-04-19 04:37:57 +0000] [universal_transformer] [INFO] {'val_loss': 13.453152418136597, 'val_examples_per_second': 600.5776956888928, 'val_sample_size': 10, 'epoch': 1}\n",
            "[2021-04-19 04:37:57 +0000] [universal_transformer] [INFO] {'train_loss': 13.417908430099487, 'train_examples_per_second': 216.31882851429827, 'train_sample_size': 10, 'epoch': 2}\n",
            "[2021-04-19 04:37:57 +0000] [universal_transformer] [INFO] {'val_loss': 10.820801973342896, 'val_examples_per_second': 585.6454322204179, 'val_sample_size': 10, 'epoch': 2}\n",
            "[2021-04-19 04:37:57 +0000] [universal_transformer] [INFO] {'train_loss': 10.262168169021606, 'train_examples_per_second': 226.63303492861004, 'train_sample_size': 10, 'epoch': 3}\n",
            "[2021-04-19 04:37:57 +0000] [universal_transformer] [INFO] {'val_loss': 9.752837538719177, 'val_examples_per_second': 445.85896669301655, 'val_sample_size': 10, 'epoch': 3}\n",
            "[2021-04-19 04:37:57 +0000] [universal_transformer] [INFO] {'train_loss': 8.566794633865356, 'train_examples_per_second': 243.77813595777778, 'train_sample_size': 10, 'epoch': 4}\n",
            "[2021-04-19 04:37:57 +0000] [universal_transformer] [INFO] {'val_loss': 9.65941333770752, 'val_examples_per_second': 616.6315012010105, 'val_sample_size': 10, 'epoch': 4}\n",
            "[2021-04-19 04:37:57 +0000] [universal_transformer] [INFO] {'train_loss': 7.662603855133057, 'train_examples_per_second': 210.27398700463826, 'train_sample_size': 10, 'epoch': 5}\n",
            "[2021-04-19 04:37:57 +0000] [universal_transformer] [INFO] {'val_loss': 9.72237229347229, 'val_examples_per_second': 611.7161629662697, 'val_sample_size': 10, 'epoch': 5}\n",
            "[2021-04-19 04:37:57 +0000] [universal_transformer] [INFO] {'train_loss': 7.036731481552124, 'train_examples_per_second': 228.1253249360227, 'train_sample_size': 10, 'epoch': 6}\n",
            "[2021-04-19 04:37:57 +0000] [universal_transformer] [INFO] {'val_loss': 9.761991739273071, 'val_examples_per_second': 505.75107245895117, 'val_sample_size': 10, 'epoch': 6}\n",
            "[2021-04-19 04:37:57 +0000] [universal_transformer] [INFO] {'train_loss': 6.751970052719116, 'train_examples_per_second': 224.6384634873972, 'train_sample_size': 10, 'epoch': 7}\n",
            "[2021-04-19 04:37:57 +0000] [universal_transformer] [INFO] {'val_loss': 10.096479892730713, 'val_examples_per_second': 617.6209734176929, 'val_sample_size': 10, 'epoch': 7}\n",
            "[2021-04-19 04:37:57 +0000] [universal_transformer] [INFO] {'train_loss': 6.879823207855225, 'train_examples_per_second': 227.34279535544292, 'train_sample_size': 10, 'epoch': 8}\n",
            "[2021-04-19 04:37:57 +0000] [universal_transformer] [INFO] {'val_loss': 9.973450183868408, 'val_examples_per_second': 623.1690514320983, 'val_sample_size': 10, 'epoch': 8}\n",
            "[2021-04-19 04:37:57 +0000] [universal_transformer] [INFO] {'train_loss': 6.355771780014038, 'train_examples_per_second': 227.9676399938269, 'train_sample_size': 10, 'epoch': 9}\n",
            "[2021-04-19 04:37:57 +0000] [universal_transformer] [INFO] {'val_loss': 10.334311723709106, 'val_examples_per_second': 601.8083015467295, 'val_sample_size': 10, 'epoch': 9}\n",
            "[2021-04-19 04:37:57 +0000] [universal_transformer] [INFO] {'train_loss': 6.325599908828735, 'train_examples_per_second': 229.6425021975917, 'train_sample_size': 10, 'epoch': 10}\n",
            "[2021-04-19 04:37:57 +0000] [universal_transformer] [INFO] {'val_loss': 10.188208103179932, 'val_examples_per_second': 576.1853270121665, 'val_sample_size': 10, 'epoch': 10}\n",
            "[2021-04-19 04:37:57 +0000] [universal_transformer] [INFO] {'train_loss': 6.742523908615112, 'train_examples_per_second': 213.67899871571058, 'train_sample_size': 10, 'epoch': 11}\n",
            "[2021-04-19 04:37:57 +0000] [universal_transformer] [INFO] {'val_loss': 10.433420896530151, 'val_examples_per_second': 595.8581423791198, 'val_sample_size': 10, 'epoch': 11}\n",
            "[2021-04-19 04:37:57 +0000] [universal_transformer] [INFO] {'train_loss': 6.345139741897583, 'train_examples_per_second': 219.25720220373117, 'train_sample_size': 10, 'epoch': 12}\n",
            "[2021-04-19 04:37:57 +0000] [universal_transformer] [INFO] {'val_loss': 10.360198974609375, 'val_examples_per_second': 583.6211169064393, 'val_sample_size': 10, 'epoch': 12}\n",
            "[2021-04-19 04:37:58 +0000] [universal_transformer] [INFO] {'train_loss': 6.228172659873962, 'train_examples_per_second': 239.1470924164881, 'train_sample_size': 10, 'epoch': 13}\n",
            "[2021-04-19 04:37:58 +0000] [universal_transformer] [INFO] {'val_loss': 10.663827300071716, 'val_examples_per_second': 541.7188815938362, 'val_sample_size': 10, 'epoch': 13}\n",
            "[2021-04-19 04:37:58 +0000] [universal_transformer] [INFO] {'train_loss': 6.394426226615906, 'train_examples_per_second': 223.13159254805458, 'train_sample_size': 10, 'epoch': 14}\n",
            "[2021-04-19 04:37:58 +0000] [universal_transformer] [INFO] {'val_loss': 10.397055864334106, 'val_examples_per_second': 583.8779503609941, 'val_sample_size': 10, 'epoch': 14}\n",
            "[2021-04-19 04:37:58 +0000] [universal_transformer] [INFO] {'train_loss': 6.109931707382202, 'train_examples_per_second': 202.81178255304118, 'train_sample_size': 10, 'epoch': 15}\n",
            "[2021-04-19 04:37:58 +0000] [universal_transformer] [INFO] {'val_loss': 10.762346148490906, 'val_examples_per_second': 507.2223903356612, 'val_sample_size': 10, 'epoch': 15}\n",
            "[2021-04-19 04:37:58 +0000] [universal_transformer] [INFO] {'train_loss': 6.061933398246765, 'train_examples_per_second': 231.38097001600548, 'train_sample_size': 10, 'epoch': 16}\n",
            "[2021-04-19 04:37:58 +0000] [universal_transformer] [INFO] {'val_loss': 10.603559732437134, 'val_examples_per_second': 571.4203429759355, 'val_sample_size': 10, 'epoch': 16}\n",
            "[2021-04-19 04:37:58 +0000] [universal_transformer] [INFO] {'train_loss': 6.202813386917114, 'train_examples_per_second': 218.4957433316021, 'train_sample_size': 10, 'epoch': 17}\n",
            "[2021-04-19 04:37:58 +0000] [universal_transformer] [INFO] {'val_loss': 10.655097007751465, 'val_examples_per_second': 609.7167633968235, 'val_sample_size': 10, 'epoch': 17}\n",
            "[2021-04-19 04:37:58 +0000] [universal_transformer] [INFO] {'train_loss': 6.493189573287964, 'train_examples_per_second': 207.78824848210314, 'train_sample_size': 10, 'epoch': 18}\n",
            "[2021-04-19 04:37:58 +0000] [universal_transformer] [INFO] {'val_loss': 10.61183786392212, 'val_examples_per_second': 576.6856044410728, 'val_sample_size': 10, 'epoch': 18}\n",
            "[2021-04-19 04:37:58 +0000] [universal_transformer] [INFO] {'train_loss': 6.067971706390381, 'train_examples_per_second': 237.60067229522306, 'train_sample_size': 10, 'epoch': 19}\n",
            "[2021-04-19 04:37:58 +0000] [universal_transformer] [INFO] {'val_loss': 10.969836950302124, 'val_examples_per_second': 607.3702435423004, 'val_sample_size': 10, 'epoch': 19}\n",
            "[2021-04-19 04:37:58 +0000] [universal_transformer] [INFO] {'train_loss': 6.171323776245117, 'train_examples_per_second': 225.2763436741603, 'train_sample_size': 10, 'epoch': 20}\n",
            "[2021-04-19 04:37:58 +0000] [universal_transformer] [INFO] {'val_loss': 10.676525831222534, 'val_examples_per_second': 595.1587053161562, 'val_sample_size': 10, 'epoch': 20}\n",
            "\n",
            "\u001b[34m\u001b[1mwandb\u001b[0m: Waiting for W&B process to finish, PID 740\n",
            "\u001b[34m\u001b[1mwandb\u001b[0m: Program ended successfully.\n",
            "\u001b[34m\u001b[1mwandb\u001b[0m: Find user logs for this run at: /content/drive/MyDrive/ga_tech/deep_learning/final_project/universal_transformer/wandb/offline-run-20210419_043721-2cvu4469/logs/debug.log\n",
            "\u001b[34m\u001b[1mwandb\u001b[0m: Find internal logs for this run at: /content/drive/MyDrive/ga_tech/deep_learning/final_project/universal_transformer/wandb/offline-run-20210419_043721-2cvu4469/logs/debug-internal.log\n",
            "\u001b[34m\u001b[1mwandb\u001b[0m: Run summary:\n",
            "\u001b[34m\u001b[1mwandb\u001b[0m:                  val_loss_min 9.65941\n",
            "\u001b[34m\u001b[1mwandb\u001b[0m:   val_examples_per_second_min 445.85897\n",
            "\u001b[34m\u001b[1mwandb\u001b[0m:           val_sample_size_min 10.0\n",
            "\u001b[34m\u001b[1mwandb\u001b[0m:                  val_loss_max 13.45315\n",
            "\u001b[34m\u001b[1mwandb\u001b[0m:   val_examples_per_second_max 623.16905\n",
            "\u001b[34m\u001b[1mwandb\u001b[0m:           val_sample_size_max 10.0\n",
            "\u001b[34m\u001b[1mwandb\u001b[0m:                    train_loss 6.17132\n",
            "\u001b[34m\u001b[1mwandb\u001b[0m:     train_examples_per_second 225.27634\n",
            "\u001b[34m\u001b[1mwandb\u001b[0m:             train_sample_size 10\n",
            "\u001b[34m\u001b[1mwandb\u001b[0m:                         epoch 20\n",
            "\u001b[34m\u001b[1mwandb\u001b[0m:                      val_loss 10.67653\n",
            "\u001b[34m\u001b[1mwandb\u001b[0m:       val_examples_per_second 595.15871\n",
            "\u001b[34m\u001b[1mwandb\u001b[0m:               val_sample_size 10\n",
            "\u001b[34m\u001b[1mwandb\u001b[0m:                      _runtime 37\n",
            "\u001b[34m\u001b[1mwandb\u001b[0m:                    _timestamp 1618807078\n",
            "\u001b[34m\u001b[1mwandb\u001b[0m:                         _step 20\n",
            "\u001b[34m\u001b[1mwandb\u001b[0m: Run history:\n",
            "\u001b[34m\u001b[1mwandb\u001b[0m:                  train_loss █▅▄▃▂▂▁▁▁▁▁▁▁▁▁▁▁▁▁▁\n",
            "\u001b[34m\u001b[1mwandb\u001b[0m:   train_examples_per_second ▁▅▆█▄▆▆▆▆▇▅▅█▆▄▇▅▄▇▆\n",
            "\u001b[34m\u001b[1mwandb\u001b[0m:           train_sample_size ▁▁▁▁▁▁▁▁▁▁▁▁▁▁▁▁▁▁▁▁\n",
            "\u001b[34m\u001b[1mwandb\u001b[0m:                       epoch ▁▁▂▂▂▃▃▄▄▄▅▅▅▆▆▇▇▇██\n",
            "\u001b[34m\u001b[1mwandb\u001b[0m:                    val_loss █▃▁▁▁▁▂▂▂▂▂▂▃▂▃▃▃▃▃▃\n",
            "\u001b[34m\u001b[1mwandb\u001b[0m:     val_examples_per_second ▇▇▁██▃██▇▆▇▆▅▆▃▆▇▆▇▇\n",
            "\u001b[34m\u001b[1mwandb\u001b[0m:             val_sample_size ▁▁▁▁▁▁▁▁▁▁▁▁▁▁▁▁▁▁▁▁\n",
            "\u001b[34m\u001b[1mwandb\u001b[0m:                    _runtime ▁▁▁▁▁▁▁▁▁▅▅▅▅▅▅▅▅▅▅█\n",
            "\u001b[34m\u001b[1mwandb\u001b[0m:                  _timestamp ▁▁▁▁▁▁▁▁▁▁▁█████████\n",
            "\u001b[34m\u001b[1mwandb\u001b[0m:                       _step ▁▁▂▂▂▃▃▄▄▄▅▅▅▆▆▇▇▇██\n",
            "\u001b[34m\u001b[1mwandb\u001b[0m: \n",
            "\u001b[34m\u001b[1mwandb\u001b[0m: You can sync this run to the cloud by running:\n",
            "\u001b[34m\u001b[1mwandb\u001b[0m: \u001b[33mwandb sync /content/drive/MyDrive/ga_tech/deep_learning/final_project/universal_transformer/wandb/offline-run-20210419_043721-2cvu4469\u001b[0m\n"
          ],
          "name": "stdout"
        }
      ]
    }
  ]
}