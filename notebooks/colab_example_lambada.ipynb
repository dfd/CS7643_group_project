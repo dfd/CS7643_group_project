{
  "nbformat": 4,
  "nbformat_minor": 0,
  "metadata": {
    "colab": {
      "name": "check_colab.ipynb",
      "provenance": [],
      "collapsed_sections": [],
      "include_colab_link": true
    },
    "kernelspec": {
      "name": "python3",
      "display_name": "Python 3"
    },
    "language_info": {
      "name": "python"
    },
    "accelerator": "GPU"
  },
  "cells": [
    {
      "cell_type": "markdown",
      "metadata": {
        "id": "view-in-github",
        "colab_type": "text"
      },
      "source": [
        "<a href=\"https://colab.research.google.com/github/dfd/CS7643_group_project/blob/master/notebooks/colab_example_lambada.ipynb\" target=\"_parent\"><img src=\"https://colab.research.google.com/assets/colab-badge.svg\" alt=\"Open In Colab\"/></a>"
      ]
    },
    {
      "cell_type": "code",
      "metadata": {
        "colab": {
          "base_uri": "https://localhost:8080/"
        },
        "id": "x6HaQBaoyItq",
        "outputId": "e922038b-2d82-4f23-a61d-3d4e35aeed5f"
      },
      "source": [
        "!pwd"
      ],
      "execution_count": 1,
      "outputs": [
        {
          "output_type": "stream",
          "text": [
            "/content\n"
          ],
          "name": "stdout"
        }
      ]
    },
    {
      "cell_type": "code",
      "metadata": {
        "colab": {
          "base_uri": "https://localhost:8080/"
        },
        "id": "eos6LSutyMwY",
        "outputId": "2d2cfb79-0313-4f17-a489-ec1f57fae38a"
      },
      "source": [
        "ls"
      ],
      "execution_count": 2,
      "outputs": [
        {
          "output_type": "stream",
          "text": [
            "\u001b[0m\u001b[01;34msample_data\u001b[0m/\n"
          ],
          "name": "stdout"
        }
      ]
    },
    {
      "cell_type": "code",
      "metadata": {
        "colab": {
          "base_uri": "https://localhost:8080/"
        },
        "id": "ZFkJzRrtb-4V",
        "outputId": "ca0a526f-36fc-4648-9525-4bc08f27ac5b"
      },
      "source": [
        "!git clone https://github.com/dfd/CS7643_group_project"
      ],
      "execution_count": 3,
      "outputs": [
        {
          "output_type": "stream",
          "text": [
            "Cloning into 'CS7643_group_project'...\n",
            "remote: Enumerating objects: 593, done.\u001b[K\n",
            "remote: Counting objects: 100% (593/593), done.\u001b[K\n",
            "remote: Compressing objects: 100% (397/397), done.\u001b[K\n",
            "remote: Total 593 (delta 304), reused 476 (delta 194), pack-reused 0\u001b[K\n",
            "Receiving objects: 100% (593/593), 14.77 MiB | 13.98 MiB/s, done.\n",
            "Resolving deltas: 100% (304/304), done.\n"
          ],
          "name": "stdout"
        }
      ]
    },
    {
      "cell_type": "code",
      "metadata": {
        "colab": {
          "base_uri": "https://localhost:8080/"
        },
        "id": "XwNFbzN9cHx7",
        "outputId": "2e7fb4c4-f9bd-4e91-b92c-b0118e70199d"
      },
      "source": [
        "cd CS7643_group_project"
      ],
      "execution_count": 4,
      "outputs": [
        {
          "output_type": "stream",
          "text": [
            "/content/CS7643_group_project\n"
          ],
          "name": "stdout"
        }
      ]
    },
    {
      "cell_type": "code",
      "metadata": {
        "colab": {
          "base_uri": "https://localhost:8080/"
        },
        "id": "1jYCSYqSL-ae",
        "outputId": "588bcea7-4897-456a-e998-0ed7c65940cf"
      },
      "source": [
        "!pip install torch==1.8.1\n",
        "!pip install spacy\n",
        "!pip install wandb\n",
        "!pip install transformers\n",
        "!pip install datasets\n",
        "!pip install torchtext\n",
        "!python -m spacy download en_core_web_md"
      ],
      "execution_count": 5,
      "outputs": [
        {
          "output_type": "stream",
          "text": [
            "Requirement already satisfied: torch==1.8.1 in /usr/local/lib/python3.7/dist-packages (1.8.1+cu101)\n",
            "Requirement already satisfied: numpy in /usr/local/lib/python3.7/dist-packages (from torch==1.8.1) (1.19.5)\n",
            "Requirement already satisfied: typing-extensions in /usr/local/lib/python3.7/dist-packages (from torch==1.8.1) (3.7.4.3)\n",
            "Requirement already satisfied: spacy in /usr/local/lib/python3.7/dist-packages (2.2.4)\n",
            "Requirement already satisfied: numpy>=1.15.0 in /usr/local/lib/python3.7/dist-packages (from spacy) (1.19.5)\n",
            "Requirement already satisfied: plac<1.2.0,>=0.9.6 in /usr/local/lib/python3.7/dist-packages (from spacy) (1.1.3)\n",
            "Requirement already satisfied: cymem<2.1.0,>=2.0.2 in /usr/local/lib/python3.7/dist-packages (from spacy) (2.0.5)\n",
            "Requirement already satisfied: wasabi<1.1.0,>=0.4.0 in /usr/local/lib/python3.7/dist-packages (from spacy) (0.8.2)\n",
            "Requirement already satisfied: catalogue<1.1.0,>=0.0.7 in /usr/local/lib/python3.7/dist-packages (from spacy) (1.0.0)\n",
            "Requirement already satisfied: srsly<1.1.0,>=1.0.2 in /usr/local/lib/python3.7/dist-packages (from spacy) (1.0.5)\n",
            "Requirement already satisfied: thinc==7.4.0 in /usr/local/lib/python3.7/dist-packages (from spacy) (7.4.0)\n",
            "Requirement already satisfied: requests<3.0.0,>=2.13.0 in /usr/local/lib/python3.7/dist-packages (from spacy) (2.23.0)\n",
            "Requirement already satisfied: preshed<3.1.0,>=3.0.2 in /usr/local/lib/python3.7/dist-packages (from spacy) (3.0.5)\n",
            "Requirement already satisfied: murmurhash<1.1.0,>=0.28.0 in /usr/local/lib/python3.7/dist-packages (from spacy) (1.0.5)\n",
            "Requirement already satisfied: tqdm<5.0.0,>=4.38.0 in /usr/local/lib/python3.7/dist-packages (from spacy) (4.41.1)\n",
            "Requirement already satisfied: setuptools in /usr/local/lib/python3.7/dist-packages (from spacy) (56.0.0)\n",
            "Requirement already satisfied: blis<0.5.0,>=0.4.0 in /usr/local/lib/python3.7/dist-packages (from spacy) (0.4.1)\n",
            "Requirement already satisfied: importlib-metadata>=0.20; python_version < \"3.8\" in /usr/local/lib/python3.7/dist-packages (from catalogue<1.1.0,>=0.0.7->spacy) (3.10.1)\n",
            "Requirement already satisfied: certifi>=2017.4.17 in /usr/local/lib/python3.7/dist-packages (from requests<3.0.0,>=2.13.0->spacy) (2020.12.5)\n",
            "Requirement already satisfied: idna<3,>=2.5 in /usr/local/lib/python3.7/dist-packages (from requests<3.0.0,>=2.13.0->spacy) (2.10)\n",
            "Requirement already satisfied: chardet<4,>=3.0.2 in /usr/local/lib/python3.7/dist-packages (from requests<3.0.0,>=2.13.0->spacy) (3.0.4)\n",
            "Requirement already satisfied: urllib3!=1.25.0,!=1.25.1,<1.26,>=1.21.1 in /usr/local/lib/python3.7/dist-packages (from requests<3.0.0,>=2.13.0->spacy) (1.24.3)\n",
            "Requirement already satisfied: typing-extensions>=3.6.4; python_version < \"3.8\" in /usr/local/lib/python3.7/dist-packages (from importlib-metadata>=0.20; python_version < \"3.8\"->catalogue<1.1.0,>=0.0.7->spacy) (3.7.4.3)\n",
            "Requirement already satisfied: zipp>=0.5 in /usr/local/lib/python3.7/dist-packages (from importlib-metadata>=0.20; python_version < \"3.8\"->catalogue<1.1.0,>=0.0.7->spacy) (3.4.1)\n",
            "Collecting wandb\n",
            "\u001b[?25l  Downloading https://files.pythonhosted.org/packages/5c/ee/d755f9e5466df64c8416a2c6a860fb3aaa43ed6ea8e8e8e81460fda5788b/wandb-0.10.28-py2.py3-none-any.whl (2.1MB)\n",
            "\u001b[K     |████████████████████████████████| 2.1MB 2.9MB/s \n",
            "\u001b[?25hRequirement already satisfied: requests<3,>=2.0.0 in /usr/local/lib/python3.7/dist-packages (from wandb) (2.23.0)\n",
            "Collecting shortuuid>=0.5.0\n",
            "  Downloading https://files.pythonhosted.org/packages/25/a6/2ecc1daa6a304e7f1b216f0896b26156b78e7c38e1211e9b798b4716c53d/shortuuid-1.0.1-py3-none-any.whl\n",
            "Requirement already satisfied: six>=1.13.0 in /usr/local/lib/python3.7/dist-packages (from wandb) (1.15.0)\n",
            "Requirement already satisfied: psutil>=5.0.0 in /usr/local/lib/python3.7/dist-packages (from wandb) (5.4.8)\n",
            "Collecting subprocess32>=3.5.3\n",
            "\u001b[?25l  Downloading https://files.pythonhosted.org/packages/32/c8/564be4d12629b912ea431f1a50eb8b3b9d00f1a0b1ceff17f266be190007/subprocess32-3.5.4.tar.gz (97kB)\n",
            "\u001b[K     |████████████████████████████████| 102kB 6.6MB/s \n",
            "\u001b[?25hRequirement already satisfied: python-dateutil>=2.6.1 in /usr/local/lib/python3.7/dist-packages (from wandb) (2.8.1)\n",
            "Collecting docker-pycreds>=0.4.0\n",
            "  Downloading https://files.pythonhosted.org/packages/f5/e8/f6bd1eee09314e7e6dee49cbe2c5e22314ccdb38db16c9fc72d2fa80d054/docker_pycreds-0.4.0-py2.py3-none-any.whl\n",
            "Requirement already satisfied: protobuf>=3.12.0 in /usr/local/lib/python3.7/dist-packages (from wandb) (3.12.4)\n",
            "Requirement already satisfied: PyYAML in /usr/local/lib/python3.7/dist-packages (from wandb) (3.13)\n",
            "Collecting sentry-sdk>=0.4.0\n",
            "\u001b[?25l  Downloading https://files.pythonhosted.org/packages/f3/92/5a33be64990ba815364a8f2dd9e6f51de60d23dfddafb4f1fc5577d4dc64/sentry_sdk-1.0.0-py2.py3-none-any.whl (131kB)\n",
            "\u001b[K     |████████████████████████████████| 133kB 11.7MB/s \n",
            "\u001b[?25hCollecting pathtools\n",
            "  Downloading https://files.pythonhosted.org/packages/e7/7f/470d6fcdf23f9f3518f6b0b76be9df16dcc8630ad409947f8be2eb0ed13a/pathtools-0.1.2.tar.gz\n",
            "Requirement already satisfied: promise<3,>=2.0 in /usr/local/lib/python3.7/dist-packages (from wandb) (2.3)\n",
            "Collecting GitPython>=1.0.0\n",
            "\u001b[?25l  Downloading https://files.pythonhosted.org/packages/a6/99/98019716955ba243657daedd1de8f3a88ca1f5b75057c38e959db22fb87b/GitPython-3.1.14-py3-none-any.whl (159kB)\n",
            "\u001b[K     |████████████████████████████████| 163kB 12.0MB/s \n",
            "\u001b[?25hRequirement already satisfied: Click>=7.0 in /usr/local/lib/python3.7/dist-packages (from wandb) (7.1.2)\n",
            "Collecting configparser>=3.8.1\n",
            "  Downloading https://files.pythonhosted.org/packages/fd/01/ff260a18caaf4457eb028c96eeb405c4a230ca06c8ec9c1379f813caa52e/configparser-5.0.2-py3-none-any.whl\n",
            "Requirement already satisfied: certifi>=2017.4.17 in /usr/local/lib/python3.7/dist-packages (from requests<3,>=2.0.0->wandb) (2020.12.5)\n",
            "Requirement already satisfied: idna<3,>=2.5 in /usr/local/lib/python3.7/dist-packages (from requests<3,>=2.0.0->wandb) (2.10)\n",
            "Requirement already satisfied: chardet<4,>=3.0.2 in /usr/local/lib/python3.7/dist-packages (from requests<3,>=2.0.0->wandb) (3.0.4)\n",
            "Requirement already satisfied: urllib3!=1.25.0,!=1.25.1,<1.26,>=1.21.1 in /usr/local/lib/python3.7/dist-packages (from requests<3,>=2.0.0->wandb) (1.24.3)\n",
            "Requirement already satisfied: setuptools in /usr/local/lib/python3.7/dist-packages (from protobuf>=3.12.0->wandb) (56.0.0)\n",
            "Collecting gitdb<5,>=4.0.1\n",
            "\u001b[?25l  Downloading https://files.pythonhosted.org/packages/ea/e8/f414d1a4f0bbc668ed441f74f44c116d9816833a48bf81d22b697090dba8/gitdb-4.0.7-py3-none-any.whl (63kB)\n",
            "\u001b[K     |████████████████████████████████| 71kB 5.8MB/s \n",
            "\u001b[?25hCollecting smmap<5,>=3.0.1\n",
            "  Downloading https://files.pythonhosted.org/packages/68/ee/d540eb5e5996eb81c26ceffac6ee49041d473bc5125f2aa995cf51ec1cf1/smmap-4.0.0-py2.py3-none-any.whl\n",
            "Building wheels for collected packages: subprocess32, pathtools\n",
            "  Building wheel for subprocess32 (setup.py) ... \u001b[?25l\u001b[?25hdone\n",
            "  Created wheel for subprocess32: filename=subprocess32-3.5.4-cp37-none-any.whl size=6489 sha256=9116d4753560af1d2c1fc6dca82a44dbb0bd49b3259b33255080a5d2dc0fa1c1\n",
            "  Stored in directory: /root/.cache/pip/wheels/68/39/1a/5e402bdfdf004af1786c8b853fd92f8c4a04f22aad179654d1\n",
            "  Building wheel for pathtools (setup.py) ... \u001b[?25l\u001b[?25hdone\n",
            "  Created wheel for pathtools: filename=pathtools-0.1.2-cp37-none-any.whl size=8786 sha256=b5333d4c9c5b7f939826ea3b42d0aeb914cd48a8ef8de44fa7351d2e7729caa7\n",
            "  Stored in directory: /root/.cache/pip/wheels/0b/04/79/c3b0c3a0266a3cb4376da31e5bfe8bba0c489246968a68e843\n",
            "Successfully built subprocess32 pathtools\n",
            "Installing collected packages: shortuuid, subprocess32, docker-pycreds, sentry-sdk, pathtools, smmap, gitdb, GitPython, configparser, wandb\n",
            "Successfully installed GitPython-3.1.14 configparser-5.0.2 docker-pycreds-0.4.0 gitdb-4.0.7 pathtools-0.1.2 sentry-sdk-1.0.0 shortuuid-1.0.1 smmap-4.0.0 subprocess32-3.5.4 wandb-0.10.28\n",
            "Collecting transformers\n",
            "\u001b[?25l  Downloading https://files.pythonhosted.org/packages/d8/b2/57495b5309f09fa501866e225c84532d1fd89536ea62406b2181933fb418/transformers-4.5.1-py3-none-any.whl (2.1MB)\n",
            "\u001b[K     |████████████████████████████████| 2.1MB 3.8MB/s \n",
            "\u001b[?25hRequirement already satisfied: requests in /usr/local/lib/python3.7/dist-packages (from transformers) (2.23.0)\n",
            "Requirement already satisfied: numpy>=1.17 in /usr/local/lib/python3.7/dist-packages (from transformers) (1.19.5)\n",
            "Collecting tokenizers<0.11,>=0.10.1\n",
            "\u001b[?25l  Downloading https://files.pythonhosted.org/packages/ae/04/5b870f26a858552025a62f1649c20d29d2672c02ff3c3fb4c688ca46467a/tokenizers-0.10.2-cp37-cp37m-manylinux2010_x86_64.whl (3.3MB)\n",
            "\u001b[K     |████████████████████████████████| 3.3MB 11.9MB/s \n",
            "\u001b[?25hRequirement already satisfied: regex!=2019.12.17 in /usr/local/lib/python3.7/dist-packages (from transformers) (2019.12.20)\n",
            "Requirement already satisfied: importlib-metadata; python_version < \"3.8\" in /usr/local/lib/python3.7/dist-packages (from transformers) (3.10.1)\n",
            "Requirement already satisfied: filelock in /usr/local/lib/python3.7/dist-packages (from transformers) (3.0.12)\n",
            "Collecting sacremoses\n",
            "\u001b[?25l  Downloading https://files.pythonhosted.org/packages/75/ee/67241dc87f266093c533a2d4d3d69438e57d7a90abb216fa076e7d475d4a/sacremoses-0.0.45-py3-none-any.whl (895kB)\n",
            "\u001b[K     |████████████████████████████████| 901kB 28.7MB/s \n",
            "\u001b[?25hRequirement already satisfied: packaging in /usr/local/lib/python3.7/dist-packages (from transformers) (20.9)\n",
            "Requirement already satisfied: tqdm>=4.27 in /usr/local/lib/python3.7/dist-packages (from transformers) (4.41.1)\n",
            "Requirement already satisfied: idna<3,>=2.5 in /usr/local/lib/python3.7/dist-packages (from requests->transformers) (2.10)\n",
            "Requirement already satisfied: certifi>=2017.4.17 in /usr/local/lib/python3.7/dist-packages (from requests->transformers) (2020.12.5)\n",
            "Requirement already satisfied: urllib3!=1.25.0,!=1.25.1,<1.26,>=1.21.1 in /usr/local/lib/python3.7/dist-packages (from requests->transformers) (1.24.3)\n",
            "Requirement already satisfied: chardet<4,>=3.0.2 in /usr/local/lib/python3.7/dist-packages (from requests->transformers) (3.0.4)\n",
            "Requirement already satisfied: typing-extensions>=3.6.4; python_version < \"3.8\" in /usr/local/lib/python3.7/dist-packages (from importlib-metadata; python_version < \"3.8\"->transformers) (3.7.4.3)\n",
            "Requirement already satisfied: zipp>=0.5 in /usr/local/lib/python3.7/dist-packages (from importlib-metadata; python_version < \"3.8\"->transformers) (3.4.1)\n",
            "Requirement already satisfied: six in /usr/local/lib/python3.7/dist-packages (from sacremoses->transformers) (1.15.0)\n",
            "Requirement already satisfied: joblib in /usr/local/lib/python3.7/dist-packages (from sacremoses->transformers) (1.0.1)\n",
            "Requirement already satisfied: click in /usr/local/lib/python3.7/dist-packages (from sacremoses->transformers) (7.1.2)\n",
            "Requirement already satisfied: pyparsing>=2.0.2 in /usr/local/lib/python3.7/dist-packages (from packaging->transformers) (2.4.7)\n",
            "Installing collected packages: tokenizers, sacremoses, transformers\n",
            "Successfully installed sacremoses-0.0.45 tokenizers-0.10.2 transformers-4.5.1\n",
            "Collecting datasets\n",
            "\u001b[?25l  Downloading https://files.pythonhosted.org/packages/46/1a/b9f9b3bfef624686ae81c070f0a6bb635047b17cdb3698c7ad01281e6f9a/datasets-1.6.2-py3-none-any.whl (221kB)\n",
            "\u001b[K     |████████████████████████████████| 225kB 3.9MB/s \n",
            "\u001b[?25hRequirement already satisfied: tqdm<4.50.0,>=4.27 in /usr/local/lib/python3.7/dist-packages (from datasets) (4.41.1)\n",
            "Requirement already satisfied: dill in /usr/local/lib/python3.7/dist-packages (from datasets) (0.3.3)\n",
            "Requirement already satisfied: packaging in /usr/local/lib/python3.7/dist-packages (from datasets) (20.9)\n",
            "Collecting fsspec\n",
            "\u001b[?25l  Downloading https://files.pythonhosted.org/packages/e9/91/2ef649137816850fa4f4c97c6f2eabb1a79bf0aa2c8ed198e387e373455e/fsspec-2021.4.0-py3-none-any.whl (108kB)\n",
            "\u001b[K     |████████████████████████████████| 112kB 33.8MB/s \n",
            "\u001b[?25hCollecting huggingface-hub<0.1.0\n",
            "  Downloading https://files.pythonhosted.org/packages/a1/88/7b1e45720ecf59c6c6737ff332f41c955963090a18e72acbcbeac6b25e86/huggingface_hub-0.0.8-py3-none-any.whl\n",
            "Requirement already satisfied: numpy>=1.17 in /usr/local/lib/python3.7/dist-packages (from datasets) (1.19.5)\n",
            "Requirement already satisfied: importlib-metadata; python_version < \"3.8\" in /usr/local/lib/python3.7/dist-packages (from datasets) (3.10.1)\n",
            "Collecting xxhash\n",
            "\u001b[?25l  Downloading https://files.pythonhosted.org/packages/7d/4f/0a862cad26aa2ed7a7cd87178cbbfa824fc1383e472d63596a0d018374e7/xxhash-2.0.2-cp37-cp37m-manylinux2010_x86_64.whl (243kB)\n",
            "\u001b[K     |████████████████████████████████| 245kB 39.2MB/s \n",
            "\u001b[?25hRequirement already satisfied: requests>=2.19.0 in /usr/local/lib/python3.7/dist-packages (from datasets) (2.23.0)\n",
            "Requirement already satisfied: pandas in /usr/local/lib/python3.7/dist-packages (from datasets) (1.1.5)\n",
            "Requirement already satisfied: multiprocess in /usr/local/lib/python3.7/dist-packages (from datasets) (0.70.11.1)\n",
            "Requirement already satisfied: pyarrow>=1.0.0<4.0.0 in /usr/local/lib/python3.7/dist-packages (from datasets) (3.0.0)\n",
            "Requirement already satisfied: pyparsing>=2.0.2 in /usr/local/lib/python3.7/dist-packages (from packaging->datasets) (2.4.7)\n",
            "Requirement already satisfied: filelock in /usr/local/lib/python3.7/dist-packages (from huggingface-hub<0.1.0->datasets) (3.0.12)\n",
            "Requirement already satisfied: zipp>=0.5 in /usr/local/lib/python3.7/dist-packages (from importlib-metadata; python_version < \"3.8\"->datasets) (3.4.1)\n",
            "Requirement already satisfied: typing-extensions>=3.6.4; python_version < \"3.8\" in /usr/local/lib/python3.7/dist-packages (from importlib-metadata; python_version < \"3.8\"->datasets) (3.7.4.3)\n",
            "Requirement already satisfied: chardet<4,>=3.0.2 in /usr/local/lib/python3.7/dist-packages (from requests>=2.19.0->datasets) (3.0.4)\n",
            "Requirement already satisfied: urllib3!=1.25.0,!=1.25.1,<1.26,>=1.21.1 in /usr/local/lib/python3.7/dist-packages (from requests>=2.19.0->datasets) (1.24.3)\n",
            "Requirement already satisfied: idna<3,>=2.5 in /usr/local/lib/python3.7/dist-packages (from requests>=2.19.0->datasets) (2.10)\n",
            "Requirement already satisfied: certifi>=2017.4.17 in /usr/local/lib/python3.7/dist-packages (from requests>=2.19.0->datasets) (2020.12.5)\n",
            "Requirement already satisfied: python-dateutil>=2.7.3 in /usr/local/lib/python3.7/dist-packages (from pandas->datasets) (2.8.1)\n",
            "Requirement already satisfied: pytz>=2017.2 in /usr/local/lib/python3.7/dist-packages (from pandas->datasets) (2018.9)\n",
            "Requirement already satisfied: six>=1.5 in /usr/local/lib/python3.7/dist-packages (from python-dateutil>=2.7.3->pandas->datasets) (1.15.0)\n",
            "Installing collected packages: fsspec, huggingface-hub, xxhash, datasets\n",
            "Successfully installed datasets-1.6.2 fsspec-2021.4.0 huggingface-hub-0.0.8 xxhash-2.0.2\n",
            "Requirement already satisfied: torchtext in /usr/local/lib/python3.7/dist-packages (0.9.1)\n",
            "Requirement already satisfied: requests in /usr/local/lib/python3.7/dist-packages (from torchtext) (2.23.0)\n",
            "Requirement already satisfied: tqdm in /usr/local/lib/python3.7/dist-packages (from torchtext) (4.41.1)\n",
            "Requirement already satisfied: torch==1.8.1 in /usr/local/lib/python3.7/dist-packages (from torchtext) (1.8.1+cu101)\n",
            "Requirement already satisfied: numpy in /usr/local/lib/python3.7/dist-packages (from torchtext) (1.19.5)\n",
            "Requirement already satisfied: chardet<4,>=3.0.2 in /usr/local/lib/python3.7/dist-packages (from requests->torchtext) (3.0.4)\n",
            "Requirement already satisfied: idna<3,>=2.5 in /usr/local/lib/python3.7/dist-packages (from requests->torchtext) (2.10)\n",
            "Requirement already satisfied: urllib3!=1.25.0,!=1.25.1,<1.26,>=1.21.1 in /usr/local/lib/python3.7/dist-packages (from requests->torchtext) (1.24.3)\n",
            "Requirement already satisfied: certifi>=2017.4.17 in /usr/local/lib/python3.7/dist-packages (from requests->torchtext) (2020.12.5)\n",
            "Requirement already satisfied: typing-extensions in /usr/local/lib/python3.7/dist-packages (from torch==1.8.1->torchtext) (3.7.4.3)\n",
            "Collecting en_core_web_md==2.2.5\n",
            "\u001b[?25l  Downloading https://github.com/explosion/spacy-models/releases/download/en_core_web_md-2.2.5/en_core_web_md-2.2.5.tar.gz (96.4MB)\n",
            "\u001b[K     |████████████████████████████████| 96.4MB 1.2MB/s \n",
            "\u001b[?25hRequirement already satisfied: spacy>=2.2.2 in /usr/local/lib/python3.7/dist-packages (from en_core_web_md==2.2.5) (2.2.4)\n",
            "Requirement already satisfied: wasabi<1.1.0,>=0.4.0 in /usr/local/lib/python3.7/dist-packages (from spacy>=2.2.2->en_core_web_md==2.2.5) (0.8.2)\n",
            "Requirement already satisfied: tqdm<5.0.0,>=4.38.0 in /usr/local/lib/python3.7/dist-packages (from spacy>=2.2.2->en_core_web_md==2.2.5) (4.41.1)\n",
            "Requirement already satisfied: preshed<3.1.0,>=3.0.2 in /usr/local/lib/python3.7/dist-packages (from spacy>=2.2.2->en_core_web_md==2.2.5) (3.0.5)\n",
            "Requirement already satisfied: murmurhash<1.1.0,>=0.28.0 in /usr/local/lib/python3.7/dist-packages (from spacy>=2.2.2->en_core_web_md==2.2.5) (1.0.5)\n",
            "Requirement already satisfied: catalogue<1.1.0,>=0.0.7 in /usr/local/lib/python3.7/dist-packages (from spacy>=2.2.2->en_core_web_md==2.2.5) (1.0.0)\n",
            "Requirement already satisfied: setuptools in /usr/local/lib/python3.7/dist-packages (from spacy>=2.2.2->en_core_web_md==2.2.5) (56.0.0)\n",
            "Requirement already satisfied: srsly<1.1.0,>=1.0.2 in /usr/local/lib/python3.7/dist-packages (from spacy>=2.2.2->en_core_web_md==2.2.5) (1.0.5)\n",
            "Requirement already satisfied: numpy>=1.15.0 in /usr/local/lib/python3.7/dist-packages (from spacy>=2.2.2->en_core_web_md==2.2.5) (1.19.5)\n",
            "Requirement already satisfied: requests<3.0.0,>=2.13.0 in /usr/local/lib/python3.7/dist-packages (from spacy>=2.2.2->en_core_web_md==2.2.5) (2.23.0)\n",
            "Requirement already satisfied: blis<0.5.0,>=0.4.0 in /usr/local/lib/python3.7/dist-packages (from spacy>=2.2.2->en_core_web_md==2.2.5) (0.4.1)\n",
            "Requirement already satisfied: plac<1.2.0,>=0.9.6 in /usr/local/lib/python3.7/dist-packages (from spacy>=2.2.2->en_core_web_md==2.2.5) (1.1.3)\n",
            "Requirement already satisfied: cymem<2.1.0,>=2.0.2 in /usr/local/lib/python3.7/dist-packages (from spacy>=2.2.2->en_core_web_md==2.2.5) (2.0.5)\n",
            "Requirement already satisfied: thinc==7.4.0 in /usr/local/lib/python3.7/dist-packages (from spacy>=2.2.2->en_core_web_md==2.2.5) (7.4.0)\n",
            "Requirement already satisfied: importlib-metadata>=0.20; python_version < \"3.8\" in /usr/local/lib/python3.7/dist-packages (from catalogue<1.1.0,>=0.0.7->spacy>=2.2.2->en_core_web_md==2.2.5) (3.10.1)\n",
            "Requirement already satisfied: certifi>=2017.4.17 in /usr/local/lib/python3.7/dist-packages (from requests<3.0.0,>=2.13.0->spacy>=2.2.2->en_core_web_md==2.2.5) (2020.12.5)\n",
            "Requirement already satisfied: urllib3!=1.25.0,!=1.25.1,<1.26,>=1.21.1 in /usr/local/lib/python3.7/dist-packages (from requests<3.0.0,>=2.13.0->spacy>=2.2.2->en_core_web_md==2.2.5) (1.24.3)\n",
            "Requirement already satisfied: idna<3,>=2.5 in /usr/local/lib/python3.7/dist-packages (from requests<3.0.0,>=2.13.0->spacy>=2.2.2->en_core_web_md==2.2.5) (2.10)\n",
            "Requirement already satisfied: chardet<4,>=3.0.2 in /usr/local/lib/python3.7/dist-packages (from requests<3.0.0,>=2.13.0->spacy>=2.2.2->en_core_web_md==2.2.5) (3.0.4)\n",
            "Requirement already satisfied: typing-extensions>=3.6.4; python_version < \"3.8\" in /usr/local/lib/python3.7/dist-packages (from importlib-metadata>=0.20; python_version < \"3.8\"->catalogue<1.1.0,>=0.0.7->spacy>=2.2.2->en_core_web_md==2.2.5) (3.7.4.3)\n",
            "Requirement already satisfied: zipp>=0.5 in /usr/local/lib/python3.7/dist-packages (from importlib-metadata>=0.20; python_version < \"3.8\"->catalogue<1.1.0,>=0.0.7->spacy>=2.2.2->en_core_web_md==2.2.5) (3.4.1)\n",
            "Building wheels for collected packages: en-core-web-md\n",
            "  Building wheel for en-core-web-md (setup.py) ... \u001b[?25l\u001b[?25hdone\n",
            "  Created wheel for en-core-web-md: filename=en_core_web_md-2.2.5-cp37-none-any.whl size=98051305 sha256=7c6d5cd76931ebbf189deda95eaa7a236086c1f696b9063cd0752f7e4d9cd885\n",
            "  Stored in directory: /tmp/pip-ephem-wheel-cache-qf0ab0m5/wheels/df/94/ad/f5cf59224cea6b5686ac4fd1ad19c8a07bc026e13c36502d81\n",
            "Successfully built en-core-web-md\n",
            "Installing collected packages: en-core-web-md\n",
            "Successfully installed en-core-web-md-2.2.5\n",
            "\u001b[38;5;2m✔ Download and installation successful\u001b[0m\n",
            "You can now load the model via spacy.load('en_core_web_md')\n"
          ],
          "name": "stdout"
        }
      ]
    },
    {
      "cell_type": "code",
      "metadata": {
        "colab": {
          "base_uri": "https://localhost:8080/"
        },
        "id": "tzdvq6V4S5nY",
        "outputId": "c3bb50a2-3a3f-44cc-a95a-14d77dedc8ab"
      },
      "source": [
        "import wandb\n",
        "!wandb login"
      ],
      "execution_count": 31,
      "outputs": [
        {
          "output_type": "stream",
          "text": [
            "\u001b[34m\u001b[1mwandb\u001b[0m: You can find your API key in your browser here: https://wandb.ai/authorize\n",
            "\u001b[34m\u001b[1mwandb\u001b[0m: Paste an API key from your profile and hit enter: \n",
            "\u001b[34m\u001b[1mwandb\u001b[0m: Appending key for api.wandb.ai to your netrc file: /root/.netrc\n"
          ],
          "name": "stdout"
        }
      ]
    },
    {
      "cell_type": "code",
      "metadata": {
        "colab": {
          "base_uri": "https://localhost:8080/"
        },
        "id": "SzG0FvThb0Cv",
        "outputId": "5e14c17b-38d4-420b-f1b4-c89e042fffe1"
      },
      "source": [
        "ls"
      ],
      "execution_count": 37,
      "outputs": [
        {
          "output_type": "stream",
          "text": [
            "\u001b[0m\u001b[01;34mconfigs\u001b[0m/         \u001b[01;34mnotebooks\u001b[0m/  state_dict.pickle  train.py                \u001b[01;34mwandb\u001b[0m/\n",
            "environment.yml  setup.cfg   train_lambada.py   \u001b[01;34muniversal_transformer\u001b[0m/\n"
          ],
          "name": "stdout"
        }
      ]
    },
    {
      "cell_type": "code",
      "metadata": {
        "id": "ZSFQShinXLSi"
      },
      "source": [
        "#!WANDB_MODE=dryrun python train.py -c configs/depthwise_conv.yaml"
      ],
      "execution_count": 33,
      "outputs": []
    },
    {
      "cell_type": "code",
      "metadata": {
        "colab": {
          "base_uri": "https://localhost:8080/"
        },
        "id": "rHeKp5UlquQQ",
        "outputId": "744f7339-fcaf-4636-ff95-65d20f545b05"
      },
      "source": [
        "!rm universal_transformer/__pycache__/transformers.cpython-37.pyc\n",
        "!git pull origin master"
      ],
      "execution_count": 64,
      "outputs": [
        {
          "output_type": "stream",
          "text": [
            "remote: Enumerating objects: 7, done.\u001b[K\n",
            "remote: Counting objects:  14% (1/7)\u001b[K\rremote: Counting objects:  28% (2/7)\u001b[K\rremote: Counting objects:  42% (3/7)\u001b[K\rremote: Counting objects:  57% (4/7)\u001b[K\rremote: Counting objects:  71% (5/7)\u001b[K\rremote: Counting objects:  85% (6/7)\u001b[K\rremote: Counting objects: 100% (7/7)\u001b[K\rremote: Counting objects: 100% (7/7), done.\u001b[K\n",
            "remote: Compressing objects: 100% (1/1)\u001b[K\rremote: Compressing objects: 100% (1/1), done.\u001b[K\n",
            "remote: Total 4 (delta 3), reused 4 (delta 3), pack-reused 0\u001b[K\n",
            "Unpacking objects:  25% (1/4)   \rUnpacking objects:  50% (2/4)   \rUnpacking objects:  75% (3/4)   \rUnpacking objects: 100% (4/4)   \rUnpacking objects: 100% (4/4), done.\n",
            "From https://github.com/dfd/CS7643_group_project\n",
            " * branch            master     -> FETCH_HEAD\n",
            "   9660992..2d09ed9  master     -> origin/master\n",
            "Updating 9660992..2d09ed9\n",
            "Fast-forward\n",
            " universal_transformer/transformers.py | 9 \u001b[32m+++++++\u001b[m\u001b[31m--\u001b[m\n",
            " 1 file changed, 7 insertions(+), 2 deletions(-)\n"
          ],
          "name": "stdout"
        }
      ]
    },
    {
      "cell_type": "code",
      "metadata": {
        "colab": {
          "base_uri": "https://localhost:8080/"
        },
        "id": "0xtdYB6tdyqM",
        "outputId": "379ab490-17f1-4457-842c-f849a3eb1e9a"
      },
      "source": [
        "!WANDB_MODE=run python train_lambada.py --project ut_lambada -c configs/universal_lambada_test.yaml"
      ],
      "execution_count": 62,
      "outputs": [
        {
          "output_type": "stream",
          "text": [
            "2021-05-02 07:30:44.711279: I tensorflow/stream_executor/platform/default/dso_loader.cc:49] Successfully opened dynamic library libcudart.so.11.0\n",
            "\u001b[34m\u001b[1mwandb\u001b[0m: Currently logged in as: \u001b[33mdfd\u001b[0m (use `wandb login --relogin` to force relogin)\n",
            "2021-05-02 07:30:48.155516: I tensorflow/stream_executor/platform/default/dso_loader.cc:49] Successfully opened dynamic library libcudart.so.11.0\n",
            "\u001b[34m\u001b[1mwandb\u001b[0m: Tracking run with wandb version 0.10.28\n",
            "\u001b[34m\u001b[1mwandb\u001b[0m: Syncing run \u001b[33muniversal_lambada_test.yaml\u001b[0m\n",
            "\u001b[34m\u001b[1mwandb\u001b[0m: ⭐️ View project at \u001b[34m\u001b[4mhttps://wandb.ai/dfd/ut_lambada\u001b[0m\n",
            "\u001b[34m\u001b[1mwandb\u001b[0m: 🚀 View run at \u001b[34m\u001b[4mhttps://wandb.ai/dfd/ut_lambada/runs/hylxn54r\u001b[0m\n",
            "\u001b[34m\u001b[1mwandb\u001b[0m: Run data is saved locally in /content/CS7643_group_project/wandb/run-20210502_073046-hylxn54r\n",
            "\u001b[34m\u001b[1mwandb\u001b[0m: Run `wandb offline` to turn off syncing.\n",
            "\n",
            "using cuda\n",
            "Reusing dataset lambada (/root/.cache/huggingface/datasets/lambada/plain_text/1.1.0/e32d76a7236c9ebb30099bc73d677c3acf32ddffb411836fe9ffc091ad3f3bec)\n",
            "/content/CS7643_group_project/universal_transformer/datasets.py:73: FutureWarning: remove_columns_ is deprecated and will be removed in the next major version of datasets. Use Dataset.remove_columns instead.\n",
            "  train.remove_columns_(['domain'])\n",
            "tcmalloc: large alloc 1622974464 bytes == 0x5580fa3ae000 @  0x7f941e39ab6b 0x7f941e3ba379 0x7f93b55fa25e 0x7f93b55fb9d2 0x7f93f2ec2853 0x7f93f274a043 0x7f93f2c4b7d7 0x7f93f2c1ada0 0x7f93f2a75679 0x7f93f273a85a 0x7f93f2d491f3 0x7f93f2e8e89b 0x7f9403e355fa 0x557fe1a7e050 0x557fe1b6f99d 0x557fe1af1fe9 0x557fe1aece0d 0x557fe1a7f77a 0x557fe1aeda45 0x557fe1aecb0e 0x557fe1a8002c 0x557fe1ac0d39 0x557fe1abdc84 0x557fe1a80231 0x557fe1aef1e6 0x557fe1aecb0e 0x557fe1a7f77a 0x557fe1af1e50 0x557fe1a7f69a 0x557fe1aeda45 0x557fe1aecb0e\n",
            "torch.Size([1000, 203])\n",
            "torch.Size([1000, 203])\n",
            "torch.Size([1000, 203])\n",
            "data loaded\n",
            "alt kwargs\n",
            "6\n",
            "tcmalloc: large alloc 2186412032 bytes == 0x55815beb8000 @  0x7f941e39ab6b 0x7f941e3ba379 0x7f93b55fa25e 0x7f93b55fb9d2 0x7f93f2ec2853 0x7f93f274a043 0x7f93f2c4b7d7 0x7f93f2c1ada0 0x7f93f2a75679 0x7f93f273cd08 0x7f93f2d491aa 0x7f93f2eb5e62 0x7f93f2e8dbb2 0x7f9403d187de 0x7f9403e4485e 0x557fe1a7e050 0x557fe1b6f99d 0x557fe1af1fe9 0x557fe1b70858 0x557fe1aedee2 0x557fe1a7f69a 0x557fe1aeda45 0x557fe1aecb0e 0x557fe1aec813 0x557fe1bb6592 0x557fe1bb690d 0x557fe1bb67b6 0x557fe1b8e103 0x557fe1b8ddac 0x7f941d1a2bf7 0x557fe1b8dc8a\n",
            "train_lambada.py:81: UserWarning: To copy construct from a tensor, it is recommended to use sourceTensor.clone().detach() or sourceTensor.clone().detach().requires_grad_(True), rather than torch.tensor(sourceTensor).\n",
            "  torch.tensor(target_logits).cuda(), torch.tensor(target_words).cuda()\n",
            "tcmalloc: large alloc 2186412032 bytes == 0x55815beb8000 @  0x7f941e39ab6b 0x7f941e3ba379 0x7f93b55fa25e 0x7f93b55fb9d2 0x7f93f2ec2853 0x7f93f274a043 0x7f93f2c4b7d7 0x7f93f2c1ada0 0x7f93f2a75679 0x7f93f273cd08 0x7f93f2d491aa 0x7f93f2eb5e62 0x7f93f2e8dbb2 0x7f9403d187de 0x7f9403e4485e 0x557fe1a7e050 0x557fe1b6f99d 0x557fe1af1fe9 0x557fe1b70858 0x557fe1aedee2 0x557fe1a7f69a 0x557fe1aeda45 0x557fe1aecb0e 0x557fe1aec813 0x557fe1bb6592 0x557fe1bb690d 0x557fe1bb67b6 0x557fe1b8e103 0x557fe1b8ddac 0x7f941d1a2bf7 0x557fe1b8dc8a\n",
            "tcmalloc: large alloc 2186412032 bytes == 0x55815beb8000 @  0x7f941e39ab6b 0x7f941e3ba379 0x7f93b55fa25e 0x7f93b55fb9d2 0x7f93f2ec2853 0x7f93f274a043 0x7f93f2c4b7d7 0x7f93f2c1ada0 0x7f93f2a75679 0x7f93f273cd08 0x7f93f2d491aa 0x7f93f2eb5e62 0x7f93f2e8dbb2 0x7f9403d187de 0x7f9403e4485e 0x557fe1a7e050 0x557fe1b6f99d 0x557fe1af1fe9 0x557fe1b70858 0x557fe1aedee2 0x557fe1a7f69a 0x557fe1aeda45 0x557fe1aecb0e 0x557fe1aec813 0x557fe1bb6592 0x557fe1bb690d 0x557fe1bb67b6 0x557fe1b8e103 0x557fe1b8ddac 0x7f941d1a2bf7 0x557fe1b8dc8a\n",
            "tcmalloc: large alloc 2186412032 bytes == 0x55815beb8000 @  0x7f941e39ab6b 0x7f941e3ba379 0x7f93b55fa25e 0x7f93b55fb9d2 0x7f93f2ec2853 0x7f93f274a043 0x7f93f2c4b7d7 0x7f93f2c1ada0 0x7f93f2a75679 0x7f93f273cd08 0x7f93f2d491aa 0x7f93f2eb5e62 0x7f93f2e8dbb2 0x7f9403d187de 0x7f9403e4485e 0x557fe1a7e050 0x557fe1b6f99d 0x557fe1af1fe9 0x557fe1b70858 0x557fe1aedee2 0x557fe1a7f69a 0x557fe1aeda45 0x557fe1aecb0e 0x557fe1aec813 0x557fe1bb6592 0x557fe1bb690d 0x557fe1bb67b6 0x557fe1b8e103 0x557fe1b8ddac 0x7f941d1a2bf7 0x557fe1b8dc8a\n",
            "tcmalloc: large alloc 2186412032 bytes == 0x55815beb8000 @  0x7f941e39ab6b 0x7f941e3ba379 0x7f93b55fa25e 0x7f93b55fb9d2 0x7f93f2ec2853 0x7f93f274a043 0x7f93f2c4b7d7 0x7f93f2c1ada0 0x7f93f2a75679 0x7f93f273cd08 0x7f93f2d491aa 0x7f93f2eb5e62 0x7f93f2e8dbb2 0x7f9403d187de 0x7f9403e4485e 0x557fe1a7e050 0x557fe1b6f99d 0x557fe1af1fe9 0x557fe1b70858 0x557fe1aedee2 0x557fe1a7f69a 0x557fe1aeda45 0x557fe1aecb0e 0x557fe1aec813 0x557fe1bb6592 0x557fe1bb690d 0x557fe1bb67b6 0x557fe1b8e103 0x557fe1b8ddac 0x7f941d1a2bf7 0x557fe1b8dc8a\n",
            "tcmalloc: large alloc 2186412032 bytes == 0x55815beb8000 @  0x7f941e39ab6b 0x7f941e3ba379 0x7f93b55fa25e 0x7f93b55fb9d2 0x7f93f2ec2853 0x7f93f274a043 0x7f93f2c4b7d7 0x7f93f2c1ada0 0x7f93f2a75679 0x7f93f273cd08 0x7f93f2d491aa 0x7f93f2eb5e62 0x7f93f2e8dbb2 0x7f9403d187de 0x7f9403e4485e 0x557fe1a7e050 0x557fe1b6f99d 0x557fe1af1fe9 0x557fe1b70858 0x557fe1aedee2 0x557fe1a7f69a 0x557fe1aeda45 0x557fe1aecb0e 0x557fe1aec813 0x557fe1bb6592 0x557fe1bb690d 0x557fe1bb67b6 0x557fe1b8e103 0x557fe1b8ddac 0x7f941d1a2bf7 0x557fe1b8dc8a\n",
            "[2021-05-02 07:34:20 +0000] [universal_transformer] [INFO] {'train_loss': 10.81672957611084, 'train_perplexity': 49847.7967146268, 'train_accuracy': 0.0, 'train_target_perplexity': 49280.687641777404, 'train_runtime': 31.991749528999208, 'epoch': 1}\n",
            "[2021-05-02 07:34:43 +0000] [universal_transformer] [INFO] {'val_loss': 11.216295372009277, 'val_perplexity': 74331.89204145128, 'val_accuracy': 0.0, 'val_target_perplexity': 80598.5961807268, 'val_runtime': 22.83297809999931, 'epoch': 1}\n",
            "[2021-05-02 07:35:13 +0000] [universal_transformer] [INFO] {'train_loss': 9.289607315063476, 'train_perplexity': 10824.932475947502, 'train_accuracy': 0.0, 'train_target_perplexity': 10564.015092484675, 'train_runtime': 29.46990796099999, 'epoch': 2}\n",
            "[2021-05-02 07:35:36 +0000] [universal_transformer] [INFO] {'val_loss': 10.82589298248291, 'val_perplexity': 50306.67155007456, 'val_accuracy': 0.0, 'val_target_perplexity': 52240.70324376694, 'val_runtime': 22.88963927199802, 'epoch': 2}\n",
            "[2021-05-02 07:36:01 +0000] [universal_transformer] [INFO] {'test_loss': 11.224544311523438, 'test_perplexity': 74947.58724788831, 'test_accuracy': 0.0, 'test_target_perplexity': 83002.12133475165, 'test_runtime': 23.254125528997974, 'epoch': 2}\n",
            "\n",
            "\u001b[34m\u001b[1mwandb\u001b[0m: Waiting for W&B process to finish, PID 7484\n",
            "\u001b[34m\u001b[1mwandb\u001b[0m: Program ended successfully.\n",
            "\u001b[34m\u001b[1mwandb\u001b[0m:                                                                                \n",
            "\u001b[34m\u001b[1mwandb\u001b[0m: Find user logs for this run at: /content/CS7643_group_project/wandb/run-20210502_073046-hylxn54r/logs/debug.log\n",
            "\u001b[34m\u001b[1mwandb\u001b[0m: Find internal logs for this run at: /content/CS7643_group_project/wandb/run-20210502_073046-hylxn54r/logs/debug-internal.log\n",
            "\u001b[34m\u001b[1mwandb\u001b[0m: Run summary:\n",
            "\u001b[34m\u001b[1mwandb\u001b[0m:                 val_loss_min 10.82589\n",
            "\u001b[34m\u001b[1mwandb\u001b[0m:           val_perplexity_min 50306.67155\n",
            "\u001b[34m\u001b[1mwandb\u001b[0m:             val_accuracy_min 0.0\n",
            "\u001b[34m\u001b[1mwandb\u001b[0m:    val_target_perplexity_min 52240.70324\n",
            "\u001b[34m\u001b[1mwandb\u001b[0m:              val_runtime_min 22.83298\n",
            "\u001b[34m\u001b[1mwandb\u001b[0m:                 val_loss_max 11.2163\n",
            "\u001b[34m\u001b[1mwandb\u001b[0m:           val_perplexity_max 74331.89204\n",
            "\u001b[34m\u001b[1mwandb\u001b[0m:             val_accuracy_max 0.0\n",
            "\u001b[34m\u001b[1mwandb\u001b[0m:    val_target_perplexity_max 80598.59618\n",
            "\u001b[34m\u001b[1mwandb\u001b[0m:              val_runtime_max 22.88964\n",
            "\u001b[34m\u001b[1mwandb\u001b[0m:                   train_loss 9.28961\n",
            "\u001b[34m\u001b[1mwandb\u001b[0m:             train_perplexity 10824.93248\n",
            "\u001b[34m\u001b[1mwandb\u001b[0m:               train_accuracy 0.0\n",
            "\u001b[34m\u001b[1mwandb\u001b[0m:      train_target_perplexity 10564.01509\n",
            "\u001b[34m\u001b[1mwandb\u001b[0m:                train_runtime 29.46991\n",
            "\u001b[34m\u001b[1mwandb\u001b[0m:                        epoch 2\n",
            "\u001b[34m\u001b[1mwandb\u001b[0m:                     val_loss 10.82589\n",
            "\u001b[34m\u001b[1mwandb\u001b[0m:               val_perplexity 50306.67155\n",
            "\u001b[34m\u001b[1mwandb\u001b[0m:                 val_accuracy 0.0\n",
            "\u001b[34m\u001b[1mwandb\u001b[0m:        val_target_perplexity 52240.70324\n",
            "\u001b[34m\u001b[1mwandb\u001b[0m:                  val_runtime 22.88964\n",
            "\u001b[34m\u001b[1mwandb\u001b[0m:                     _runtime 314\n",
            "\u001b[34m\u001b[1mwandb\u001b[0m:                   _timestamp 1619940961\n",
            "\u001b[34m\u001b[1mwandb\u001b[0m:                        _step 2\n",
            "\u001b[34m\u001b[1mwandb\u001b[0m:                test_loss_min 11.22454\n",
            "\u001b[34m\u001b[1mwandb\u001b[0m:          test_perplexity_min 74947.58725\n",
            "\u001b[34m\u001b[1mwandb\u001b[0m:            test_accuracy_min 0.0\n",
            "\u001b[34m\u001b[1mwandb\u001b[0m:   test_target_perplexity_min 83002.12133\n",
            "\u001b[34m\u001b[1mwandb\u001b[0m:             test_runtime_min 23.25413\n",
            "\u001b[34m\u001b[1mwandb\u001b[0m:                test_loss_max 11.22454\n",
            "\u001b[34m\u001b[1mwandb\u001b[0m:          test_perplexity_max 74947.58725\n",
            "\u001b[34m\u001b[1mwandb\u001b[0m:            test_accuracy_max 0.0\n",
            "\u001b[34m\u001b[1mwandb\u001b[0m:   test_target_perplexity_max 83002.12133\n",
            "\u001b[34m\u001b[1mwandb\u001b[0m:             test_runtime_max 23.25413\n",
            "\u001b[34m\u001b[1mwandb\u001b[0m:                    test_loss 11.22454\n",
            "\u001b[34m\u001b[1mwandb\u001b[0m:              test_perplexity 74947.58725\n",
            "\u001b[34m\u001b[1mwandb\u001b[0m:                test_accuracy 0.0\n",
            "\u001b[34m\u001b[1mwandb\u001b[0m:       test_target_perplexity 83002.12133\n",
            "\u001b[34m\u001b[1mwandb\u001b[0m:                 test_runtime 23.25413\n",
            "\u001b[34m\u001b[1mwandb\u001b[0m: Run history:\n",
            "\u001b[34m\u001b[1mwandb\u001b[0m:                train_loss █▁\n",
            "\u001b[34m\u001b[1mwandb\u001b[0m:          train_perplexity █▁\n",
            "\u001b[34m\u001b[1mwandb\u001b[0m:            train_accuracy ▁▁\n",
            "\u001b[34m\u001b[1mwandb\u001b[0m:   train_target_perplexity █▁\n",
            "\u001b[34m\u001b[1mwandb\u001b[0m:             train_runtime █▁\n",
            "\u001b[34m\u001b[1mwandb\u001b[0m:                     epoch ▁█\n",
            "\u001b[34m\u001b[1mwandb\u001b[0m:                  val_loss █▁\n",
            "\u001b[34m\u001b[1mwandb\u001b[0m:            val_perplexity █▁\n",
            "\u001b[34m\u001b[1mwandb\u001b[0m:              val_accuracy ▁▁\n",
            "\u001b[34m\u001b[1mwandb\u001b[0m:     val_target_perplexity █▁\n",
            "\u001b[34m\u001b[1mwandb\u001b[0m:               val_runtime ▁█\n",
            "\u001b[34m\u001b[1mwandb\u001b[0m:                  _runtime ▁█\n",
            "\u001b[34m\u001b[1mwandb\u001b[0m:                _timestamp ▁█\n",
            "\u001b[34m\u001b[1mwandb\u001b[0m:                     _step ▁█\n",
            "\u001b[34m\u001b[1mwandb\u001b[0m:                 test_loss ▁\n",
            "\u001b[34m\u001b[1mwandb\u001b[0m:           test_perplexity ▁\n",
            "\u001b[34m\u001b[1mwandb\u001b[0m:             test_accuracy ▁\n",
            "\u001b[34m\u001b[1mwandb\u001b[0m:    test_target_perplexity ▁\n",
            "\u001b[34m\u001b[1mwandb\u001b[0m:              test_runtime ▁\n",
            "\u001b[34m\u001b[1mwandb\u001b[0m: \n",
            "\u001b[34m\u001b[1mwandb\u001b[0m: Synced 5 W&B file(s), 0 media file(s), 1 artifact file(s) and 0 other file(s)\n",
            "\u001b[34m\u001b[1mwandb\u001b[0m: \n",
            "\u001b[34m\u001b[1mwandb\u001b[0m: Synced \u001b[33muniversal_lambada_test.yaml\u001b[0m: \u001b[34mhttps://wandb.ai/dfd/ut_lambada/runs/hylxn54r\u001b[0m\n"
          ],
          "name": "stdout"
        }
      ]
    },
    {
      "cell_type": "code",
      "metadata": {
        "id": "c9nN02NBAbBi",
        "outputId": "f00fcb27-08bd-4cac-ec1d-880f8dc4a621",
        "colab": {
          "base_uri": "https://localhost:8080/"
        }
      },
      "source": [
        "!WANDB_MODE=run python train_lambada.py --project ut_lambada -c configs/vanilla_lambada_test.yaml"
      ],
      "execution_count": 65,
      "outputs": [
        {
          "output_type": "stream",
          "text": [
            "2021-05-02 07:44:11.339413: I tensorflow/stream_executor/platform/default/dso_loader.cc:49] Successfully opened dynamic library libcudart.so.11.0\n",
            "\u001b[34m\u001b[1mwandb\u001b[0m: Currently logged in as: \u001b[33mdfd\u001b[0m (use `wandb login --relogin` to force relogin)\n",
            "2021-05-02 07:44:14.853289: I tensorflow/stream_executor/platform/default/dso_loader.cc:49] Successfully opened dynamic library libcudart.so.11.0\n",
            "\u001b[34m\u001b[1mwandb\u001b[0m: Tracking run with wandb version 0.10.28\n",
            "\u001b[34m\u001b[1mwandb\u001b[0m: Syncing run \u001b[33mvanilla_lambada_test.yaml\u001b[0m\n",
            "\u001b[34m\u001b[1mwandb\u001b[0m: ⭐️ View project at \u001b[34m\u001b[4mhttps://wandb.ai/dfd/ut_lambada\u001b[0m\n",
            "\u001b[34m\u001b[1mwandb\u001b[0m: 🚀 View run at \u001b[34m\u001b[4mhttps://wandb.ai/dfd/ut_lambada/runs/12uyy2v3\u001b[0m\n",
            "\u001b[34m\u001b[1mwandb\u001b[0m: Run data is saved locally in /content/CS7643_group_project/wandb/run-20210502_074413-12uyy2v3\n",
            "\u001b[34m\u001b[1mwandb\u001b[0m: Run `wandb offline` to turn off syncing.\n",
            "\n",
            "using cuda\n",
            "Reusing dataset lambada (/root/.cache/huggingface/datasets/lambada/plain_text/1.1.0/e32d76a7236c9ebb30099bc73d677c3acf32ddffb411836fe9ffc091ad3f3bec)\n",
            "/content/CS7643_group_project/universal_transformer/datasets.py:73: FutureWarning: remove_columns_ is deprecated and will be removed in the next major version of datasets. Use Dataset.remove_columns instead.\n",
            "  train.remove_columns_(['domain'])\n",
            "tcmalloc: large alloc 1622974464 bytes == 0x5565cdddc000 @  0x7f97130a8b6b 0x7f97130c8379 0x7f96aa30825e 0x7f96aa3099d2 0x7f96e7bd0853 0x7f96e7458043 0x7f96e79597d7 0x7f96e7928da0 0x7f96e7783679 0x7f96e744885a 0x7f96e7a571f3 0x7f96e7b9c89b 0x7f96f8b435fa 0x5564b7231050 0x5564b732299d 0x5564b72a4fe9 0x5564b729fe0d 0x5564b723277a 0x5564b72a0a45 0x5564b729fb0e 0x5564b723302c 0x5564b7273d39 0x5564b7270c84 0x5564b7233231 0x5564b72a21e6 0x5564b729fb0e 0x5564b723277a 0x5564b72a4e50 0x5564b723269a 0x5564b72a0a45 0x5564b729fb0e\n",
            "torch.Size([1000, 203])\n",
            "torch.Size([1000, 203])\n",
            "torch.Size([1000, 203])\n",
            "data loaded\n",
            "alt kwargs\n",
            "tcmalloc: large alloc 2186412032 bytes == 0x55662f8e6000 @  0x7f97130a8b6b 0x7f97130c8379 0x7f96aa30825e 0x7f96aa3099d2 0x7f96e7bd0853 0x7f96e7458043 0x7f96e79597d7 0x7f96e7928da0 0x7f96e7783679 0x7f96e744ad08 0x7f96e7a571aa 0x7f96e7bc3e62 0x7f96e7b9bbb2 0x7f96f8a267de 0x7f96f8b5285e 0x5564b7231050 0x5564b732299d 0x5564b72a4fe9 0x5564b7323858 0x5564b72a0ee2 0x5564b723269a 0x5564b72a0a45 0x5564b729fb0e 0x5564b729f813 0x5564b7369592 0x5564b736990d 0x5564b73697b6 0x5564b7341103 0x5564b7340dac 0x7f9711eb0bf7 0x5564b7340c8a\n",
            "train_lambada.py:81: UserWarning: To copy construct from a tensor, it is recommended to use sourceTensor.clone().detach() or sourceTensor.clone().detach().requires_grad_(True), rather than torch.tensor(sourceTensor).\n",
            "  torch.tensor(target_logits).cuda(), torch.tensor(target_words).cuda()\n",
            "tcmalloc: large alloc 2186412032 bytes == 0x55662f8e6000 @  0x7f97130a8b6b 0x7f97130c8379 0x7f96aa30825e 0x7f96aa3099d2 0x7f96e7bd0853 0x7f96e7458043 0x7f96e79597d7 0x7f96e7928da0 0x7f96e7783679 0x7f96e744ad08 0x7f96e7a571aa 0x7f96e7bc3e62 0x7f96e7b9bbb2 0x7f96f8a267de 0x7f96f8b5285e 0x5564b7231050 0x5564b732299d 0x5564b72a4fe9 0x5564b7323858 0x5564b72a0ee2 0x5564b723269a 0x5564b72a0a45 0x5564b729fb0e 0x5564b729f813 0x5564b7369592 0x5564b736990d 0x5564b73697b6 0x5564b7341103 0x5564b7340dac 0x7f9711eb0bf7 0x5564b7340c8a\n",
            "tcmalloc: large alloc 2186412032 bytes == 0x55662f8e6000 @  0x7f97130a8b6b 0x7f97130c8379 0x7f96aa30825e 0x7f96aa3099d2 0x7f96e7bd0853 0x7f96e7458043 0x7f96e79597d7 0x7f96e7928da0 0x7f96e7783679 0x7f96e744ad08 0x7f96e7a571aa 0x7f96e7bc3e62 0x7f96e7b9bbb2 0x7f96f8a267de 0x7f96f8b5285e 0x5564b7231050 0x5564b732299d 0x5564b72a4fe9 0x5564b7323858 0x5564b72a0ee2 0x5564b723269a 0x5564b72a0a45 0x5564b729fb0e 0x5564b729f813 0x5564b7369592 0x5564b736990d 0x5564b73697b6 0x5564b7341103 0x5564b7340dac 0x7f9711eb0bf7 0x5564b7340c8a\n",
            "tcmalloc: large alloc 2186412032 bytes == 0x55662f8e6000 @  0x7f97130a8b6b 0x7f97130c8379 0x7f96aa30825e 0x7f96aa3099d2 0x7f96e7bd0853 0x7f96e7458043 0x7f96e79597d7 0x7f96e7928da0 0x7f96e7783679 0x7f96e744ad08 0x7f96e7a571aa 0x7f96e7bc3e62 0x7f96e7b9bbb2 0x7f96f8a267de 0x7f96f8b5285e 0x5564b7231050 0x5564b732299d 0x5564b72a4fe9 0x5564b7323858 0x5564b72a0ee2 0x5564b723269a 0x5564b72a0a45 0x5564b729fb0e 0x5564b729f813 0x5564b7369592 0x5564b736990d 0x5564b73697b6 0x5564b7341103 0x5564b7340dac 0x7f9711eb0bf7 0x5564b7340c8a\n",
            "tcmalloc: large alloc 2186412032 bytes == 0x55662f8e6000 @  0x7f97130a8b6b 0x7f97130c8379 0x7f96aa30825e 0x7f96aa3099d2 0x7f96e7bd0853 0x7f96e7458043 0x7f96e79597d7 0x7f96e7928da0 0x7f96e7783679 0x7f96e744ad08 0x7f96e7a571aa 0x7f96e7bc3e62 0x7f96e7b9bbb2 0x7f96f8a267de 0x7f96f8b5285e 0x5564b7231050 0x5564b732299d 0x5564b72a4fe9 0x5564b7323858 0x5564b72a0ee2 0x5564b723269a 0x5564b72a0a45 0x5564b729fb0e 0x5564b729f813 0x5564b7369592 0x5564b736990d 0x5564b73697b6 0x5564b7341103 0x5564b7340dac 0x7f9711eb0bf7 0x5564b7340c8a\n",
            "tcmalloc: large alloc 2186412032 bytes == 0x55662f8e6000 @  0x7f97130a8b6b 0x7f97130c8379 0x7f96aa30825e 0x7f96aa3099d2 0x7f96e7bd0853 0x7f96e7458043 0x7f96e79597d7 0x7f96e7928da0 0x7f96e7783679 0x7f96e744ad08 0x7f96e7a571aa 0x7f96e7bc3e62 0x7f96e7b9bbb2 0x7f96f8a267de 0x7f96f8b5285e 0x5564b7231050 0x5564b732299d 0x5564b72a4fe9 0x5564b7323858 0x5564b72a0ee2 0x5564b723269a 0x5564b72a0a45 0x5564b729fb0e 0x5564b729f813 0x5564b7369592 0x5564b736990d 0x5564b73697b6 0x5564b7341103 0x5564b7340dac 0x7f9711eb0bf7 0x5564b7340c8a\n",
            "[2021-05-02 07:47:52 +0000] [universal_transformer] [INFO] {'train_loss': 9.71618013381958, 'train_perplexity': 16583.775780926317, 'train_accuracy': 0.0, 'train_target_perplexity': 17024.732465621873, 'train_runtime': 35.683834894996835, 'epoch': 1}\n",
            "[2021-05-02 07:48:17 +0000] [universal_transformer] [INFO] {'val_loss': 10.07930436706543, 'val_perplexity': 23844.39282659334, 'val_accuracy': 0.0, 'val_target_perplexity': 78268.10969611525, 'val_runtime': 24.4735247550052, 'epoch': 1}\n",
            "[2021-05-02 07:48:52 +0000] [universal_transformer] [INFO] {'train_loss': 7.026290576934814, 'train_perplexity': 1125.8466134811063, 'train_accuracy': 0.0, 'train_target_perplexity': 1145.3159772789606, 'train_runtime': 34.68963400299981, 'epoch': 2}\n",
            "[2021-05-02 07:49:17 +0000] [universal_transformer] [INFO] {'val_loss': 9.512892387390137, 'val_perplexity': 13533.080674697834, 'val_accuracy': 0.0, 'val_target_perplexity': 45281.60949498991, 'val_runtime': 24.549672036999254, 'epoch': 2}\n",
            "[2021-05-02 07:49:44 +0000] [universal_transformer] [INFO] {'test_loss': 10.073127388000488, 'test_perplexity': 23697.56046835497, 'test_accuracy': 0.0, 'test_target_perplexity': 80781.89504638361, 'test_runtime': 24.718860799999675, 'epoch': 2}\n",
            "\n",
            "\u001b[34m\u001b[1mwandb\u001b[0m: Waiting for W&B process to finish, PID 7707\n",
            "\u001b[34m\u001b[1mwandb\u001b[0m: Program ended successfully.\n",
            "\u001b[34m\u001b[1mwandb\u001b[0m:                                                                                \n",
            "\u001b[34m\u001b[1mwandb\u001b[0m: Find user logs for this run at: /content/CS7643_group_project/wandb/run-20210502_074413-12uyy2v3/logs/debug.log\n",
            "\u001b[34m\u001b[1mwandb\u001b[0m: Find internal logs for this run at: /content/CS7643_group_project/wandb/run-20210502_074413-12uyy2v3/logs/debug-internal.log\n",
            "\u001b[34m\u001b[1mwandb\u001b[0m: Run summary:\n",
            "\u001b[34m\u001b[1mwandb\u001b[0m:                 val_loss_min 9.51289\n",
            "\u001b[34m\u001b[1mwandb\u001b[0m:           val_perplexity_min 13533.08067\n",
            "\u001b[34m\u001b[1mwandb\u001b[0m:             val_accuracy_min 0.0\n",
            "\u001b[34m\u001b[1mwandb\u001b[0m:    val_target_perplexity_min 45281.60949\n",
            "\u001b[34m\u001b[1mwandb\u001b[0m:              val_runtime_min 24.47352\n",
            "\u001b[34m\u001b[1mwandb\u001b[0m:                 val_loss_max 10.0793\n",
            "\u001b[34m\u001b[1mwandb\u001b[0m:           val_perplexity_max 23844.39283\n",
            "\u001b[34m\u001b[1mwandb\u001b[0m:             val_accuracy_max 0.0\n",
            "\u001b[34m\u001b[1mwandb\u001b[0m:    val_target_perplexity_max 78268.1097\n",
            "\u001b[34m\u001b[1mwandb\u001b[0m:              val_runtime_max 24.54967\n",
            "\u001b[34m\u001b[1mwandb\u001b[0m:                   train_loss 7.02629\n",
            "\u001b[34m\u001b[1mwandb\u001b[0m:             train_perplexity 1125.84661\n",
            "\u001b[34m\u001b[1mwandb\u001b[0m:               train_accuracy 0.0\n",
            "\u001b[34m\u001b[1mwandb\u001b[0m:      train_target_perplexity 1145.31598\n",
            "\u001b[34m\u001b[1mwandb\u001b[0m:                train_runtime 34.68963\n",
            "\u001b[34m\u001b[1mwandb\u001b[0m:                        epoch 2\n",
            "\u001b[34m\u001b[1mwandb\u001b[0m:                     val_loss 9.51289\n",
            "\u001b[34m\u001b[1mwandb\u001b[0m:               val_perplexity 13533.08067\n",
            "\u001b[34m\u001b[1mwandb\u001b[0m:                 val_accuracy 0.0\n",
            "\u001b[34m\u001b[1mwandb\u001b[0m:        val_target_perplexity 45281.60949\n",
            "\u001b[34m\u001b[1mwandb\u001b[0m:                  val_runtime 24.54967\n",
            "\u001b[34m\u001b[1mwandb\u001b[0m:                     _runtime 331\n",
            "\u001b[34m\u001b[1mwandb\u001b[0m:                   _timestamp 1619941784\n",
            "\u001b[34m\u001b[1mwandb\u001b[0m:                        _step 2\n",
            "\u001b[34m\u001b[1mwandb\u001b[0m:                test_loss_min 10.07313\n",
            "\u001b[34m\u001b[1mwandb\u001b[0m:          test_perplexity_min 23697.56047\n",
            "\u001b[34m\u001b[1mwandb\u001b[0m:            test_accuracy_min 0.0\n",
            "\u001b[34m\u001b[1mwandb\u001b[0m:   test_target_perplexity_min 80781.89505\n",
            "\u001b[34m\u001b[1mwandb\u001b[0m:             test_runtime_min 24.71886\n",
            "\u001b[34m\u001b[1mwandb\u001b[0m:                test_loss_max 10.07313\n",
            "\u001b[34m\u001b[1mwandb\u001b[0m:          test_perplexity_max 23697.56047\n",
            "\u001b[34m\u001b[1mwandb\u001b[0m:            test_accuracy_max 0.0\n",
            "\u001b[34m\u001b[1mwandb\u001b[0m:   test_target_perplexity_max 80781.89505\n",
            "\u001b[34m\u001b[1mwandb\u001b[0m:             test_runtime_max 24.71886\n",
            "\u001b[34m\u001b[1mwandb\u001b[0m:                    test_loss 10.07313\n",
            "\u001b[34m\u001b[1mwandb\u001b[0m:              test_perplexity 23697.56047\n",
            "\u001b[34m\u001b[1mwandb\u001b[0m:                test_accuracy 0.0\n",
            "\u001b[34m\u001b[1mwandb\u001b[0m:       test_target_perplexity 80781.89505\n",
            "\u001b[34m\u001b[1mwandb\u001b[0m:                 test_runtime 24.71886\n",
            "\u001b[34m\u001b[1mwandb\u001b[0m: Run history:\n",
            "\u001b[34m\u001b[1mwandb\u001b[0m:                train_loss █▁\n",
            "\u001b[34m\u001b[1mwandb\u001b[0m:          train_perplexity █▁\n",
            "\u001b[34m\u001b[1mwandb\u001b[0m:            train_accuracy ▁▁\n",
            "\u001b[34m\u001b[1mwandb\u001b[0m:   train_target_perplexity █▁\n",
            "\u001b[34m\u001b[1mwandb\u001b[0m:             train_runtime █▁\n",
            "\u001b[34m\u001b[1mwandb\u001b[0m:                     epoch ▁█\n",
            "\u001b[34m\u001b[1mwandb\u001b[0m:                  val_loss █▁\n",
            "\u001b[34m\u001b[1mwandb\u001b[0m:            val_perplexity █▁\n",
            "\u001b[34m\u001b[1mwandb\u001b[0m:              val_accuracy ▁▁\n",
            "\u001b[34m\u001b[1mwandb\u001b[0m:     val_target_perplexity █▁\n",
            "\u001b[34m\u001b[1mwandb\u001b[0m:               val_runtime ▁█\n",
            "\u001b[34m\u001b[1mwandb\u001b[0m:                  _runtime ▁█\n",
            "\u001b[34m\u001b[1mwandb\u001b[0m:                _timestamp ▁█\n",
            "\u001b[34m\u001b[1mwandb\u001b[0m:                     _step ▁█\n",
            "\u001b[34m\u001b[1mwandb\u001b[0m:                 test_loss ▁\n",
            "\u001b[34m\u001b[1mwandb\u001b[0m:           test_perplexity ▁\n",
            "\u001b[34m\u001b[1mwandb\u001b[0m:             test_accuracy ▁\n",
            "\u001b[34m\u001b[1mwandb\u001b[0m:    test_target_perplexity ▁\n",
            "\u001b[34m\u001b[1mwandb\u001b[0m:              test_runtime ▁\n",
            "\u001b[34m\u001b[1mwandb\u001b[0m: \n",
            "\u001b[34m\u001b[1mwandb\u001b[0m: Synced 5 W&B file(s), 0 media file(s), 1 artifact file(s) and 0 other file(s)\n",
            "\u001b[34m\u001b[1mwandb\u001b[0m: \n",
            "\u001b[34m\u001b[1mwandb\u001b[0m: Synced \u001b[33mvanilla_lambada_test.yaml\u001b[0m: \u001b[34mhttps://wandb.ai/dfd/ut_lambada/runs/12uyy2v3\u001b[0m\n"
          ],
          "name": "stdout"
        }
      ]
    },
    {
      "cell_type": "code",
      "metadata": {
        "id": "ImU7HwohAk3-"
      },
      "source": [
        ""
      ],
      "execution_count": null,
      "outputs": []
    }
  ]
}