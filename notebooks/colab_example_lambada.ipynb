{
  "nbformat": 4,
  "nbformat_minor": 0,
  "metadata": {
    "colab": {
      "name": "check_colab.ipynb",
      "provenance": [],
      "collapsed_sections": [],
      "include_colab_link": true
    },
    "kernelspec": {
      "name": "python3",
      "display_name": "Python 3"
    },
    "language_info": {
      "name": "python"
    },
    "accelerator": "GPU"
  },
  "cells": [
    {
      "cell_type": "markdown",
      "metadata": {
        "id": "view-in-github",
        "colab_type": "text"
      },
      "source": [
        "<a href=\"https://colab.research.google.com/github/dfd/CS7643_group_project/blob/master/notebooks/colab_example_lambada.ipynb\" target=\"_parent\"><img src=\"https://colab.research.google.com/assets/colab-badge.svg\" alt=\"Open In Colab\"/></a>"
      ]
    },
    {
      "cell_type": "code",
      "metadata": {
        "colab": {
          "base_uri": "https://localhost:8080/"
        },
        "id": "x6HaQBaoyItq",
        "outputId": "2ccaee8c-e3d0-40bd-9863-d766da55d960"
      },
      "source": [
        "!pwd"
      ],
      "execution_count": 1,
      "outputs": [
        {
          "output_type": "stream",
          "text": [
            "/content\n"
          ],
          "name": "stdout"
        }
      ]
    },
    {
      "cell_type": "code",
      "metadata": {
        "colab": {
          "base_uri": "https://localhost:8080/"
        },
        "id": "eos6LSutyMwY",
        "outputId": "f8d1b95b-5814-4690-803c-ac0771b18bf4"
      },
      "source": [
        "ls"
      ],
      "execution_count": 2,
      "outputs": [
        {
          "output_type": "stream",
          "text": [
            "\u001b[0m\u001b[01;34msample_data\u001b[0m/\n"
          ],
          "name": "stdout"
        }
      ]
    },
    {
      "cell_type": "code",
      "metadata": {
        "colab": {
          "base_uri": "https://localhost:8080/"
        },
        "id": "ZFkJzRrtb-4V",
        "outputId": "fc2063b3-490a-44a3-80a7-3eb6dcc4b8cc"
      },
      "source": [
        "!git clone https://github.com/dfd/CS7643_group_project"
      ],
      "execution_count": 3,
      "outputs": [
        {
          "output_type": "stream",
          "text": [
            "Cloning into 'CS7643_group_project'...\n",
            "remote: Enumerating objects: 721, done.\u001b[K\n",
            "remote: Counting objects: 100% (721/721), done.\u001b[K\n",
            "remote: Compressing objects: 100% (487/487), done.\u001b[K\n",
            "remote: Total 721 (delta 399), reused 543 (delta 232), pack-reused 0\u001b[K\n",
            "Receiving objects: 100% (721/721), 14.79 MiB | 15.24 MiB/s, done.\n",
            "Resolving deltas: 100% (399/399), done.\n"
          ],
          "name": "stdout"
        }
      ]
    },
    {
      "cell_type": "code",
      "metadata": {
        "colab": {
          "base_uri": "https://localhost:8080/"
        },
        "id": "XwNFbzN9cHx7",
        "outputId": "c34bfffe-1669-48ec-f0f6-e9206149330f"
      },
      "source": [
        "cd CS7643_group_project"
      ],
      "execution_count": 4,
      "outputs": [
        {
          "output_type": "stream",
          "text": [
            "/content/CS7643_group_project\n"
          ],
          "name": "stdout"
        }
      ]
    },
    {
      "cell_type": "code",
      "metadata": {
        "colab": {
          "base_uri": "https://localhost:8080/"
        },
        "id": "1jYCSYqSL-ae",
        "outputId": "976fb854-db94-41f7-f0c4-0a0a02ef845d"
      },
      "source": [
        "!pip install torch==1.8.1\n",
        "!pip install spacy\n",
        "!pip install wandb\n",
        "!pip install transformers\n",
        "!pip install datasets\n",
        "!pip install torchtext\n",
        "!python -m spacy download en_core_web_md"
      ],
      "execution_count": 5,
      "outputs": [
        {
          "output_type": "stream",
          "text": [
            "Requirement already satisfied: torch==1.8.1 in /usr/local/lib/python3.7/dist-packages (1.8.1+cu101)\n",
            "Requirement already satisfied: typing-extensions in /usr/local/lib/python3.7/dist-packages (from torch==1.8.1) (3.7.4.3)\n",
            "Requirement already satisfied: numpy in /usr/local/lib/python3.7/dist-packages (from torch==1.8.1) (1.19.5)\n",
            "Requirement already satisfied: spacy in /usr/local/lib/python3.7/dist-packages (2.2.4)\n",
            "Requirement already satisfied: murmurhash<1.1.0,>=0.28.0 in /usr/local/lib/python3.7/dist-packages (from spacy) (1.0.5)\n",
            "Requirement already satisfied: requests<3.0.0,>=2.13.0 in /usr/local/lib/python3.7/dist-packages (from spacy) (2.23.0)\n",
            "Requirement already satisfied: srsly<1.1.0,>=1.0.2 in /usr/local/lib/python3.7/dist-packages (from spacy) (1.0.5)\n",
            "Requirement already satisfied: blis<0.5.0,>=0.4.0 in /usr/local/lib/python3.7/dist-packages (from spacy) (0.4.1)\n",
            "Requirement already satisfied: tqdm<5.0.0,>=4.38.0 in /usr/local/lib/python3.7/dist-packages (from spacy) (4.41.1)\n",
            "Requirement already satisfied: numpy>=1.15.0 in /usr/local/lib/python3.7/dist-packages (from spacy) (1.19.5)\n",
            "Requirement already satisfied: setuptools in /usr/local/lib/python3.7/dist-packages (from spacy) (56.0.0)\n",
            "Requirement already satisfied: preshed<3.1.0,>=3.0.2 in /usr/local/lib/python3.7/dist-packages (from spacy) (3.0.5)\n",
            "Requirement already satisfied: thinc==7.4.0 in /usr/local/lib/python3.7/dist-packages (from spacy) (7.4.0)\n",
            "Requirement already satisfied: catalogue<1.1.0,>=0.0.7 in /usr/local/lib/python3.7/dist-packages (from spacy) (1.0.0)\n",
            "Requirement already satisfied: plac<1.2.0,>=0.9.6 in /usr/local/lib/python3.7/dist-packages (from spacy) (1.1.3)\n",
            "Requirement already satisfied: cymem<2.1.0,>=2.0.2 in /usr/local/lib/python3.7/dist-packages (from spacy) (2.0.5)\n",
            "Requirement already satisfied: wasabi<1.1.0,>=0.4.0 in /usr/local/lib/python3.7/dist-packages (from spacy) (0.8.2)\n",
            "Requirement already satisfied: idna<3,>=2.5 in /usr/local/lib/python3.7/dist-packages (from requests<3.0.0,>=2.13.0->spacy) (2.10)\n",
            "Requirement already satisfied: certifi>=2017.4.17 in /usr/local/lib/python3.7/dist-packages (from requests<3.0.0,>=2.13.0->spacy) (2020.12.5)\n",
            "Requirement already satisfied: urllib3!=1.25.0,!=1.25.1,<1.26,>=1.21.1 in /usr/local/lib/python3.7/dist-packages (from requests<3.0.0,>=2.13.0->spacy) (1.24.3)\n",
            "Requirement already satisfied: chardet<4,>=3.0.2 in /usr/local/lib/python3.7/dist-packages (from requests<3.0.0,>=2.13.0->spacy) (3.0.4)\n",
            "Requirement already satisfied: importlib-metadata>=0.20; python_version < \"3.8\" in /usr/local/lib/python3.7/dist-packages (from catalogue<1.1.0,>=0.0.7->spacy) (3.10.1)\n",
            "Requirement already satisfied: zipp>=0.5 in /usr/local/lib/python3.7/dist-packages (from importlib-metadata>=0.20; python_version < \"3.8\"->catalogue<1.1.0,>=0.0.7->spacy) (3.4.1)\n",
            "Requirement already satisfied: typing-extensions>=3.6.4; python_version < \"3.8\" in /usr/local/lib/python3.7/dist-packages (from importlib-metadata>=0.20; python_version < \"3.8\"->catalogue<1.1.0,>=0.0.7->spacy) (3.7.4.3)\n",
            "Collecting wandb\n",
            "\u001b[?25l  Downloading https://files.pythonhosted.org/packages/5c/ee/d755f9e5466df64c8416a2c6a860fb3aaa43ed6ea8e8e8e81460fda5788b/wandb-0.10.28-py2.py3-none-any.whl (2.1MB)\n",
            "\u001b[K     |████████████████████████████████| 2.1MB 13.3MB/s \n",
            "\u001b[?25hCollecting docker-pycreds>=0.4.0\n",
            "  Downloading https://files.pythonhosted.org/packages/f5/e8/f6bd1eee09314e7e6dee49cbe2c5e22314ccdb38db16c9fc72d2fa80d054/docker_pycreds-0.4.0-py2.py3-none-any.whl\n",
            "Collecting GitPython>=1.0.0\n",
            "\u001b[?25l  Downloading https://files.pythonhosted.org/packages/a6/99/98019716955ba243657daedd1de8f3a88ca1f5b75057c38e959db22fb87b/GitPython-3.1.14-py3-none-any.whl (159kB)\n",
            "\u001b[K     |████████████████████████████████| 163kB 49.2MB/s \n",
            "\u001b[?25hRequirement already satisfied: promise<3,>=2.0 in /usr/local/lib/python3.7/dist-packages (from wandb) (2.3)\n",
            "Collecting shortuuid>=0.5.0\n",
            "  Downloading https://files.pythonhosted.org/packages/25/a6/2ecc1daa6a304e7f1b216f0896b26156b78e7c38e1211e9b798b4716c53d/shortuuid-1.0.1-py3-none-any.whl\n",
            "Requirement already satisfied: Click>=7.0 in /usr/local/lib/python3.7/dist-packages (from wandb) (7.1.2)\n",
            "Requirement already satisfied: six>=1.13.0 in /usr/local/lib/python3.7/dist-packages (from wandb) (1.15.0)\n",
            "Collecting pathtools\n",
            "  Downloading https://files.pythonhosted.org/packages/e7/7f/470d6fcdf23f9f3518f6b0b76be9df16dcc8630ad409947f8be2eb0ed13a/pathtools-0.1.2.tar.gz\n",
            "Collecting configparser>=3.8.1\n",
            "  Downloading https://files.pythonhosted.org/packages/fd/01/ff260a18caaf4457eb028c96eeb405c4a230ca06c8ec9c1379f813caa52e/configparser-5.0.2-py3-none-any.whl\n",
            "Requirement already satisfied: requests<3,>=2.0.0 in /usr/local/lib/python3.7/dist-packages (from wandb) (2.23.0)\n",
            "Collecting sentry-sdk>=0.4.0\n",
            "\u001b[?25l  Downloading https://files.pythonhosted.org/packages/f3/92/5a33be64990ba815364a8f2dd9e6f51de60d23dfddafb4f1fc5577d4dc64/sentry_sdk-1.0.0-py2.py3-none-any.whl (131kB)\n",
            "\u001b[K     |████████████████████████████████| 133kB 56.3MB/s \n",
            "\u001b[?25hRequirement already satisfied: psutil>=5.0.0 in /usr/local/lib/python3.7/dist-packages (from wandb) (5.4.8)\n",
            "Requirement already satisfied: PyYAML in /usr/local/lib/python3.7/dist-packages (from wandb) (3.13)\n",
            "Collecting subprocess32>=3.5.3\n",
            "\u001b[?25l  Downloading https://files.pythonhosted.org/packages/32/c8/564be4d12629b912ea431f1a50eb8b3b9d00f1a0b1ceff17f266be190007/subprocess32-3.5.4.tar.gz (97kB)\n",
            "\u001b[K     |████████████████████████████████| 102kB 13.9MB/s \n",
            "\u001b[?25hRequirement already satisfied: protobuf>=3.12.0 in /usr/local/lib/python3.7/dist-packages (from wandb) (3.12.4)\n",
            "Requirement already satisfied: python-dateutil>=2.6.1 in /usr/local/lib/python3.7/dist-packages (from wandb) (2.8.1)\n",
            "Collecting gitdb<5,>=4.0.1\n",
            "\u001b[?25l  Downloading https://files.pythonhosted.org/packages/ea/e8/f414d1a4f0bbc668ed441f74f44c116d9816833a48bf81d22b697090dba8/gitdb-4.0.7-py3-none-any.whl (63kB)\n",
            "\u001b[K     |████████████████████████████████| 71kB 11.9MB/s \n",
            "\u001b[?25hRequirement already satisfied: certifi>=2017.4.17 in /usr/local/lib/python3.7/dist-packages (from requests<3,>=2.0.0->wandb) (2020.12.5)\n",
            "Requirement already satisfied: urllib3!=1.25.0,!=1.25.1,<1.26,>=1.21.1 in /usr/local/lib/python3.7/dist-packages (from requests<3,>=2.0.0->wandb) (1.24.3)\n",
            "Requirement already satisfied: idna<3,>=2.5 in /usr/local/lib/python3.7/dist-packages (from requests<3,>=2.0.0->wandb) (2.10)\n",
            "Requirement already satisfied: chardet<4,>=3.0.2 in /usr/local/lib/python3.7/dist-packages (from requests<3,>=2.0.0->wandb) (3.0.4)\n",
            "Requirement already satisfied: setuptools in /usr/local/lib/python3.7/dist-packages (from protobuf>=3.12.0->wandb) (56.0.0)\n",
            "Collecting smmap<5,>=3.0.1\n",
            "  Downloading https://files.pythonhosted.org/packages/68/ee/d540eb5e5996eb81c26ceffac6ee49041d473bc5125f2aa995cf51ec1cf1/smmap-4.0.0-py2.py3-none-any.whl\n",
            "Building wheels for collected packages: pathtools, subprocess32\n",
            "  Building wheel for pathtools (setup.py) ... \u001b[?25l\u001b[?25hdone\n",
            "  Created wheel for pathtools: filename=pathtools-0.1.2-cp37-none-any.whl size=8786 sha256=a8588c1289ca9fc89de630a8cf2018ef5fb09a82c4a73ae062305090b49468bf\n",
            "  Stored in directory: /root/.cache/pip/wheels/0b/04/79/c3b0c3a0266a3cb4376da31e5bfe8bba0c489246968a68e843\n",
            "  Building wheel for subprocess32 (setup.py) ... \u001b[?25l\u001b[?25hdone\n",
            "  Created wheel for subprocess32: filename=subprocess32-3.5.4-cp37-none-any.whl size=6489 sha256=f95d4b863ceecf6f3cf2897473026384f90cb3c3a563e97176e49e9709c132e2\n",
            "  Stored in directory: /root/.cache/pip/wheels/68/39/1a/5e402bdfdf004af1786c8b853fd92f8c4a04f22aad179654d1\n",
            "Successfully built pathtools subprocess32\n",
            "Installing collected packages: docker-pycreds, smmap, gitdb, GitPython, shortuuid, pathtools, configparser, sentry-sdk, subprocess32, wandb\n",
            "Successfully installed GitPython-3.1.14 configparser-5.0.2 docker-pycreds-0.4.0 gitdb-4.0.7 pathtools-0.1.2 sentry-sdk-1.0.0 shortuuid-1.0.1 smmap-4.0.0 subprocess32-3.5.4 wandb-0.10.28\n",
            "Collecting transformers\n",
            "\u001b[?25l  Downloading https://files.pythonhosted.org/packages/d8/b2/57495b5309f09fa501866e225c84532d1fd89536ea62406b2181933fb418/transformers-4.5.1-py3-none-any.whl (2.1MB)\n",
            "\u001b[K     |████████████████████████████████| 2.1MB 13.1MB/s \n",
            "\u001b[?25hCollecting sacremoses\n",
            "\u001b[?25l  Downloading https://files.pythonhosted.org/packages/75/ee/67241dc87f266093c533a2d4d3d69438e57d7a90abb216fa076e7d475d4a/sacremoses-0.0.45-py3-none-any.whl (895kB)\n",
            "\u001b[K     |████████████████████████████████| 901kB 54.6MB/s \n",
            "\u001b[?25hRequirement already satisfied: requests in /usr/local/lib/python3.7/dist-packages (from transformers) (2.23.0)\n",
            "Requirement already satisfied: filelock in /usr/local/lib/python3.7/dist-packages (from transformers) (3.0.12)\n",
            "Requirement already satisfied: regex!=2019.12.17 in /usr/local/lib/python3.7/dist-packages (from transformers) (2019.12.20)\n",
            "Requirement already satisfied: numpy>=1.17 in /usr/local/lib/python3.7/dist-packages (from transformers) (1.19.5)\n",
            "Requirement already satisfied: importlib-metadata; python_version < \"3.8\" in /usr/local/lib/python3.7/dist-packages (from transformers) (3.10.1)\n",
            "Requirement already satisfied: tqdm>=4.27 in /usr/local/lib/python3.7/dist-packages (from transformers) (4.41.1)\n",
            "Requirement already satisfied: packaging in /usr/local/lib/python3.7/dist-packages (from transformers) (20.9)\n",
            "Collecting tokenizers<0.11,>=0.10.1\n",
            "\u001b[?25l  Downloading https://files.pythonhosted.org/packages/ae/04/5b870f26a858552025a62f1649c20d29d2672c02ff3c3fb4c688ca46467a/tokenizers-0.10.2-cp37-cp37m-manylinux2010_x86_64.whl (3.3MB)\n",
            "\u001b[K     |████████████████████████████████| 3.3MB 56.8MB/s \n",
            "\u001b[?25hRequirement already satisfied: six in /usr/local/lib/python3.7/dist-packages (from sacremoses->transformers) (1.15.0)\n",
            "Requirement already satisfied: click in /usr/local/lib/python3.7/dist-packages (from sacremoses->transformers) (7.1.2)\n",
            "Requirement already satisfied: joblib in /usr/local/lib/python3.7/dist-packages (from sacremoses->transformers) (1.0.1)\n",
            "Requirement already satisfied: urllib3!=1.25.0,!=1.25.1,<1.26,>=1.21.1 in /usr/local/lib/python3.7/dist-packages (from requests->transformers) (1.24.3)\n",
            "Requirement already satisfied: certifi>=2017.4.17 in /usr/local/lib/python3.7/dist-packages (from requests->transformers) (2020.12.5)\n",
            "Requirement already satisfied: chardet<4,>=3.0.2 in /usr/local/lib/python3.7/dist-packages (from requests->transformers) (3.0.4)\n",
            "Requirement already satisfied: idna<3,>=2.5 in /usr/local/lib/python3.7/dist-packages (from requests->transformers) (2.10)\n",
            "Requirement already satisfied: typing-extensions>=3.6.4; python_version < \"3.8\" in /usr/local/lib/python3.7/dist-packages (from importlib-metadata; python_version < \"3.8\"->transformers) (3.7.4.3)\n",
            "Requirement already satisfied: zipp>=0.5 in /usr/local/lib/python3.7/dist-packages (from importlib-metadata; python_version < \"3.8\"->transformers) (3.4.1)\n",
            "Requirement already satisfied: pyparsing>=2.0.2 in /usr/local/lib/python3.7/dist-packages (from packaging->transformers) (2.4.7)\n",
            "Installing collected packages: sacremoses, tokenizers, transformers\n",
            "Successfully installed sacremoses-0.0.45 tokenizers-0.10.2 transformers-4.5.1\n",
            "Collecting datasets\n",
            "\u001b[?25l  Downloading https://files.pythonhosted.org/packages/46/1a/b9f9b3bfef624686ae81c070f0a6bb635047b17cdb3698c7ad01281e6f9a/datasets-1.6.2-py3-none-any.whl (221kB)\n",
            "\u001b[K     |████████████████████████████████| 225kB 13.1MB/s \n",
            "\u001b[?25hRequirement already satisfied: multiprocess in /usr/local/lib/python3.7/dist-packages (from datasets) (0.70.11.1)\n",
            "Requirement already satisfied: numpy>=1.17 in /usr/local/lib/python3.7/dist-packages (from datasets) (1.19.5)\n",
            "Requirement already satisfied: pandas in /usr/local/lib/python3.7/dist-packages (from datasets) (1.1.5)\n",
            "Requirement already satisfied: pyarrow>=1.0.0<4.0.0 in /usr/local/lib/python3.7/dist-packages (from datasets) (3.0.0)\n",
            "Collecting fsspec\n",
            "\u001b[?25l  Downloading https://files.pythonhosted.org/packages/e9/91/2ef649137816850fa4f4c97c6f2eabb1a79bf0aa2c8ed198e387e373455e/fsspec-2021.4.0-py3-none-any.whl (108kB)\n",
            "\u001b[K     |████████████████████████████████| 112kB 21.2MB/s \n",
            "\u001b[?25hRequirement already satisfied: packaging in /usr/local/lib/python3.7/dist-packages (from datasets) (20.9)\n",
            "Requirement already satisfied: requests>=2.19.0 in /usr/local/lib/python3.7/dist-packages (from datasets) (2.23.0)\n",
            "Collecting huggingface-hub<0.1.0\n",
            "  Downloading https://files.pythonhosted.org/packages/a1/88/7b1e45720ecf59c6c6737ff332f41c955963090a18e72acbcbeac6b25e86/huggingface_hub-0.0.8-py3-none-any.whl\n",
            "Collecting xxhash\n",
            "\u001b[?25l  Downloading https://files.pythonhosted.org/packages/7d/4f/0a862cad26aa2ed7a7cd87178cbbfa824fc1383e472d63596a0d018374e7/xxhash-2.0.2-cp37-cp37m-manylinux2010_x86_64.whl (243kB)\n",
            "\u001b[K     |████████████████████████████████| 245kB 26.4MB/s \n",
            "\u001b[?25hRequirement already satisfied: importlib-metadata; python_version < \"3.8\" in /usr/local/lib/python3.7/dist-packages (from datasets) (3.10.1)\n",
            "Requirement already satisfied: tqdm<4.50.0,>=4.27 in /usr/local/lib/python3.7/dist-packages (from datasets) (4.41.1)\n",
            "Requirement already satisfied: dill in /usr/local/lib/python3.7/dist-packages (from datasets) (0.3.3)\n",
            "Requirement already satisfied: python-dateutil>=2.7.3 in /usr/local/lib/python3.7/dist-packages (from pandas->datasets) (2.8.1)\n",
            "Requirement already satisfied: pytz>=2017.2 in /usr/local/lib/python3.7/dist-packages (from pandas->datasets) (2018.9)\n",
            "Requirement already satisfied: pyparsing>=2.0.2 in /usr/local/lib/python3.7/dist-packages (from packaging->datasets) (2.4.7)\n",
            "Requirement already satisfied: chardet<4,>=3.0.2 in /usr/local/lib/python3.7/dist-packages (from requests>=2.19.0->datasets) (3.0.4)\n",
            "Requirement already satisfied: idna<3,>=2.5 in /usr/local/lib/python3.7/dist-packages (from requests>=2.19.0->datasets) (2.10)\n",
            "Requirement already satisfied: urllib3!=1.25.0,!=1.25.1,<1.26,>=1.21.1 in /usr/local/lib/python3.7/dist-packages (from requests>=2.19.0->datasets) (1.24.3)\n",
            "Requirement already satisfied: certifi>=2017.4.17 in /usr/local/lib/python3.7/dist-packages (from requests>=2.19.0->datasets) (2020.12.5)\n",
            "Requirement already satisfied: filelock in /usr/local/lib/python3.7/dist-packages (from huggingface-hub<0.1.0->datasets) (3.0.12)\n",
            "Requirement already satisfied: zipp>=0.5 in /usr/local/lib/python3.7/dist-packages (from importlib-metadata; python_version < \"3.8\"->datasets) (3.4.1)\n",
            "Requirement already satisfied: typing-extensions>=3.6.4; python_version < \"3.8\" in /usr/local/lib/python3.7/dist-packages (from importlib-metadata; python_version < \"3.8\"->datasets) (3.7.4.3)\n",
            "Requirement already satisfied: six>=1.5 in /usr/local/lib/python3.7/dist-packages (from python-dateutil>=2.7.3->pandas->datasets) (1.15.0)\n",
            "Installing collected packages: fsspec, huggingface-hub, xxhash, datasets\n",
            "Successfully installed datasets-1.6.2 fsspec-2021.4.0 huggingface-hub-0.0.8 xxhash-2.0.2\n",
            "Requirement already satisfied: torchtext in /usr/local/lib/python3.7/dist-packages (0.9.1)\n",
            "Requirement already satisfied: numpy in /usr/local/lib/python3.7/dist-packages (from torchtext) (1.19.5)\n",
            "Requirement already satisfied: tqdm in /usr/local/lib/python3.7/dist-packages (from torchtext) (4.41.1)\n",
            "Requirement already satisfied: requests in /usr/local/lib/python3.7/dist-packages (from torchtext) (2.23.0)\n",
            "Requirement already satisfied: torch==1.8.1 in /usr/local/lib/python3.7/dist-packages (from torchtext) (1.8.1+cu101)\n",
            "Requirement already satisfied: idna<3,>=2.5 in /usr/local/lib/python3.7/dist-packages (from requests->torchtext) (2.10)\n",
            "Requirement already satisfied: chardet<4,>=3.0.2 in /usr/local/lib/python3.7/dist-packages (from requests->torchtext) (3.0.4)\n",
            "Requirement already satisfied: certifi>=2017.4.17 in /usr/local/lib/python3.7/dist-packages (from requests->torchtext) (2020.12.5)\n",
            "Requirement already satisfied: urllib3!=1.25.0,!=1.25.1,<1.26,>=1.21.1 in /usr/local/lib/python3.7/dist-packages (from requests->torchtext) (1.24.3)\n",
            "Requirement already satisfied: typing-extensions in /usr/local/lib/python3.7/dist-packages (from torch==1.8.1->torchtext) (3.7.4.3)\n",
            "Collecting en_core_web_md==2.2.5\n",
            "\u001b[?25l  Downloading https://github.com/explosion/spacy-models/releases/download/en_core_web_md-2.2.5/en_core_web_md-2.2.5.tar.gz (96.4MB)\n",
            "\u001b[K     |████████████████████████████████| 96.4MB 1.2MB/s \n",
            "\u001b[?25hRequirement already satisfied: spacy>=2.2.2 in /usr/local/lib/python3.7/dist-packages (from en_core_web_md==2.2.5) (2.2.4)\n",
            "Requirement already satisfied: srsly<1.1.0,>=1.0.2 in /usr/local/lib/python3.7/dist-packages (from spacy>=2.2.2->en_core_web_md==2.2.5) (1.0.5)\n",
            "Requirement already satisfied: plac<1.2.0,>=0.9.6 in /usr/local/lib/python3.7/dist-packages (from spacy>=2.2.2->en_core_web_md==2.2.5) (1.1.3)\n",
            "Requirement already satisfied: cymem<2.1.0,>=2.0.2 in /usr/local/lib/python3.7/dist-packages (from spacy>=2.2.2->en_core_web_md==2.2.5) (2.0.5)\n",
            "Requirement already satisfied: blis<0.5.0,>=0.4.0 in /usr/local/lib/python3.7/dist-packages (from spacy>=2.2.2->en_core_web_md==2.2.5) (0.4.1)\n",
            "Requirement already satisfied: requests<3.0.0,>=2.13.0 in /usr/local/lib/python3.7/dist-packages (from spacy>=2.2.2->en_core_web_md==2.2.5) (2.23.0)\n",
            "Requirement already satisfied: catalogue<1.1.0,>=0.0.7 in /usr/local/lib/python3.7/dist-packages (from spacy>=2.2.2->en_core_web_md==2.2.5) (1.0.0)\n",
            "Requirement already satisfied: setuptools in /usr/local/lib/python3.7/dist-packages (from spacy>=2.2.2->en_core_web_md==2.2.5) (56.0.0)\n",
            "Requirement already satisfied: murmurhash<1.1.0,>=0.28.0 in /usr/local/lib/python3.7/dist-packages (from spacy>=2.2.2->en_core_web_md==2.2.5) (1.0.5)\n",
            "Requirement already satisfied: wasabi<1.1.0,>=0.4.0 in /usr/local/lib/python3.7/dist-packages (from spacy>=2.2.2->en_core_web_md==2.2.5) (0.8.2)\n",
            "Requirement already satisfied: preshed<3.1.0,>=3.0.2 in /usr/local/lib/python3.7/dist-packages (from spacy>=2.2.2->en_core_web_md==2.2.5) (3.0.5)\n",
            "Requirement already satisfied: tqdm<5.0.0,>=4.38.0 in /usr/local/lib/python3.7/dist-packages (from spacy>=2.2.2->en_core_web_md==2.2.5) (4.41.1)\n",
            "Requirement already satisfied: thinc==7.4.0 in /usr/local/lib/python3.7/dist-packages (from spacy>=2.2.2->en_core_web_md==2.2.5) (7.4.0)\n",
            "Requirement already satisfied: numpy>=1.15.0 in /usr/local/lib/python3.7/dist-packages (from spacy>=2.2.2->en_core_web_md==2.2.5) (1.19.5)\n",
            "Requirement already satisfied: urllib3!=1.25.0,!=1.25.1,<1.26,>=1.21.1 in /usr/local/lib/python3.7/dist-packages (from requests<3.0.0,>=2.13.0->spacy>=2.2.2->en_core_web_md==2.2.5) (1.24.3)\n",
            "Requirement already satisfied: idna<3,>=2.5 in /usr/local/lib/python3.7/dist-packages (from requests<3.0.0,>=2.13.0->spacy>=2.2.2->en_core_web_md==2.2.5) (2.10)\n",
            "Requirement already satisfied: chardet<4,>=3.0.2 in /usr/local/lib/python3.7/dist-packages (from requests<3.0.0,>=2.13.0->spacy>=2.2.2->en_core_web_md==2.2.5) (3.0.4)\n",
            "Requirement already satisfied: certifi>=2017.4.17 in /usr/local/lib/python3.7/dist-packages (from requests<3.0.0,>=2.13.0->spacy>=2.2.2->en_core_web_md==2.2.5) (2020.12.5)\n",
            "Requirement already satisfied: importlib-metadata>=0.20; python_version < \"3.8\" in /usr/local/lib/python3.7/dist-packages (from catalogue<1.1.0,>=0.0.7->spacy>=2.2.2->en_core_web_md==2.2.5) (3.10.1)\n",
            "Requirement already satisfied: zipp>=0.5 in /usr/local/lib/python3.7/dist-packages (from importlib-metadata>=0.20; python_version < \"3.8\"->catalogue<1.1.0,>=0.0.7->spacy>=2.2.2->en_core_web_md==2.2.5) (3.4.1)\n",
            "Requirement already satisfied: typing-extensions>=3.6.4; python_version < \"3.8\" in /usr/local/lib/python3.7/dist-packages (from importlib-metadata>=0.20; python_version < \"3.8\"->catalogue<1.1.0,>=0.0.7->spacy>=2.2.2->en_core_web_md==2.2.5) (3.7.4.3)\n",
            "Building wheels for collected packages: en-core-web-md\n",
            "  Building wheel for en-core-web-md (setup.py) ... \u001b[?25l\u001b[?25hdone\n",
            "  Created wheel for en-core-web-md: filename=en_core_web_md-2.2.5-cp37-none-any.whl size=98051305 sha256=c007dd11e00642309e508226bbf0ddb3658e157b7a4829a3bb826f59c7e91077\n",
            "  Stored in directory: /tmp/pip-ephem-wheel-cache-sep7cyzi/wheels/df/94/ad/f5cf59224cea6b5686ac4fd1ad19c8a07bc026e13c36502d81\n",
            "Successfully built en-core-web-md\n",
            "Installing collected packages: en-core-web-md\n",
            "Successfully installed en-core-web-md-2.2.5\n",
            "\u001b[38;5;2m✔ Download and installation successful\u001b[0m\n",
            "You can now load the model via spacy.load('en_core_web_md')\n"
          ],
          "name": "stdout"
        }
      ]
    },
    {
      "cell_type": "code",
      "metadata": {
        "colab": {
          "base_uri": "https://localhost:8080/"
        },
        "id": "tzdvq6V4S5nY",
        "outputId": "c6178feb-9f68-4d72-a45e-30dbcaaaa767"
      },
      "source": [
        "import wandb\n",
        "!wandb login"
      ],
      "execution_count": 6,
      "outputs": [
        {
          "output_type": "stream",
          "text": [
            "\u001b[34m\u001b[1mwandb\u001b[0m: You can find your API key in your browser here: https://wandb.ai/authorize\n",
            "\u001b[34m\u001b[1mwandb\u001b[0m: Paste an API key from your profile and hit enter: \n",
            "\u001b[34m\u001b[1mwandb\u001b[0m: Appending key for api.wandb.ai to your netrc file: /root/.netrc\n"
          ],
          "name": "stdout"
        }
      ]
    },
    {
      "cell_type": "code",
      "metadata": {
        "colab": {
          "base_uri": "https://localhost:8080/"
        },
        "id": "SzG0FvThb0Cv",
        "outputId": "4eb8db0c-0b0e-4d96-fd82-8716b1c63e84"
      },
      "source": [
        "ls"
      ],
      "execution_count": 7,
      "outputs": [
        {
          "output_type": "stream",
          "text": [
            "\u001b[0m\u001b[01;34mconfigs\u001b[0m/         \u001b[01;34mnotebooks\u001b[0m/  train_lambada.py  \u001b[01;34muniversal_transformer\u001b[0m/\n",
            "environment.yml  setup.cfg   train.py\n"
          ],
          "name": "stdout"
        }
      ]
    },
    {
      "cell_type": "code",
      "metadata": {
        "id": "ZSFQShinXLSi"
      },
      "source": [
        "#!WANDB_MODE=dryrun python train.py -c configs/depthwise_conv.yaml"
      ],
      "execution_count": 8,
      "outputs": []
    },
    {
      "cell_type": "code",
      "metadata": {
        "colab": {
          "base_uri": "https://localhost:8080/"
        },
        "id": "rHeKp5UlquQQ",
        "outputId": "3f51420b-7307-42d2-dc5f-6c1511b45a38"
      },
      "source": [
        "!rm universal_transformer/__pycache__/transformers.cpython-37.pyc\n",
        "!git pull origin master"
      ],
      "execution_count": 19,
      "outputs": [
        {
          "output_type": "stream",
          "text": [
            "remote: Enumerating objects: 5, done.\u001b[K\n",
            "remote: Counting objects:  20% (1/5)\u001b[K\rremote: Counting objects:  40% (2/5)\u001b[K\rremote: Counting objects:  60% (3/5)\u001b[K\rremote: Counting objects:  80% (4/5)\u001b[K\rremote: Counting objects: 100% (5/5)\u001b[K\rremote: Counting objects: 100% (5/5), done.\u001b[K\n",
            "remote: Compressing objects: 100% (1/1)\u001b[K\rremote: Compressing objects: 100% (1/1), done.\u001b[K\n",
            "remote: Total 3 (delta 2), reused 3 (delta 2), pack-reused 0\u001b[K\n",
            "Unpacking objects:  33% (1/3)   \rUnpacking objects:  66% (2/3)   \rUnpacking objects: 100% (3/3)   \rUnpacking objects: 100% (3/3), done.\n",
            "From https://github.com/dfd/CS7643_group_project\n",
            " * branch            master     -> FETCH_HEAD\n",
            "   513145c..9d3b942  master     -> origin/master\n",
            "Updating 513145c..9d3b942\n",
            "Fast-forward\n",
            " train_lambada.py | 2 \u001b[32m+\u001b[m\u001b[31m-\u001b[m\n",
            " 1 file changed, 1 insertion(+), 1 deletion(-)\n"
          ],
          "name": "stdout"
        }
      ]
    },
    {
      "cell_type": "code",
      "metadata": {
        "colab": {
          "base_uri": "https://localhost:8080/"
        },
        "id": "0xtdYB6tdyqM",
        "outputId": "76ed3f2b-0197-45e9-ebca-b7ca6e7e9a4d"
      },
      "source": [
        "!WANDB_MODE=run python train_lambada.py --project ut_lambada -c configs/universal_lambada_test.yaml"
      ],
      "execution_count": 20,
      "outputs": [
        {
          "output_type": "stream",
          "text": [
            "2021-05-02 20:11:48.259399: I tensorflow/stream_executor/platform/default/dso_loader.cc:49] Successfully opened dynamic library libcudart.so.11.0\n",
            "\u001b[34m\u001b[1mwandb\u001b[0m: Currently logged in as: \u001b[33mdfd\u001b[0m (use `wandb login --relogin` to force relogin)\n",
            "2021-05-02 20:11:51.329659: I tensorflow/stream_executor/platform/default/dso_loader.cc:49] Successfully opened dynamic library libcudart.so.11.0\n",
            "\u001b[34m\u001b[1mwandb\u001b[0m: Tracking run with wandb version 0.10.28\n",
            "\u001b[34m\u001b[1mwandb\u001b[0m: Syncing run \u001b[33muniversal_lambada_test.yaml\u001b[0m\n",
            "\u001b[34m\u001b[1mwandb\u001b[0m: ⭐️ View project at \u001b[34m\u001b[4mhttps://wandb.ai/dfd/ut_lambada\u001b[0m\n",
            "\u001b[34m\u001b[1mwandb\u001b[0m: 🚀 View run at \u001b[34m\u001b[4mhttps://wandb.ai/dfd/ut_lambada/runs/3w2rmk8s\u001b[0m\n",
            "\u001b[34m\u001b[1mwandb\u001b[0m: Run data is saved locally in /content/CS7643_group_project/wandb/run-20210502_201150-3w2rmk8s\n",
            "\u001b[34m\u001b[1mwandb\u001b[0m: Run `wandb offline` to turn off syncing.\n",
            "\n",
            "using cuda\n",
            "Reusing dataset lambada (/root/.cache/huggingface/datasets/lambada/plain_text/1.1.0/e32d76a7236c9ebb30099bc73d677c3acf32ddffb411836fe9ffc091ad3f3bec)\n",
            "/content/CS7643_group_project/universal_transformer/datasets.py:73: FutureWarning: remove_columns_ is deprecated and will be removed in the next major version of datasets. Use Dataset.remove_columns instead.\n",
            "  train.remove_columns_(['domain'])\n",
            "tcmalloc: large alloc 1622974464 bytes == 0x559ddc84c000 @  0x7f688b99ab6b 0x7f688b9ba379 0x7f6822bfa25e 0x7f6822bfb9d2 0x7f68604c2853 0x7f685fd4a043 0x7f686024b7d7 0x7f686021ada0 0x7f6860075679 0x7f685fd3a85a 0x7f68603491f3 0x7f686048e89b 0x7f68714355fa 0x559cc4511050 0x559cc460299d 0x559cc4584fe9 0x559cc457fe0d 0x559cc451277a 0x559cc4580a45 0x559cc457fb0e 0x559cc451302c 0x559cc4553d39 0x559cc4550c84 0x559cc4513231 0x559cc45821e6 0x559cc457fb0e 0x559cc451277a 0x559cc4584e50 0x559cc451269a 0x559cc4580a45 0x559cc457fb0e\n",
            "torch.Size([1000, 203])\n",
            "torch.Size([1000, 203])\n",
            "torch.Size([1000, 203])\n",
            "data loaded\n",
            "alt kwargs\n",
            "6\n",
            "tcmalloc: large alloc 2186412032 bytes == 0x559e3e356000 @  0x7f688b99ab6b 0x7f688b9ba379 0x7f6822bfa25e 0x7f6822bfb9d2 0x7f68604c2853 0x7f685fd4a043 0x7f686024b7d7 0x7f686021ada0 0x7f6860075679 0x7f685fd3cd08 0x7f68603491aa 0x7f68604b5e62 0x7f686048dbb2 0x7f68713187de 0x7f687144485e 0x559cc4511050 0x559cc460299d 0x559cc4584fe9 0x559cc4603858 0x559cc4580ee2 0x559cc451269a 0x559cc4580a45 0x559cc457fb0e 0x559cc457f813 0x559cc4649592 0x559cc464990d 0x559cc46497b6 0x559cc4621103 0x559cc4620dac 0x7f688a7a2bf7 0x559cc4620c8a\n",
            "train_lambada.py:88: UserWarning: To copy construct from a tensor, it is recommended to use sourceTensor.clone().detach() or sourceTensor.clone().detach().requires_grad_(True), rather than torch.tensor(sourceTensor).\n",
            "  torch.tensor(target_logits).cuda(), torch.tensor(target_words).cuda()\n",
            "tcmalloc: large alloc 2186412032 bytes == 0x559e3e356000 @  0x7f688b99ab6b 0x7f688b9ba379 0x7f6822bfa25e 0x7f6822bfb9d2 0x7f68604c2853 0x7f685fd4a043 0x7f686024b7d7 0x7f686021ada0 0x7f6860075679 0x7f685fd3cd08 0x7f68603491aa 0x7f68604b5e62 0x7f686048dbb2 0x7f68713187de 0x7f687144485e 0x559cc4511050 0x559cc460299d 0x559cc4584fe9 0x559cc4603858 0x559cc4580ee2 0x559cc451269a 0x559cc4580a45 0x559cc457fb0e 0x559cc457f813 0x559cc4649592 0x559cc464990d 0x559cc46497b6 0x559cc4621103 0x559cc4620dac 0x7f688a7a2bf7 0x559cc4620c8a\n",
            "tcmalloc: large alloc 2186412032 bytes == 0x559e3e356000 @  0x7f688b99ab6b 0x7f688b9ba379 0x7f6822bfa25e 0x7f6822bfb9d2 0x7f68604c2853 0x7f685fd4a043 0x7f686024b7d7 0x7f686021ada0 0x7f6860075679 0x7f685fd3cd08 0x7f68603491aa 0x7f68604b5e62 0x7f686048dbb2 0x7f68713187de 0x7f687144485e 0x559cc4511050 0x559cc460299d 0x559cc4584fe9 0x559cc4603858 0x559cc4580ee2 0x559cc451269a 0x559cc4580a45 0x559cc457fb0e 0x559cc457f813 0x559cc4649592 0x559cc464990d 0x559cc46497b6 0x559cc4621103 0x559cc4620dac 0x7f688a7a2bf7 0x559cc4620c8a\n",
            "tcmalloc: large alloc 2186412032 bytes == 0x559e3e356000 @  0x7f688b99ab6b 0x7f688b9ba379 0x7f6822bfa25e 0x7f6822bfb9d2 0x7f68604c2853 0x7f685fd4a043 0x7f686024b7d7 0x7f686021ada0 0x7f6860075679 0x7f685fd3cd08 0x7f68603491aa 0x7f68604b5e62 0x7f686048dbb2 0x7f68713187de 0x7f687144485e 0x559cc4511050 0x559cc460299d 0x559cc4584fe9 0x559cc4603858 0x559cc4580ee2 0x559cc451269a 0x559cc4580a45 0x559cc457fb0e 0x559cc457f813 0x559cc4649592 0x559cc464990d 0x559cc46497b6 0x559cc4621103 0x559cc4620dac 0x7f688a7a2bf7 0x559cc4620c8a\n",
            "tcmalloc: large alloc 2186412032 bytes == 0x559e3e356000 @  0x7f688b99ab6b 0x7f688b9ba379 0x7f6822bfa25e 0x7f6822bfb9d2 0x7f68604c2853 0x7f685fd4a043 0x7f686024b7d7 0x7f686021ada0 0x7f6860075679 0x7f685fd3cd08 0x7f68603491aa 0x7f68604b5e62 0x7f686048dbb2 0x7f68713187de 0x7f687144485e 0x559cc4511050 0x559cc460299d 0x559cc4584fe9 0x559cc4603858 0x559cc4580ee2 0x559cc451269a 0x559cc4580a45 0x559cc457fb0e 0x559cc457f813 0x559cc4649592 0x559cc464990d 0x559cc46497b6 0x559cc4621103 0x559cc4620dac 0x7f688a7a2bf7 0x559cc4620c8a\n",
            "tcmalloc: large alloc 2186412032 bytes == 0x559e3e356000 @  0x7f688b99ab6b 0x7f688b9ba379 0x7f6822bfa25e 0x7f6822bfb9d2 0x7f68604c2853 0x7f685fd4a043 0x7f686024b7d7 0x7f686021ada0 0x7f6860075679 0x7f685fd3cd08 0x7f68603491aa 0x7f68604b5e62 0x7f686048dbb2 0x7f68713187de 0x7f687144485e 0x559cc4511050 0x559cc460299d 0x559cc4584fe9 0x559cc4603858 0x559cc4580ee2 0x559cc451269a 0x559cc4580a45 0x559cc457fb0e 0x559cc457f813 0x559cc4649592 0x559cc464990d 0x559cc46497b6 0x559cc4621103 0x559cc4620dac 0x7f688a7a2bf7 0x559cc4620c8a\n",
            "[2021-05-02 20:14:47 +0000] [universal_transformer] [INFO] {'train_loss': tensor(10.7067, device='cuda:0'), 'train_perplexity': 44652.605, 'train_accuracy': 0.0, 'train_target_perplexity': 43447.99764322894, 'train_runtime': 33.805272351999974, 'epoch': 1}\n",
            "[2021-05-02 20:15:17 +0000] [universal_transformer] [INFO] {'val_loss': tensor(11.0077, device='cuda:0'), 'val_perplexity': 60337.64, 'val_accuracy': 0.0, 'val_target_perplexity': 79708.74924061316, 'val_runtime': 29.115173655000035, 'epoch': 1}\n",
            "[2021-05-02 20:15:50 +0000] [universal_transformer] [INFO] {'train_loss': tensor(9.2034, device='cuda:0'), 'train_perplexity': 9930.482, 'train_accuracy': 0.0, 'train_target_perplexity': 9224.947823436856, 'train_runtime': 32.88104579799983, 'epoch': 2}\n",
            "[2021-05-02 20:16:19 +0000] [universal_transformer] [INFO] {'val_loss': tensor(10.5874, device='cuda:0'), 'val_perplexity': 39634.22, 'val_accuracy': 0.0, 'val_target_perplexity': 51482.27649927106, 'val_runtime': 28.995849319000172, 'epoch': 2}\n",
            "[2021-05-02 20:16:50 +0000] [universal_transformer] [INFO] {'test_loss': tensor(11.0171, device='cuda:0'), 'test_perplexity': 60908.56, 'test_accuracy': 0.0, 'test_target_perplexity': 81959.99815935733, 'test_runtime': 28.952173598999707, 'epoch': 2}\n",
            "\n",
            "\u001b[34m\u001b[1mwandb\u001b[0m: Waiting for W&B process to finish, PID 1265\n",
            "\u001b[34m\u001b[1mwandb\u001b[0m: Program ended successfully.\n",
            "\u001b[34m\u001b[1mwandb\u001b[0m:                                                                                \n",
            "\u001b[34m\u001b[1mwandb\u001b[0m: Find user logs for this run at: /content/CS7643_group_project/wandb/run-20210502_201150-3w2rmk8s/logs/debug.log\n",
            "\u001b[34m\u001b[1mwandb\u001b[0m: Find internal logs for this run at: /content/CS7643_group_project/wandb/run-20210502_201150-3w2rmk8s/logs/debug-internal.log\n",
            "\u001b[34m\u001b[1mwandb\u001b[0m: Run summary:\n",
            "\u001b[34m\u001b[1mwandb\u001b[0m:                 val_loss_min 10.58745\n",
            "\u001b[34m\u001b[1mwandb\u001b[0m:           val_perplexity_min 39634.21875\n",
            "\u001b[34m\u001b[1mwandb\u001b[0m:             val_accuracy_min 0.0\n",
            "\u001b[34m\u001b[1mwandb\u001b[0m:    val_target_perplexity_min 51482.2765\n",
            "\u001b[34m\u001b[1mwandb\u001b[0m:              val_runtime_min 28.99585\n",
            "\u001b[34m\u001b[1mwandb\u001b[0m:                 val_loss_max 11.00771\n",
            "\u001b[34m\u001b[1mwandb\u001b[0m:           val_perplexity_max 60337.64062\n",
            "\u001b[34m\u001b[1mwandb\u001b[0m:             val_accuracy_max 0.0\n",
            "\u001b[34m\u001b[1mwandb\u001b[0m:    val_target_perplexity_max 79708.74924\n",
            "\u001b[34m\u001b[1mwandb\u001b[0m:              val_runtime_max 29.11517\n",
            "\u001b[34m\u001b[1mwandb\u001b[0m:                   train_loss 9.20336\n",
            "\u001b[34m\u001b[1mwandb\u001b[0m:             train_perplexity 9930.48242\n",
            "\u001b[34m\u001b[1mwandb\u001b[0m:               train_accuracy 0.0\n",
            "\u001b[34m\u001b[1mwandb\u001b[0m:      train_target_perplexity 9224.94782\n",
            "\u001b[34m\u001b[1mwandb\u001b[0m:                train_runtime 32.88105\n",
            "\u001b[34m\u001b[1mwandb\u001b[0m:                        epoch 2\n",
            "\u001b[34m\u001b[1mwandb\u001b[0m:                     val_loss 10.58745\n",
            "\u001b[34m\u001b[1mwandb\u001b[0m:               val_perplexity 39634.21875\n",
            "\u001b[34m\u001b[1mwandb\u001b[0m:                 val_accuracy 0.0\n",
            "\u001b[34m\u001b[1mwandb\u001b[0m:        val_target_perplexity 51482.2765\n",
            "\u001b[34m\u001b[1mwandb\u001b[0m:                  val_runtime 28.99585\n",
            "\u001b[34m\u001b[1mwandb\u001b[0m:                     _runtime 300\n",
            "\u001b[34m\u001b[1mwandb\u001b[0m:                   _timestamp 1619986610\n",
            "\u001b[34m\u001b[1mwandb\u001b[0m:                        _step 2\n",
            "\u001b[34m\u001b[1mwandb\u001b[0m:                test_loss_min 11.01713\n",
            "\u001b[34m\u001b[1mwandb\u001b[0m:          test_perplexity_min 60908.55859\n",
            "\u001b[34m\u001b[1mwandb\u001b[0m:            test_accuracy_min 0.0\n",
            "\u001b[34m\u001b[1mwandb\u001b[0m:   test_target_perplexity_min 81959.99816\n",
            "\u001b[34m\u001b[1mwandb\u001b[0m:             test_runtime_min 28.95217\n",
            "\u001b[34m\u001b[1mwandb\u001b[0m:                test_loss_max 11.01713\n",
            "\u001b[34m\u001b[1mwandb\u001b[0m:          test_perplexity_max 60908.55859\n",
            "\u001b[34m\u001b[1mwandb\u001b[0m:            test_accuracy_max 0.0\n",
            "\u001b[34m\u001b[1mwandb\u001b[0m:   test_target_perplexity_max 81959.99816\n",
            "\u001b[34m\u001b[1mwandb\u001b[0m:             test_runtime_max 28.95217\n",
            "\u001b[34m\u001b[1mwandb\u001b[0m:                    test_loss 11.01713\n",
            "\u001b[34m\u001b[1mwandb\u001b[0m:              test_perplexity 60908.55859\n",
            "\u001b[34m\u001b[1mwandb\u001b[0m:                test_accuracy 0.0\n",
            "\u001b[34m\u001b[1mwandb\u001b[0m:       test_target_perplexity 81959.99816\n",
            "\u001b[34m\u001b[1mwandb\u001b[0m:                 test_runtime 28.95217\n",
            "\u001b[34m\u001b[1mwandb\u001b[0m: Run history:\n",
            "\u001b[34m\u001b[1mwandb\u001b[0m:                train_loss █▁\n",
            "\u001b[34m\u001b[1mwandb\u001b[0m:          train_perplexity █▁\n",
            "\u001b[34m\u001b[1mwandb\u001b[0m:            train_accuracy ▁▁\n",
            "\u001b[34m\u001b[1mwandb\u001b[0m:   train_target_perplexity █▁\n",
            "\u001b[34m\u001b[1mwandb\u001b[0m:             train_runtime █▁\n",
            "\u001b[34m\u001b[1mwandb\u001b[0m:                     epoch ▁█\n",
            "\u001b[34m\u001b[1mwandb\u001b[0m:                  val_loss █▁\n",
            "\u001b[34m\u001b[1mwandb\u001b[0m:            val_perplexity █▁\n",
            "\u001b[34m\u001b[1mwandb\u001b[0m:              val_accuracy ▁▁\n",
            "\u001b[34m\u001b[1mwandb\u001b[0m:     val_target_perplexity █▁\n",
            "\u001b[34m\u001b[1mwandb\u001b[0m:               val_runtime █▁\n",
            "\u001b[34m\u001b[1mwandb\u001b[0m:                  _runtime ▁█\n",
            "\u001b[34m\u001b[1mwandb\u001b[0m:                _timestamp ▁█\n",
            "\u001b[34m\u001b[1mwandb\u001b[0m:                     _step ▁█\n",
            "\u001b[34m\u001b[1mwandb\u001b[0m:                 test_loss ▁\n",
            "\u001b[34m\u001b[1mwandb\u001b[0m:           test_perplexity ▁\n",
            "\u001b[34m\u001b[1mwandb\u001b[0m:             test_accuracy ▁\n",
            "\u001b[34m\u001b[1mwandb\u001b[0m:    test_target_perplexity ▁\n",
            "\u001b[34m\u001b[1mwandb\u001b[0m:              test_runtime ▁\n",
            "\u001b[34m\u001b[1mwandb\u001b[0m: \n",
            "\u001b[34m\u001b[1mwandb\u001b[0m: Synced 5 W&B file(s), 0 media file(s), 1 artifact file(s) and 0 other file(s)\n",
            "\u001b[34m\u001b[1mwandb\u001b[0m: \n",
            "\u001b[34m\u001b[1mwandb\u001b[0m: Synced \u001b[33muniversal_lambada_test.yaml\u001b[0m: \u001b[34mhttps://wandb.ai/dfd/ut_lambada/runs/3w2rmk8s\u001b[0m\n"
          ],
          "name": "stdout"
        }
      ]
    },
    {
      "cell_type": "code",
      "metadata": {
        "id": "c9nN02NBAbBi",
        "colab": {
          "base_uri": "https://localhost:8080/"
        },
        "outputId": "744457e6-1281-47ca-ae61-1e8a45facb2f"
      },
      "source": [
        "!WANDB_MODE=run python train_lambada.py --project ut_lambada -c configs/vanilla_lambada_test.yaml"
      ],
      "execution_count": 21,
      "outputs": [
        {
          "output_type": "stream",
          "text": [
            "2021-05-02 20:26:11.199510: I tensorflow/stream_executor/platform/default/dso_loader.cc:49] Successfully opened dynamic library libcudart.so.11.0\n",
            "\u001b[34m\u001b[1mwandb\u001b[0m: Currently logged in as: \u001b[33mdfd\u001b[0m (use `wandb login --relogin` to force relogin)\n",
            "2021-05-02 20:26:14.201752: I tensorflow/stream_executor/platform/default/dso_loader.cc:49] Successfully opened dynamic library libcudart.so.11.0\n",
            "\u001b[34m\u001b[1mwandb\u001b[0m: Tracking run with wandb version 0.10.28\n",
            "\u001b[34m\u001b[1mwandb\u001b[0m: Syncing run \u001b[33mvanilla_lambada_test.yaml\u001b[0m\n",
            "\u001b[34m\u001b[1mwandb\u001b[0m: ⭐️ View project at \u001b[34m\u001b[4mhttps://wandb.ai/dfd/ut_lambada\u001b[0m\n",
            "\u001b[34m\u001b[1mwandb\u001b[0m: 🚀 View run at \u001b[34m\u001b[4mhttps://wandb.ai/dfd/ut_lambada/runs/2zq9r1hc\u001b[0m\n",
            "\u001b[34m\u001b[1mwandb\u001b[0m: Run data is saved locally in /content/CS7643_group_project/wandb/run-20210502_202613-2zq9r1hc\n",
            "\u001b[34m\u001b[1mwandb\u001b[0m: Run `wandb offline` to turn off syncing.\n",
            "\n",
            "using cuda\n",
            "Reusing dataset lambada (/root/.cache/huggingface/datasets/lambada/plain_text/1.1.0/e32d76a7236c9ebb30099bc73d677c3acf32ddffb411836fe9ffc091ad3f3bec)\n",
            "/content/CS7643_group_project/universal_transformer/datasets.py:73: FutureWarning: remove_columns_ is deprecated and will be removed in the next major version of datasets. Use Dataset.remove_columns instead.\n",
            "  train.remove_columns_(['domain'])\n",
            "tcmalloc: large alloc 1622974464 bytes == 0x5612ebb86000 @  0x7f70b3569b6b 0x7f70b3589379 0x7f704a7c925e 0x7f704a7ca9d2 0x7f7088091853 0x7f7087919043 0x7f7087e1a7d7 0x7f7087de9da0 0x7f7087c44679 0x7f708790985a 0x7f7087f181f3 0x7f708805d89b 0x7f70990045fa 0x5611d35aa050 0x5611d369b99d 0x5611d361dfe9 0x5611d3618e0d 0x5611d35ab77a 0x5611d3619a45 0x5611d3618b0e 0x5611d35ac02c 0x5611d35ecd39 0x5611d35e9c84 0x5611d35ac231 0x5611d361b1e6 0x5611d3618b0e 0x5611d35ab77a 0x5611d361de50 0x5611d35ab69a 0x5611d3619a45 0x5611d3618b0e\n",
            "torch.Size([1000, 203])\n",
            "torch.Size([1000, 203])\n",
            "torch.Size([1000, 203])\n",
            "data loaded\n",
            "alt kwargs\n",
            "tcmalloc: large alloc 2186412032 bytes == 0x56134d690000 @  0x7f70b3569b6b 0x7f70b3589379 0x7f704a7c925e 0x7f704a7ca9d2 0x7f7088091853 0x7f7087919043 0x7f7087e1a7d7 0x7f7087de9da0 0x7f7087c44679 0x7f708790bd08 0x7f7087f181aa 0x7f7088084e62 0x7f708805cbb2 0x7f7098ee77de 0x7f709901385e 0x5611d35aa050 0x5611d369b99d 0x5611d361dfe9 0x5611d369c858 0x5611d3619ee2 0x5611d35ab69a 0x5611d3619a45 0x5611d3618b0e 0x5611d3618813 0x5611d36e2592 0x5611d36e290d 0x5611d36e27b6 0x5611d36ba103 0x5611d36b9dac 0x7f70b2371bf7 0x5611d36b9c8a\n",
            "train_lambada.py:88: UserWarning: To copy construct from a tensor, it is recommended to use sourceTensor.clone().detach() or sourceTensor.clone().detach().requires_grad_(True), rather than torch.tensor(sourceTensor).\n",
            "  torch.tensor(target_logits).cuda(), torch.tensor(target_words).cuda()\n",
            "tcmalloc: large alloc 2186412032 bytes == 0x56134d690000 @  0x7f70b3569b6b 0x7f70b3589379 0x7f704a7c925e 0x7f704a7ca9d2 0x7f7088091853 0x7f7087919043 0x7f7087e1a7d7 0x7f7087de9da0 0x7f7087c44679 0x7f708790bd08 0x7f7087f181aa 0x7f7088084e62 0x7f708805cbb2 0x7f7098ee77de 0x7f709901385e 0x5611d35aa050 0x5611d369b99d 0x5611d361dfe9 0x5611d369c858 0x5611d3619ee2 0x5611d35ab69a 0x5611d3619a45 0x5611d3618b0e 0x5611d3618813 0x5611d36e2592 0x5611d36e290d 0x5611d36e27b6 0x5611d36ba103 0x5611d36b9dac 0x7f70b2371bf7 0x5611d36b9c8a\n",
            "tcmalloc: large alloc 2186412032 bytes == 0x56134d690000 @  0x7f70b3569b6b 0x7f70b3589379 0x7f704a7c925e 0x7f704a7ca9d2 0x7f7088091853 0x7f7087919043 0x7f7087e1a7d7 0x7f7087de9da0 0x7f7087c44679 0x7f708790bd08 0x7f7087f181aa 0x7f7088084e62 0x7f708805cbb2 0x7f7098ee77de 0x7f709901385e 0x5611d35aa050 0x5611d369b99d 0x5611d361dfe9 0x5611d369c858 0x5611d3619ee2 0x5611d35ab69a 0x5611d3619a45 0x5611d3618b0e 0x5611d3618813 0x5611d36e2592 0x5611d36e290d 0x5611d36e27b6 0x5611d36ba103 0x5611d36b9dac 0x7f70b2371bf7 0x5611d36b9c8a\n",
            "tcmalloc: large alloc 2186412032 bytes == 0x56134d690000 @  0x7f70b3569b6b 0x7f70b3589379 0x7f704a7c925e 0x7f704a7ca9d2 0x7f7088091853 0x7f7087919043 0x7f7087e1a7d7 0x7f7087de9da0 0x7f7087c44679 0x7f708790bd08 0x7f7087f181aa 0x7f7088084e62 0x7f708805cbb2 0x7f7098ee77de 0x7f709901385e 0x5611d35aa050 0x5611d369b99d 0x5611d361dfe9 0x5611d369c858 0x5611d3619ee2 0x5611d35ab69a 0x5611d3619a45 0x5611d3618b0e 0x5611d3618813 0x5611d36e2592 0x5611d36e290d 0x5611d36e27b6 0x5611d36ba103 0x5611d36b9dac 0x7f70b2371bf7 0x5611d36b9c8a\n",
            "tcmalloc: large alloc 2186412032 bytes == 0x56134d690000 @  0x7f70b3569b6b 0x7f70b3589379 0x7f704a7c925e 0x7f704a7ca9d2 0x7f7088091853 0x7f7087919043 0x7f7087e1a7d7 0x7f7087de9da0 0x7f7087c44679 0x7f708790bd08 0x7f7087f181aa 0x7f7088084e62 0x7f708805cbb2 0x7f7098ee77de 0x7f709901385e 0x5611d35aa050 0x5611d369b99d 0x5611d361dfe9 0x5611d369c858 0x5611d3619ee2 0x5611d35ab69a 0x5611d3619a45 0x5611d3618b0e 0x5611d3618813 0x5611d36e2592 0x5611d36e290d 0x5611d36e27b6 0x5611d36ba103 0x5611d36b9dac 0x7f70b2371bf7 0x5611d36b9c8a\n",
            "tcmalloc: large alloc 2186412032 bytes == 0x56134d690000 @  0x7f70b3569b6b 0x7f70b3589379 0x7f704a7c925e 0x7f704a7ca9d2 0x7f7088091853 0x7f7087919043 0x7f7087e1a7d7 0x7f7087de9da0 0x7f7087c44679 0x7f708790bd08 0x7f7087f181aa 0x7f7088084e62 0x7f708805cbb2 0x7f7098ee77de 0x7f709901385e 0x5611d35aa050 0x5611d369b99d 0x5611d361dfe9 0x5611d369c858 0x5611d3619ee2 0x5611d35ab69a 0x5611d3619a45 0x5611d3618b0e 0x5611d3618813 0x5611d36e2592 0x5611d36e290d 0x5611d36e27b6 0x5611d36ba103 0x5611d36b9dac 0x7f70b2371bf7 0x5611d36b9c8a\n",
            "[2021-05-02 20:29:15 +0000] [universal_transformer] [INFO] {'train_loss': tensor(9.7730, device='cuda:0'), 'train_perplexity': 17553.494, 'train_accuracy': 0.0, 'train_target_perplexity': 15751.841210462835, 'train_runtime': 36.75250162499924, 'epoch': 1}\n",
            "[2021-05-02 20:29:45 +0000] [universal_transformer] [INFO] {'val_loss': tensor(9.9314, device='cuda:0'), 'val_perplexity': 20566.139, 'val_accuracy': 0.0, 'val_target_perplexity': 79868.08252450761, 'val_runtime': 30.59412317099941, 'epoch': 1}\n",
            "[2021-05-02 20:30:22 +0000] [universal_transformer] [INFO] {'train_loss': tensor(7.0997, device='cuda:0'), 'train_perplexity': 1211.5862, 'train_accuracy': 0.0, 'train_target_perplexity': 1053.5747164351326, 'train_runtime': 35.94989351099957, 'epoch': 2}\n",
            "[2021-05-02 20:30:52 +0000] [universal_transformer] [INFO] {'val_loss': tensor(9.2972, device='cuda:0'), 'val_perplexity': 10906.908, 'val_accuracy': 0.0, 'val_target_perplexity': 44484.42849574627, 'val_runtime': 29.92211171800045, 'epoch': 2}\n",
            "[2021-05-02 20:31:24 +0000] [universal_transformer] [INFO] {'test_loss': tensor(9.9444, device='cuda:0'), 'test_perplexity': 20835.91, 'test_accuracy': 0.0, 'test_target_perplexity': 84895.42368608488, 'test_runtime': 30.384947989000466, 'epoch': 2}\n",
            "\n",
            "\u001b[34m\u001b[1mwandb\u001b[0m: Waiting for W&B process to finish, PID 1417\n",
            "\u001b[34m\u001b[1mwandb\u001b[0m: Program ended successfully.\n",
            "\u001b[34m\u001b[1mwandb\u001b[0m:                                                                                \n",
            "\u001b[34m\u001b[1mwandb\u001b[0m: Find user logs for this run at: /content/CS7643_group_project/wandb/run-20210502_202613-2zq9r1hc/logs/debug.log\n",
            "\u001b[34m\u001b[1mwandb\u001b[0m: Find internal logs for this run at: /content/CS7643_group_project/wandb/run-20210502_202613-2zq9r1hc/logs/debug-internal.log\n",
            "\u001b[34m\u001b[1mwandb\u001b[0m: Run summary:\n",
            "\u001b[34m\u001b[1mwandb\u001b[0m:                 val_loss_min 9.29715\n",
            "\u001b[34m\u001b[1mwandb\u001b[0m:           val_perplexity_min 10906.9082\n",
            "\u001b[34m\u001b[1mwandb\u001b[0m:             val_accuracy_min 0.0\n",
            "\u001b[34m\u001b[1mwandb\u001b[0m:    val_target_perplexity_min 44484.4285\n",
            "\u001b[34m\u001b[1mwandb\u001b[0m:              val_runtime_min 29.92211\n",
            "\u001b[34m\u001b[1mwandb\u001b[0m:                 val_loss_max 9.9314\n",
            "\u001b[34m\u001b[1mwandb\u001b[0m:           val_perplexity_max 20566.13867\n",
            "\u001b[34m\u001b[1mwandb\u001b[0m:             val_accuracy_max 0.0\n",
            "\u001b[34m\u001b[1mwandb\u001b[0m:    val_target_perplexity_max 79868.08252\n",
            "\u001b[34m\u001b[1mwandb\u001b[0m:              val_runtime_max 30.59412\n",
            "\u001b[34m\u001b[1mwandb\u001b[0m:                   train_loss 7.09969\n",
            "\u001b[34m\u001b[1mwandb\u001b[0m:             train_perplexity 1211.58618\n",
            "\u001b[34m\u001b[1mwandb\u001b[0m:               train_accuracy 0.0\n",
            "\u001b[34m\u001b[1mwandb\u001b[0m:      train_target_perplexity 1053.57472\n",
            "\u001b[34m\u001b[1mwandb\u001b[0m:                train_runtime 35.94989\n",
            "\u001b[34m\u001b[1mwandb\u001b[0m:                        epoch 2\n",
            "\u001b[34m\u001b[1mwandb\u001b[0m:                     val_loss 9.29715\n",
            "\u001b[34m\u001b[1mwandb\u001b[0m:               val_perplexity 10906.9082\n",
            "\u001b[34m\u001b[1mwandb\u001b[0m:                 val_accuracy 0.0\n",
            "\u001b[34m\u001b[1mwandb\u001b[0m:        val_target_perplexity 44484.4285\n",
            "\u001b[34m\u001b[1mwandb\u001b[0m:                  val_runtime 29.92211\n",
            "\u001b[34m\u001b[1mwandb\u001b[0m:                     _runtime 311\n",
            "\u001b[34m\u001b[1mwandb\u001b[0m:                   _timestamp 1619987484\n",
            "\u001b[34m\u001b[1mwandb\u001b[0m:                        _step 2\n",
            "\u001b[34m\u001b[1mwandb\u001b[0m:                test_loss_min 9.94443\n",
            "\u001b[34m\u001b[1mwandb\u001b[0m:          test_perplexity_min 20835.91016\n",
            "\u001b[34m\u001b[1mwandb\u001b[0m:            test_accuracy_min 0.0\n",
            "\u001b[34m\u001b[1mwandb\u001b[0m:   test_target_perplexity_min 84895.42369\n",
            "\u001b[34m\u001b[1mwandb\u001b[0m:             test_runtime_min 30.38495\n",
            "\u001b[34m\u001b[1mwandb\u001b[0m:                test_loss_max 9.94443\n",
            "\u001b[34m\u001b[1mwandb\u001b[0m:          test_perplexity_max 20835.91016\n",
            "\u001b[34m\u001b[1mwandb\u001b[0m:            test_accuracy_max 0.0\n",
            "\u001b[34m\u001b[1mwandb\u001b[0m:   test_target_perplexity_max 84895.42369\n",
            "\u001b[34m\u001b[1mwandb\u001b[0m:             test_runtime_max 30.38495\n",
            "\u001b[34m\u001b[1mwandb\u001b[0m:                    test_loss 9.94443\n",
            "\u001b[34m\u001b[1mwandb\u001b[0m:              test_perplexity 20835.91016\n",
            "\u001b[34m\u001b[1mwandb\u001b[0m:                test_accuracy 0.0\n",
            "\u001b[34m\u001b[1mwandb\u001b[0m:       test_target_perplexity 84895.42369\n",
            "\u001b[34m\u001b[1mwandb\u001b[0m:                 test_runtime 30.38495\n",
            "\u001b[34m\u001b[1mwandb\u001b[0m: Run history:\n",
            "\u001b[34m\u001b[1mwandb\u001b[0m:                train_loss █▁\n",
            "\u001b[34m\u001b[1mwandb\u001b[0m:          train_perplexity █▁\n",
            "\u001b[34m\u001b[1mwandb\u001b[0m:            train_accuracy ▁▁\n",
            "\u001b[34m\u001b[1mwandb\u001b[0m:   train_target_perplexity █▁\n",
            "\u001b[34m\u001b[1mwandb\u001b[0m:             train_runtime █▁\n",
            "\u001b[34m\u001b[1mwandb\u001b[0m:                     epoch ▁█\n",
            "\u001b[34m\u001b[1mwandb\u001b[0m:                  val_loss █▁\n",
            "\u001b[34m\u001b[1mwandb\u001b[0m:            val_perplexity █▁\n",
            "\u001b[34m\u001b[1mwandb\u001b[0m:              val_accuracy ▁▁\n",
            "\u001b[34m\u001b[1mwandb\u001b[0m:     val_target_perplexity █▁\n",
            "\u001b[34m\u001b[1mwandb\u001b[0m:               val_runtime █▁\n",
            "\u001b[34m\u001b[1mwandb\u001b[0m:                  _runtime ▁█\n",
            "\u001b[34m\u001b[1mwandb\u001b[0m:                _timestamp ▁█\n",
            "\u001b[34m\u001b[1mwandb\u001b[0m:                     _step ▁█\n",
            "\u001b[34m\u001b[1mwandb\u001b[0m:                 test_loss ▁\n",
            "\u001b[34m\u001b[1mwandb\u001b[0m:           test_perplexity ▁\n",
            "\u001b[34m\u001b[1mwandb\u001b[0m:             test_accuracy ▁\n",
            "\u001b[34m\u001b[1mwandb\u001b[0m:    test_target_perplexity ▁\n",
            "\u001b[34m\u001b[1mwandb\u001b[0m:              test_runtime ▁\n",
            "\u001b[34m\u001b[1mwandb\u001b[0m: \n",
            "\u001b[34m\u001b[1mwandb\u001b[0m: Synced 5 W&B file(s), 0 media file(s), 1 artifact file(s) and 0 other file(s)\n",
            "\u001b[34m\u001b[1mwandb\u001b[0m: \n",
            "\u001b[34m\u001b[1mwandb\u001b[0m: Synced \u001b[33mvanilla_lambada_test.yaml\u001b[0m: \u001b[34mhttps://wandb.ai/dfd/ut_lambada/runs/2zq9r1hc\u001b[0m\n"
          ],
          "name": "stdout"
        }
      ]
    },
    {
      "cell_type": "code",
      "metadata": {
        "id": "ImU7HwohAk3-"
      },
      "source": [
        ""
      ],
      "execution_count": null,
      "outputs": []
    }
  ]
}