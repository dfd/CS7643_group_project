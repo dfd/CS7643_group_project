{
  "nbformat": 4,
  "nbformat_minor": 0,
  "metadata": {
    "colab": {
      "name": "check_colab.ipynb",
      "provenance": [],
      "collapsed_sections": [],
      "include_colab_link": true
    },
    "kernelspec": {
      "name": "python3",
      "display_name": "Python 3"
    },
    "language_info": {
      "name": "python"
    },
    "accelerator": "GPU"
  },
  "cells": [
    {
      "cell_type": "markdown",
      "metadata": {
        "id": "view-in-github",
        "colab_type": "text"
      },
      "source": [
        "<a href=\"https://colab.research.google.com/github/dfd/CS7643_group_project/blob/master/notebooks/colab_example_lambada.ipynb\" target=\"_parent\"><img src=\"https://colab.research.google.com/assets/colab-badge.svg\" alt=\"Open In Colab\"/></a>"
      ]
    },
    {
      "cell_type": "code",
      "metadata": {
        "colab": {
          "base_uri": "https://localhost:8080/"
        },
        "id": "x6HaQBaoyItq",
        "outputId": "e922038b-2d82-4f23-a61d-3d4e35aeed5f"
      },
      "source": [
        "!pwd"
      ],
      "execution_count": 1,
      "outputs": [
        {
          "output_type": "stream",
          "text": [
            "/content\n"
          ],
          "name": "stdout"
        }
      ]
    },
    {
      "cell_type": "code",
      "metadata": {
        "colab": {
          "base_uri": "https://localhost:8080/"
        },
        "id": "eos6LSutyMwY",
        "outputId": "2d2cfb79-0313-4f17-a489-ec1f57fae38a"
      },
      "source": [
        "ls"
      ],
      "execution_count": 2,
      "outputs": [
        {
          "output_type": "stream",
          "text": [
            "\u001b[0m\u001b[01;34msample_data\u001b[0m/\n"
          ],
          "name": "stdout"
        }
      ]
    },
    {
      "cell_type": "code",
      "metadata": {
        "colab": {
          "base_uri": "https://localhost:8080/"
        },
        "id": "ZFkJzRrtb-4V",
        "outputId": "ca0a526f-36fc-4648-9525-4bc08f27ac5b"
      },
      "source": [
        "!git clone https://github.com/dfd/CS7643_group_project"
      ],
      "execution_count": 3,
      "outputs": [
        {
          "output_type": "stream",
          "text": [
            "Cloning into 'CS7643_group_project'...\n",
            "remote: Enumerating objects: 593, done.\u001b[K\n",
            "remote: Counting objects: 100% (593/593), done.\u001b[K\n",
            "remote: Compressing objects: 100% (397/397), done.\u001b[K\n",
            "remote: Total 593 (delta 304), reused 476 (delta 194), pack-reused 0\u001b[K\n",
            "Receiving objects: 100% (593/593), 14.77 MiB | 13.98 MiB/s, done.\n",
            "Resolving deltas: 100% (304/304), done.\n"
          ],
          "name": "stdout"
        }
      ]
    },
    {
      "cell_type": "code",
      "metadata": {
        "colab": {
          "base_uri": "https://localhost:8080/"
        },
        "id": "XwNFbzN9cHx7",
        "outputId": "2e7fb4c4-f9bd-4e91-b92c-b0118e70199d"
      },
      "source": [
        "cd CS7643_group_project"
      ],
      "execution_count": 4,
      "outputs": [
        {
          "output_type": "stream",
          "text": [
            "/content/CS7643_group_project\n"
          ],
          "name": "stdout"
        }
      ]
    },
    {
      "cell_type": "code",
      "metadata": {
        "colab": {
          "base_uri": "https://localhost:8080/"
        },
        "id": "1jYCSYqSL-ae",
        "outputId": "588bcea7-4897-456a-e998-0ed7c65940cf"
      },
      "source": [
        "!pip install torch==1.8.1\n",
        "!pip install spacy\n",
        "!pip install wandb\n",
        "!pip install transformers\n",
        "!pip install datasets\n",
        "!pip install torchtext\n",
        "!python -m spacy download en_core_web_md"
      ],
      "execution_count": 5,
      "outputs": [
        {
          "output_type": "stream",
          "text": [
            "Requirement already satisfied: torch==1.8.1 in /usr/local/lib/python3.7/dist-packages (1.8.1+cu101)\n",
            "Requirement already satisfied: numpy in /usr/local/lib/python3.7/dist-packages (from torch==1.8.1) (1.19.5)\n",
            "Requirement already satisfied: typing-extensions in /usr/local/lib/python3.7/dist-packages (from torch==1.8.1) (3.7.4.3)\n",
            "Requirement already satisfied: spacy in /usr/local/lib/python3.7/dist-packages (2.2.4)\n",
            "Requirement already satisfied: numpy>=1.15.0 in /usr/local/lib/python3.7/dist-packages (from spacy) (1.19.5)\n",
            "Requirement already satisfied: plac<1.2.0,>=0.9.6 in /usr/local/lib/python3.7/dist-packages (from spacy) (1.1.3)\n",
            "Requirement already satisfied: cymem<2.1.0,>=2.0.2 in /usr/local/lib/python3.7/dist-packages (from spacy) (2.0.5)\n",
            "Requirement already satisfied: wasabi<1.1.0,>=0.4.0 in /usr/local/lib/python3.7/dist-packages (from spacy) (0.8.2)\n",
            "Requirement already satisfied: catalogue<1.1.0,>=0.0.7 in /usr/local/lib/python3.7/dist-packages (from spacy) (1.0.0)\n",
            "Requirement already satisfied: srsly<1.1.0,>=1.0.2 in /usr/local/lib/python3.7/dist-packages (from spacy) (1.0.5)\n",
            "Requirement already satisfied: thinc==7.4.0 in /usr/local/lib/python3.7/dist-packages (from spacy) (7.4.0)\n",
            "Requirement already satisfied: requests<3.0.0,>=2.13.0 in /usr/local/lib/python3.7/dist-packages (from spacy) (2.23.0)\n",
            "Requirement already satisfied: preshed<3.1.0,>=3.0.2 in /usr/local/lib/python3.7/dist-packages (from spacy) (3.0.5)\n",
            "Requirement already satisfied: murmurhash<1.1.0,>=0.28.0 in /usr/local/lib/python3.7/dist-packages (from spacy) (1.0.5)\n",
            "Requirement already satisfied: tqdm<5.0.0,>=4.38.0 in /usr/local/lib/python3.7/dist-packages (from spacy) (4.41.1)\n",
            "Requirement already satisfied: setuptools in /usr/local/lib/python3.7/dist-packages (from spacy) (56.0.0)\n",
            "Requirement already satisfied: blis<0.5.0,>=0.4.0 in /usr/local/lib/python3.7/dist-packages (from spacy) (0.4.1)\n",
            "Requirement already satisfied: importlib-metadata>=0.20; python_version < \"3.8\" in /usr/local/lib/python3.7/dist-packages (from catalogue<1.1.0,>=0.0.7->spacy) (3.10.1)\n",
            "Requirement already satisfied: certifi>=2017.4.17 in /usr/local/lib/python3.7/dist-packages (from requests<3.0.0,>=2.13.0->spacy) (2020.12.5)\n",
            "Requirement already satisfied: idna<3,>=2.5 in /usr/local/lib/python3.7/dist-packages (from requests<3.0.0,>=2.13.0->spacy) (2.10)\n",
            "Requirement already satisfied: chardet<4,>=3.0.2 in /usr/local/lib/python3.7/dist-packages (from requests<3.0.0,>=2.13.0->spacy) (3.0.4)\n",
            "Requirement already satisfied: urllib3!=1.25.0,!=1.25.1,<1.26,>=1.21.1 in /usr/local/lib/python3.7/dist-packages (from requests<3.0.0,>=2.13.0->spacy) (1.24.3)\n",
            "Requirement already satisfied: typing-extensions>=3.6.4; python_version < \"3.8\" in /usr/local/lib/python3.7/dist-packages (from importlib-metadata>=0.20; python_version < \"3.8\"->catalogue<1.1.0,>=0.0.7->spacy) (3.7.4.3)\n",
            "Requirement already satisfied: zipp>=0.5 in /usr/local/lib/python3.7/dist-packages (from importlib-metadata>=0.20; python_version < \"3.8\"->catalogue<1.1.0,>=0.0.7->spacy) (3.4.1)\n",
            "Collecting wandb\n",
            "\u001b[?25l  Downloading https://files.pythonhosted.org/packages/5c/ee/d755f9e5466df64c8416a2c6a860fb3aaa43ed6ea8e8e8e81460fda5788b/wandb-0.10.28-py2.py3-none-any.whl (2.1MB)\n",
            "\u001b[K     |████████████████████████████████| 2.1MB 2.9MB/s \n",
            "\u001b[?25hRequirement already satisfied: requests<3,>=2.0.0 in /usr/local/lib/python3.7/dist-packages (from wandb) (2.23.0)\n",
            "Collecting shortuuid>=0.5.0\n",
            "  Downloading https://files.pythonhosted.org/packages/25/a6/2ecc1daa6a304e7f1b216f0896b26156b78e7c38e1211e9b798b4716c53d/shortuuid-1.0.1-py3-none-any.whl\n",
            "Requirement already satisfied: six>=1.13.0 in /usr/local/lib/python3.7/dist-packages (from wandb) (1.15.0)\n",
            "Requirement already satisfied: psutil>=5.0.0 in /usr/local/lib/python3.7/dist-packages (from wandb) (5.4.8)\n",
            "Collecting subprocess32>=3.5.3\n",
            "\u001b[?25l  Downloading https://files.pythonhosted.org/packages/32/c8/564be4d12629b912ea431f1a50eb8b3b9d00f1a0b1ceff17f266be190007/subprocess32-3.5.4.tar.gz (97kB)\n",
            "\u001b[K     |████████████████████████████████| 102kB 6.6MB/s \n",
            "\u001b[?25hRequirement already satisfied: python-dateutil>=2.6.1 in /usr/local/lib/python3.7/dist-packages (from wandb) (2.8.1)\n",
            "Collecting docker-pycreds>=0.4.0\n",
            "  Downloading https://files.pythonhosted.org/packages/f5/e8/f6bd1eee09314e7e6dee49cbe2c5e22314ccdb38db16c9fc72d2fa80d054/docker_pycreds-0.4.0-py2.py3-none-any.whl\n",
            "Requirement already satisfied: protobuf>=3.12.0 in /usr/local/lib/python3.7/dist-packages (from wandb) (3.12.4)\n",
            "Requirement already satisfied: PyYAML in /usr/local/lib/python3.7/dist-packages (from wandb) (3.13)\n",
            "Collecting sentry-sdk>=0.4.0\n",
            "\u001b[?25l  Downloading https://files.pythonhosted.org/packages/f3/92/5a33be64990ba815364a8f2dd9e6f51de60d23dfddafb4f1fc5577d4dc64/sentry_sdk-1.0.0-py2.py3-none-any.whl (131kB)\n",
            "\u001b[K     |████████████████████████████████| 133kB 11.7MB/s \n",
            "\u001b[?25hCollecting pathtools\n",
            "  Downloading https://files.pythonhosted.org/packages/e7/7f/470d6fcdf23f9f3518f6b0b76be9df16dcc8630ad409947f8be2eb0ed13a/pathtools-0.1.2.tar.gz\n",
            "Requirement already satisfied: promise<3,>=2.0 in /usr/local/lib/python3.7/dist-packages (from wandb) (2.3)\n",
            "Collecting GitPython>=1.0.0\n",
            "\u001b[?25l  Downloading https://files.pythonhosted.org/packages/a6/99/98019716955ba243657daedd1de8f3a88ca1f5b75057c38e959db22fb87b/GitPython-3.1.14-py3-none-any.whl (159kB)\n",
            "\u001b[K     |████████████████████████████████| 163kB 12.0MB/s \n",
            "\u001b[?25hRequirement already satisfied: Click>=7.0 in /usr/local/lib/python3.7/dist-packages (from wandb) (7.1.2)\n",
            "Collecting configparser>=3.8.1\n",
            "  Downloading https://files.pythonhosted.org/packages/fd/01/ff260a18caaf4457eb028c96eeb405c4a230ca06c8ec9c1379f813caa52e/configparser-5.0.2-py3-none-any.whl\n",
            "Requirement already satisfied: certifi>=2017.4.17 in /usr/local/lib/python3.7/dist-packages (from requests<3,>=2.0.0->wandb) (2020.12.5)\n",
            "Requirement already satisfied: idna<3,>=2.5 in /usr/local/lib/python3.7/dist-packages (from requests<3,>=2.0.0->wandb) (2.10)\n",
            "Requirement already satisfied: chardet<4,>=3.0.2 in /usr/local/lib/python3.7/dist-packages (from requests<3,>=2.0.0->wandb) (3.0.4)\n",
            "Requirement already satisfied: urllib3!=1.25.0,!=1.25.1,<1.26,>=1.21.1 in /usr/local/lib/python3.7/dist-packages (from requests<3,>=2.0.0->wandb) (1.24.3)\n",
            "Requirement already satisfied: setuptools in /usr/local/lib/python3.7/dist-packages (from protobuf>=3.12.0->wandb) (56.0.0)\n",
            "Collecting gitdb<5,>=4.0.1\n",
            "\u001b[?25l  Downloading https://files.pythonhosted.org/packages/ea/e8/f414d1a4f0bbc668ed441f74f44c116d9816833a48bf81d22b697090dba8/gitdb-4.0.7-py3-none-any.whl (63kB)\n",
            "\u001b[K     |████████████████████████████████| 71kB 5.8MB/s \n",
            "\u001b[?25hCollecting smmap<5,>=3.0.1\n",
            "  Downloading https://files.pythonhosted.org/packages/68/ee/d540eb5e5996eb81c26ceffac6ee49041d473bc5125f2aa995cf51ec1cf1/smmap-4.0.0-py2.py3-none-any.whl\n",
            "Building wheels for collected packages: subprocess32, pathtools\n",
            "  Building wheel for subprocess32 (setup.py) ... \u001b[?25l\u001b[?25hdone\n",
            "  Created wheel for subprocess32: filename=subprocess32-3.5.4-cp37-none-any.whl size=6489 sha256=9116d4753560af1d2c1fc6dca82a44dbb0bd49b3259b33255080a5d2dc0fa1c1\n",
            "  Stored in directory: /root/.cache/pip/wheels/68/39/1a/5e402bdfdf004af1786c8b853fd92f8c4a04f22aad179654d1\n",
            "  Building wheel for pathtools (setup.py) ... \u001b[?25l\u001b[?25hdone\n",
            "  Created wheel for pathtools: filename=pathtools-0.1.2-cp37-none-any.whl size=8786 sha256=b5333d4c9c5b7f939826ea3b42d0aeb914cd48a8ef8de44fa7351d2e7729caa7\n",
            "  Stored in directory: /root/.cache/pip/wheels/0b/04/79/c3b0c3a0266a3cb4376da31e5bfe8bba0c489246968a68e843\n",
            "Successfully built subprocess32 pathtools\n",
            "Installing collected packages: shortuuid, subprocess32, docker-pycreds, sentry-sdk, pathtools, smmap, gitdb, GitPython, configparser, wandb\n",
            "Successfully installed GitPython-3.1.14 configparser-5.0.2 docker-pycreds-0.4.0 gitdb-4.0.7 pathtools-0.1.2 sentry-sdk-1.0.0 shortuuid-1.0.1 smmap-4.0.0 subprocess32-3.5.4 wandb-0.10.28\n",
            "Collecting transformers\n",
            "\u001b[?25l  Downloading https://files.pythonhosted.org/packages/d8/b2/57495b5309f09fa501866e225c84532d1fd89536ea62406b2181933fb418/transformers-4.5.1-py3-none-any.whl (2.1MB)\n",
            "\u001b[K     |████████████████████████████████| 2.1MB 3.8MB/s \n",
            "\u001b[?25hRequirement already satisfied: requests in /usr/local/lib/python3.7/dist-packages (from transformers) (2.23.0)\n",
            "Requirement already satisfied: numpy>=1.17 in /usr/local/lib/python3.7/dist-packages (from transformers) (1.19.5)\n",
            "Collecting tokenizers<0.11,>=0.10.1\n",
            "\u001b[?25l  Downloading https://files.pythonhosted.org/packages/ae/04/5b870f26a858552025a62f1649c20d29d2672c02ff3c3fb4c688ca46467a/tokenizers-0.10.2-cp37-cp37m-manylinux2010_x86_64.whl (3.3MB)\n",
            "\u001b[K     |████████████████████████████████| 3.3MB 11.9MB/s \n",
            "\u001b[?25hRequirement already satisfied: regex!=2019.12.17 in /usr/local/lib/python3.7/dist-packages (from transformers) (2019.12.20)\n",
            "Requirement already satisfied: importlib-metadata; python_version < \"3.8\" in /usr/local/lib/python3.7/dist-packages (from transformers) (3.10.1)\n",
            "Requirement already satisfied: filelock in /usr/local/lib/python3.7/dist-packages (from transformers) (3.0.12)\n",
            "Collecting sacremoses\n",
            "\u001b[?25l  Downloading https://files.pythonhosted.org/packages/75/ee/67241dc87f266093c533a2d4d3d69438e57d7a90abb216fa076e7d475d4a/sacremoses-0.0.45-py3-none-any.whl (895kB)\n",
            "\u001b[K     |████████████████████████████████| 901kB 28.7MB/s \n",
            "\u001b[?25hRequirement already satisfied: packaging in /usr/local/lib/python3.7/dist-packages (from transformers) (20.9)\n",
            "Requirement already satisfied: tqdm>=4.27 in /usr/local/lib/python3.7/dist-packages (from transformers) (4.41.1)\n",
            "Requirement already satisfied: idna<3,>=2.5 in /usr/local/lib/python3.7/dist-packages (from requests->transformers) (2.10)\n",
            "Requirement already satisfied: certifi>=2017.4.17 in /usr/local/lib/python3.7/dist-packages (from requests->transformers) (2020.12.5)\n",
            "Requirement already satisfied: urllib3!=1.25.0,!=1.25.1,<1.26,>=1.21.1 in /usr/local/lib/python3.7/dist-packages (from requests->transformers) (1.24.3)\n",
            "Requirement already satisfied: chardet<4,>=3.0.2 in /usr/local/lib/python3.7/dist-packages (from requests->transformers) (3.0.4)\n",
            "Requirement already satisfied: typing-extensions>=3.6.4; python_version < \"3.8\" in /usr/local/lib/python3.7/dist-packages (from importlib-metadata; python_version < \"3.8\"->transformers) (3.7.4.3)\n",
            "Requirement already satisfied: zipp>=0.5 in /usr/local/lib/python3.7/dist-packages (from importlib-metadata; python_version < \"3.8\"->transformers) (3.4.1)\n",
            "Requirement already satisfied: six in /usr/local/lib/python3.7/dist-packages (from sacremoses->transformers) (1.15.0)\n",
            "Requirement already satisfied: joblib in /usr/local/lib/python3.7/dist-packages (from sacremoses->transformers) (1.0.1)\n",
            "Requirement already satisfied: click in /usr/local/lib/python3.7/dist-packages (from sacremoses->transformers) (7.1.2)\n",
            "Requirement already satisfied: pyparsing>=2.0.2 in /usr/local/lib/python3.7/dist-packages (from packaging->transformers) (2.4.7)\n",
            "Installing collected packages: tokenizers, sacremoses, transformers\n",
            "Successfully installed sacremoses-0.0.45 tokenizers-0.10.2 transformers-4.5.1\n",
            "Collecting datasets\n",
            "\u001b[?25l  Downloading https://files.pythonhosted.org/packages/46/1a/b9f9b3bfef624686ae81c070f0a6bb635047b17cdb3698c7ad01281e6f9a/datasets-1.6.2-py3-none-any.whl (221kB)\n",
            "\u001b[K     |████████████████████████████████| 225kB 3.9MB/s \n",
            "\u001b[?25hRequirement already satisfied: tqdm<4.50.0,>=4.27 in /usr/local/lib/python3.7/dist-packages (from datasets) (4.41.1)\n",
            "Requirement already satisfied: dill in /usr/local/lib/python3.7/dist-packages (from datasets) (0.3.3)\n",
            "Requirement already satisfied: packaging in /usr/local/lib/python3.7/dist-packages (from datasets) (20.9)\n",
            "Collecting fsspec\n",
            "\u001b[?25l  Downloading https://files.pythonhosted.org/packages/e9/91/2ef649137816850fa4f4c97c6f2eabb1a79bf0aa2c8ed198e387e373455e/fsspec-2021.4.0-py3-none-any.whl (108kB)\n",
            "\u001b[K     |████████████████████████████████| 112kB 33.8MB/s \n",
            "\u001b[?25hCollecting huggingface-hub<0.1.0\n",
            "  Downloading https://files.pythonhosted.org/packages/a1/88/7b1e45720ecf59c6c6737ff332f41c955963090a18e72acbcbeac6b25e86/huggingface_hub-0.0.8-py3-none-any.whl\n",
            "Requirement already satisfied: numpy>=1.17 in /usr/local/lib/python3.7/dist-packages (from datasets) (1.19.5)\n",
            "Requirement already satisfied: importlib-metadata; python_version < \"3.8\" in /usr/local/lib/python3.7/dist-packages (from datasets) (3.10.1)\n",
            "Collecting xxhash\n",
            "\u001b[?25l  Downloading https://files.pythonhosted.org/packages/7d/4f/0a862cad26aa2ed7a7cd87178cbbfa824fc1383e472d63596a0d018374e7/xxhash-2.0.2-cp37-cp37m-manylinux2010_x86_64.whl (243kB)\n",
            "\u001b[K     |████████████████████████████████| 245kB 39.2MB/s \n",
            "\u001b[?25hRequirement already satisfied: requests>=2.19.0 in /usr/local/lib/python3.7/dist-packages (from datasets) (2.23.0)\n",
            "Requirement already satisfied: pandas in /usr/local/lib/python3.7/dist-packages (from datasets) (1.1.5)\n",
            "Requirement already satisfied: multiprocess in /usr/local/lib/python3.7/dist-packages (from datasets) (0.70.11.1)\n",
            "Requirement already satisfied: pyarrow>=1.0.0<4.0.0 in /usr/local/lib/python3.7/dist-packages (from datasets) (3.0.0)\n",
            "Requirement already satisfied: pyparsing>=2.0.2 in /usr/local/lib/python3.7/dist-packages (from packaging->datasets) (2.4.7)\n",
            "Requirement already satisfied: filelock in /usr/local/lib/python3.7/dist-packages (from huggingface-hub<0.1.0->datasets) (3.0.12)\n",
            "Requirement already satisfied: zipp>=0.5 in /usr/local/lib/python3.7/dist-packages (from importlib-metadata; python_version < \"3.8\"->datasets) (3.4.1)\n",
            "Requirement already satisfied: typing-extensions>=3.6.4; python_version < \"3.8\" in /usr/local/lib/python3.7/dist-packages (from importlib-metadata; python_version < \"3.8\"->datasets) (3.7.4.3)\n",
            "Requirement already satisfied: chardet<4,>=3.0.2 in /usr/local/lib/python3.7/dist-packages (from requests>=2.19.0->datasets) (3.0.4)\n",
            "Requirement already satisfied: urllib3!=1.25.0,!=1.25.1,<1.26,>=1.21.1 in /usr/local/lib/python3.7/dist-packages (from requests>=2.19.0->datasets) (1.24.3)\n",
            "Requirement already satisfied: idna<3,>=2.5 in /usr/local/lib/python3.7/dist-packages (from requests>=2.19.0->datasets) (2.10)\n",
            "Requirement already satisfied: certifi>=2017.4.17 in /usr/local/lib/python3.7/dist-packages (from requests>=2.19.0->datasets) (2020.12.5)\n",
            "Requirement already satisfied: python-dateutil>=2.7.3 in /usr/local/lib/python3.7/dist-packages (from pandas->datasets) (2.8.1)\n",
            "Requirement already satisfied: pytz>=2017.2 in /usr/local/lib/python3.7/dist-packages (from pandas->datasets) (2018.9)\n",
            "Requirement already satisfied: six>=1.5 in /usr/local/lib/python3.7/dist-packages (from python-dateutil>=2.7.3->pandas->datasets) (1.15.0)\n",
            "Installing collected packages: fsspec, huggingface-hub, xxhash, datasets\n",
            "Successfully installed datasets-1.6.2 fsspec-2021.4.0 huggingface-hub-0.0.8 xxhash-2.0.2\n",
            "Requirement already satisfied: torchtext in /usr/local/lib/python3.7/dist-packages (0.9.1)\n",
            "Requirement already satisfied: requests in /usr/local/lib/python3.7/dist-packages (from torchtext) (2.23.0)\n",
            "Requirement already satisfied: tqdm in /usr/local/lib/python3.7/dist-packages (from torchtext) (4.41.1)\n",
            "Requirement already satisfied: torch==1.8.1 in /usr/local/lib/python3.7/dist-packages (from torchtext) (1.8.1+cu101)\n",
            "Requirement already satisfied: numpy in /usr/local/lib/python3.7/dist-packages (from torchtext) (1.19.5)\n",
            "Requirement already satisfied: chardet<4,>=3.0.2 in /usr/local/lib/python3.7/dist-packages (from requests->torchtext) (3.0.4)\n",
            "Requirement already satisfied: idna<3,>=2.5 in /usr/local/lib/python3.7/dist-packages (from requests->torchtext) (2.10)\n",
            "Requirement already satisfied: urllib3!=1.25.0,!=1.25.1,<1.26,>=1.21.1 in /usr/local/lib/python3.7/dist-packages (from requests->torchtext) (1.24.3)\n",
            "Requirement already satisfied: certifi>=2017.4.17 in /usr/local/lib/python3.7/dist-packages (from requests->torchtext) (2020.12.5)\n",
            "Requirement already satisfied: typing-extensions in /usr/local/lib/python3.7/dist-packages (from torch==1.8.1->torchtext) (3.7.4.3)\n",
            "Collecting en_core_web_md==2.2.5\n",
            "\u001b[?25l  Downloading https://github.com/explosion/spacy-models/releases/download/en_core_web_md-2.2.5/en_core_web_md-2.2.5.tar.gz (96.4MB)\n",
            "\u001b[K     |████████████████████████████████| 96.4MB 1.2MB/s \n",
            "\u001b[?25hRequirement already satisfied: spacy>=2.2.2 in /usr/local/lib/python3.7/dist-packages (from en_core_web_md==2.2.5) (2.2.4)\n",
            "Requirement already satisfied: wasabi<1.1.0,>=0.4.0 in /usr/local/lib/python3.7/dist-packages (from spacy>=2.2.2->en_core_web_md==2.2.5) (0.8.2)\n",
            "Requirement already satisfied: tqdm<5.0.0,>=4.38.0 in /usr/local/lib/python3.7/dist-packages (from spacy>=2.2.2->en_core_web_md==2.2.5) (4.41.1)\n",
            "Requirement already satisfied: preshed<3.1.0,>=3.0.2 in /usr/local/lib/python3.7/dist-packages (from spacy>=2.2.2->en_core_web_md==2.2.5) (3.0.5)\n",
            "Requirement already satisfied: murmurhash<1.1.0,>=0.28.0 in /usr/local/lib/python3.7/dist-packages (from spacy>=2.2.2->en_core_web_md==2.2.5) (1.0.5)\n",
            "Requirement already satisfied: catalogue<1.1.0,>=0.0.7 in /usr/local/lib/python3.7/dist-packages (from spacy>=2.2.2->en_core_web_md==2.2.5) (1.0.0)\n",
            "Requirement already satisfied: setuptools in /usr/local/lib/python3.7/dist-packages (from spacy>=2.2.2->en_core_web_md==2.2.5) (56.0.0)\n",
            "Requirement already satisfied: srsly<1.1.0,>=1.0.2 in /usr/local/lib/python3.7/dist-packages (from spacy>=2.2.2->en_core_web_md==2.2.5) (1.0.5)\n",
            "Requirement already satisfied: numpy>=1.15.0 in /usr/local/lib/python3.7/dist-packages (from spacy>=2.2.2->en_core_web_md==2.2.5) (1.19.5)\n",
            "Requirement already satisfied: requests<3.0.0,>=2.13.0 in /usr/local/lib/python3.7/dist-packages (from spacy>=2.2.2->en_core_web_md==2.2.5) (2.23.0)\n",
            "Requirement already satisfied: blis<0.5.0,>=0.4.0 in /usr/local/lib/python3.7/dist-packages (from spacy>=2.2.2->en_core_web_md==2.2.5) (0.4.1)\n",
            "Requirement already satisfied: plac<1.2.0,>=0.9.6 in /usr/local/lib/python3.7/dist-packages (from spacy>=2.2.2->en_core_web_md==2.2.5) (1.1.3)\n",
            "Requirement already satisfied: cymem<2.1.0,>=2.0.2 in /usr/local/lib/python3.7/dist-packages (from spacy>=2.2.2->en_core_web_md==2.2.5) (2.0.5)\n",
            "Requirement already satisfied: thinc==7.4.0 in /usr/local/lib/python3.7/dist-packages (from spacy>=2.2.2->en_core_web_md==2.2.5) (7.4.0)\n",
            "Requirement already satisfied: importlib-metadata>=0.20; python_version < \"3.8\" in /usr/local/lib/python3.7/dist-packages (from catalogue<1.1.0,>=0.0.7->spacy>=2.2.2->en_core_web_md==2.2.5) (3.10.1)\n",
            "Requirement already satisfied: certifi>=2017.4.17 in /usr/local/lib/python3.7/dist-packages (from requests<3.0.0,>=2.13.0->spacy>=2.2.2->en_core_web_md==2.2.5) (2020.12.5)\n",
            "Requirement already satisfied: urllib3!=1.25.0,!=1.25.1,<1.26,>=1.21.1 in /usr/local/lib/python3.7/dist-packages (from requests<3.0.0,>=2.13.0->spacy>=2.2.2->en_core_web_md==2.2.5) (1.24.3)\n",
            "Requirement already satisfied: idna<3,>=2.5 in /usr/local/lib/python3.7/dist-packages (from requests<3.0.0,>=2.13.0->spacy>=2.2.2->en_core_web_md==2.2.5) (2.10)\n",
            "Requirement already satisfied: chardet<4,>=3.0.2 in /usr/local/lib/python3.7/dist-packages (from requests<3.0.0,>=2.13.0->spacy>=2.2.2->en_core_web_md==2.2.5) (3.0.4)\n",
            "Requirement already satisfied: typing-extensions>=3.6.4; python_version < \"3.8\" in /usr/local/lib/python3.7/dist-packages (from importlib-metadata>=0.20; python_version < \"3.8\"->catalogue<1.1.0,>=0.0.7->spacy>=2.2.2->en_core_web_md==2.2.5) (3.7.4.3)\n",
            "Requirement already satisfied: zipp>=0.5 in /usr/local/lib/python3.7/dist-packages (from importlib-metadata>=0.20; python_version < \"3.8\"->catalogue<1.1.0,>=0.0.7->spacy>=2.2.2->en_core_web_md==2.2.5) (3.4.1)\n",
            "Building wheels for collected packages: en-core-web-md\n",
            "  Building wheel for en-core-web-md (setup.py) ... \u001b[?25l\u001b[?25hdone\n",
            "  Created wheel for en-core-web-md: filename=en_core_web_md-2.2.5-cp37-none-any.whl size=98051305 sha256=7c6d5cd76931ebbf189deda95eaa7a236086c1f696b9063cd0752f7e4d9cd885\n",
            "  Stored in directory: /tmp/pip-ephem-wheel-cache-qf0ab0m5/wheels/df/94/ad/f5cf59224cea6b5686ac4fd1ad19c8a07bc026e13c36502d81\n",
            "Successfully built en-core-web-md\n",
            "Installing collected packages: en-core-web-md\n",
            "Successfully installed en-core-web-md-2.2.5\n",
            "\u001b[38;5;2m✔ Download and installation successful\u001b[0m\n",
            "You can now load the model via spacy.load('en_core_web_md')\n"
          ],
          "name": "stdout"
        }
      ]
    },
    {
      "cell_type": "code",
      "metadata": {
        "id": "tzdvq6V4S5nY",
        "outputId": "c3bb50a2-3a3f-44cc-a95a-14d77dedc8ab",
        "colab": {
          "base_uri": "https://localhost:8080/"
        }
      },
      "source": [
        "import wandb\n",
        "!wandb login"
      ],
      "execution_count": 31,
      "outputs": [
        {
          "output_type": "stream",
          "text": [
            "\u001b[34m\u001b[1mwandb\u001b[0m: You can find your API key in your browser here: https://wandb.ai/authorize\n",
            "\u001b[34m\u001b[1mwandb\u001b[0m: Paste an API key from your profile and hit enter: \n",
            "\u001b[34m\u001b[1mwandb\u001b[0m: Appending key for api.wandb.ai to your netrc file: /root/.netrc\n"
          ],
          "name": "stdout"
        }
      ]
    },
    {
      "cell_type": "code",
      "metadata": {
        "colab": {
          "base_uri": "https://localhost:8080/"
        },
        "id": "SzG0FvThb0Cv",
        "outputId": "b273dfb2-cbff-42e2-f090-bb23f664a42c"
      },
      "source": [
        "ls"
      ],
      "execution_count": 36,
      "outputs": [
        {
          "output_type": "stream",
          "text": [
            "\u001b[0m\u001b[01;34mconfigs\u001b[0m/         \u001b[01;34mnotebooks\u001b[0m/  state_dict.pickle  train.py                \u001b[01;34mwandb\u001b[0m/\n",
            "environment.yml  setup.cfg   train_lambada.py   \u001b[01;34muniversal_transformer\u001b[0m/\n"
          ],
          "name": "stdout"
        }
      ]
    },
    {
      "cell_type": "code",
      "metadata": {
        "id": "ZSFQShinXLSi"
      },
      "source": [
        "#!WANDB_MODE=dryrun python train.py -c configs/depthwise_conv.yaml"
      ],
      "execution_count": 33,
      "outputs": []
    },
    {
      "cell_type": "code",
      "metadata": {
        "colab": {
          "base_uri": "https://localhost:8080/"
        },
        "id": "rHeKp5UlquQQ",
        "outputId": "843ce4f2-079b-46a8-f01e-a356825d9ca6"
      },
      "source": [
        "!rm universal_transformer/__pycache__/transformers.cpython-37.pyc\n",
        "!git pull origin master"
      ],
      "execution_count": 34,
      "outputs": [
        {
          "output_type": "stream",
          "text": [
            "From https://github.com/dfd/CS7643_group_project\n",
            " * branch            master     -> FETCH_HEAD\n",
            "Already up to date.\n"
          ],
          "name": "stdout"
        }
      ]
    },
    {
      "cell_type": "code",
      "metadata": {
        "colab": {
          "base_uri": "https://localhost:8080/"
        },
        "id": "0xtdYB6tdyqM",
        "outputId": "9f60d255-5edd-4315-af4a-4f917b65e56d"
      },
      "source": [
        "!WANDB_MODE=run python train_lambada.py --project ut_lambada -c configs/universal_lambada.yaml"
      ],
      "execution_count": 35,
      "outputs": [
        {
          "output_type": "stream",
          "text": [
            "2021-05-02 04:19:33.215409: I tensorflow/stream_executor/platform/default/dso_loader.cc:49] Successfully opened dynamic library libcudart.so.11.0\n",
            "\u001b[34m\u001b[1mwandb\u001b[0m: Currently logged in as: \u001b[33mdfd\u001b[0m (use `wandb login --relogin` to force relogin)\n",
            "2021-05-02 04:19:36.802541: I tensorflow/stream_executor/platform/default/dso_loader.cc:49] Successfully opened dynamic library libcudart.so.11.0\n",
            "\u001b[34m\u001b[1mwandb\u001b[0m: Tracking run with wandb version 0.10.28\n",
            "\u001b[34m\u001b[1mwandb\u001b[0m: Syncing run \u001b[33mfirm-rain-1\u001b[0m\n",
            "\u001b[34m\u001b[1mwandb\u001b[0m: ⭐️ View project at \u001b[34m\u001b[4mhttps://wandb.ai/dfd/ut_lambada\u001b[0m\n",
            "\u001b[34m\u001b[1mwandb\u001b[0m: 🚀 View run at \u001b[34m\u001b[4mhttps://wandb.ai/dfd/ut_lambada/runs/1f6ru7ne\u001b[0m\n",
            "\u001b[34m\u001b[1mwandb\u001b[0m: Run data is saved locally in /content/CS7643_group_project/wandb/run-20210502_041935-1f6ru7ne\n",
            "\u001b[34m\u001b[1mwandb\u001b[0m: Run `wandb offline` to turn off syncing.\n",
            "\n",
            "using cuda\n",
            "Reusing dataset lambada (/root/.cache/huggingface/datasets/lambada/plain_text/1.1.0/e32d76a7236c9ebb30099bc73d677c3acf32ddffb411836fe9ffc091ad3f3bec)\n",
            "/content/CS7643_group_project/universal_transformer/datasets.py:73: FutureWarning: remove_columns_ is deprecated and will be removed in the next major version of datasets. Use Dataset.remove_columns instead.\n",
            "  train.remove_columns_(['domain'])\n",
            "torch.Size([10000, 203])\n",
            "torch.Size([4869, 203])\n",
            "torch.Size([5153, 203])\n",
            "data loaded\n",
            "alt kwargs\n",
            "6\n",
            "tcmalloc: large alloc 2186412032 bytes == 0x55a06faa6000 @  0x7f91c54f3b6b 0x7f91c5513379 0x7f915c75325e 0x7f915c7549d2 0x7f919a01b853 0x7f91998a3043 0x7f9199da47d7 0x7f9199d73da0 0x7f9199bce679 0x7f9199895d08 0x7f9199ea21aa 0x7f919a00ee62 0x7f9199fe6bb2 0x7f91aae717de 0x7f91aaf9d85e 0x559f952be050 0x559f953af99d 0x559f95331fe9 0x559f953b0858 0x559f9532dee2 0x559f952bf69a 0x559f9532da45 0x559f9532cb0e 0x559f9532c813 0x559f953f6592 0x559f953f690d 0x559f953f67b6 0x559f953ce103 0x559f953cddac 0x7f91c42fbbf7 0x559f953cdc8a\n",
            "train_lambada.py:81: UserWarning: To copy construct from a tensor, it is recommended to use sourceTensor.clone().detach() or sourceTensor.clone().detach().requires_grad_(True), rather than torch.tensor(sourceTensor).\n",
            "  torch.tensor(target_logits).cuda(), torch.tensor(target_words).cuda()\n",
            "tcmalloc: large alloc 2186412032 bytes == 0x55a06faa6000 @  0x7f91c54f3b6b 0x7f91c5513379 0x7f915c75325e 0x7f915c7549d2 0x7f919a01b853 0x7f91998a3043 0x7f9199da47d7 0x7f9199d73da0 0x7f9199bce679 0x7f9199895d08 0x7f9199ea21aa 0x7f919a00ee62 0x7f9199fe6bb2 0x7f91aae717de 0x7f91aaf9d85e 0x559f952be050 0x559f953af99d 0x559f95331fe9 0x559f953b0858 0x559f9532dee2 0x559f952bf69a 0x559f9532da45 0x559f9532cb0e 0x559f9532c813 0x559f953f6592 0x559f953f690d 0x559f953f67b6 0x559f953ce103 0x559f953cddac 0x7f91c42fbbf7 0x559f953cdc8a\n",
            "tcmalloc: large alloc 2186412032 bytes == 0x55a06faa6000 @  0x7f91c54f3b6b 0x7f91c5513379 0x7f915c75325e 0x7f915c7549d2 0x7f919a01b853 0x7f91998a3043 0x7f9199da47d7 0x7f9199d73da0 0x7f9199bce679 0x7f9199895d08 0x7f9199ea21aa 0x7f919a00ee62 0x7f9199fe6bb2 0x7f91aae717de 0x7f91aaf9d85e 0x559f952be050 0x559f953af99d 0x559f95331fe9 0x559f953b0858 0x559f9532dee2 0x559f952bf69a 0x559f9532da45 0x559f9532cb0e 0x559f9532c813 0x559f953f6592 0x559f953f690d 0x559f953f67b6 0x559f953ce103 0x559f953cddac 0x7f91c42fbbf7 0x559f953cdc8a\n",
            "tcmalloc: large alloc 2186412032 bytes == 0x55a06faa6000 @  0x7f91c54f3b6b 0x7f91c5513379 0x7f915c75325e 0x7f915c7549d2 0x7f919a01b853 0x7f91998a3043 0x7f9199da47d7 0x7f9199d73da0 0x7f9199bce679 0x7f9199895d08 0x7f9199ea21aa 0x7f919a00ee62 0x7f9199fe6bb2 0x7f91aae717de 0x7f91aaf9d85e 0x559f952be050 0x559f953af99d 0x559f95331fe9 0x559f953b0858 0x559f9532dee2 0x559f952bf69a 0x559f9532da45 0x559f9532cb0e 0x559f9532c813 0x559f953f6592 0x559f953f690d 0x559f953f67b6 0x559f953ce103 0x559f953cddac 0x7f91c42fbbf7 0x559f953cdc8a\n",
            "tcmalloc: large alloc 2186412032 bytes == 0x55a06faa6000 @  0x7f91c54f3b6b 0x7f91c5513379 0x7f915c75325e 0x7f915c7549d2 0x7f919a01b853 0x7f91998a3043 0x7f9199da47d7 0x7f9199d73da0 0x7f9199bce679 0x7f9199895d08 0x7f9199ea21aa 0x7f919a00ee62 0x7f9199fe6bb2 0x7f91aae717de 0x7f91aaf9d85e 0x559f952be050 0x559f953af99d 0x559f95331fe9 0x559f953b0858 0x559f9532dee2 0x559f952bf69a 0x559f9532da45 0x559f9532cb0e 0x559f9532c813 0x559f953f6592 0x559f953f690d 0x559f953f67b6 0x559f953ce103 0x559f953cddac 0x7f91c42fbbf7 0x559f953cdc8a\n",
            "tcmalloc: large alloc 2186412032 bytes == 0x55a06faa6000 @  0x7f91c54f3b6b 0x7f91c5513379 0x7f915c75325e 0x7f915c7549d2 0x7f919a01b853 0x7f91998a3043 0x7f9199da47d7 0x7f9199d73da0 0x7f9199bce679 0x7f9199895d08 0x7f9199ea21aa 0x7f919a00ee62 0x7f9199fe6bb2 0x7f91aae717de 0x7f91aaf9d85e 0x559f952be050 0x559f953af99d 0x559f95331fe9 0x559f953b0858 0x559f9532dee2 0x559f952bf69a 0x559f9532da45 0x559f9532cb0e 0x559f9532c813 0x559f953f6592 0x559f953f690d 0x559f953f67b6 0x559f953ce103 0x559f953cddac 0x7f91c42fbbf7 0x559f953cdc8a\n",
            "tcmalloc: large alloc 2186412032 bytes == 0x55a06faa6000 @  0x7f91c54f3b6b 0x7f91c5513379 0x7f915c75325e 0x7f915c7549d2 0x7f919a01b853 0x7f91998a3043 0x7f9199da47d7 0x7f9199d73da0 0x7f9199bce679 0x7f9199895d08 0x7f9199ea21aa 0x7f919a00ee62 0x7f9199fe6bb2 0x7f91aae717de 0x7f91aaf9d85e 0x559f952be050 0x559f953af99d 0x559f95331fe9 0x559f953b0858 0x559f9532dee2 0x559f952bf69a 0x559f9532da45 0x559f9532cb0e 0x559f9532c813 0x559f953f6592 0x559f953f690d 0x559f953f67b6 0x559f953ce103 0x559f953cddac 0x7f91c42fbbf7 0x559f953cdc8a\n",
            "[2021-05-02 04:27:42 +0000] [universal_transformer] [INFO] {'train_loss': 7.094224545669555, 'train_perplexity': 1204.9875882564063, 'train_accuracy': 0.0, 'train_target_perplexity': 1163.5702897481847, 'train_runtime': 308.1834057590022, 'epoch': 1}\n",
            "[2021-05-02 04:29:35 +0000] [universal_transformer] [INFO] {'val_loss': 11.587307453449318, 'val_perplexity': 107721.82118613682, 'val_accuracy': 0.0, 'val_target_perplexity': 191335.4449445946, 'val_runtime': 113.03786596300051, 'epoch': 1}\n",
            "[2021-05-02 04:34:42 +0000] [universal_transformer] [INFO] {'train_loss': 6.114091816711426, 'train_perplexity': 452.185193797911, 'train_accuracy': 0.0, 'train_target_perplexity': 438.06860905156634, 'train_runtime': 306.59210925799925, 'epoch': 2}\n",
            "[2021-05-02 04:36:34 +0000] [universal_transformer] [INFO] {'val_loss': 13.61204173193254, 'val_perplexity': 815895.638630975, 'val_accuracy': 0.0, 'val_target_perplexity': 419111.66778229235, 'val_runtime': 112.0038354749995, 'epoch': 2}\n",
            "[2021-05-02 04:38:35 +0000] [universal_transformer] [INFO] {'test_loss': 13.634576439926885, 'test_perplexity': 834490.3347458376, 'test_accuracy': 0.0, 'test_target_perplexity': 502626.897177115, 'test_runtime': 117.73776256600104, 'epoch': 2}\n",
            "\n",
            "\u001b[34m\u001b[1mwandb\u001b[0m: Waiting for W&B process to finish, PID 5249\n",
            "\u001b[34m\u001b[1mwandb\u001b[0m: Program ended successfully.\n",
            "\u001b[34m\u001b[1mwandb\u001b[0m:                                                                                \n",
            "\u001b[34m\u001b[1mwandb\u001b[0m: Find user logs for this run at: /content/CS7643_group_project/wandb/run-20210502_041935-1f6ru7ne/logs/debug.log\n",
            "\u001b[34m\u001b[1mwandb\u001b[0m: Find internal logs for this run at: /content/CS7643_group_project/wandb/run-20210502_041935-1f6ru7ne/logs/debug-internal.log\n",
            "\u001b[34m\u001b[1mwandb\u001b[0m: Run summary:\n",
            "\u001b[34m\u001b[1mwandb\u001b[0m:                 val_loss_min 11.58731\n",
            "\u001b[34m\u001b[1mwandb\u001b[0m:           val_perplexity_min 107721.82119\n",
            "\u001b[34m\u001b[1mwandb\u001b[0m:             val_accuracy_min 0.0\n",
            "\u001b[34m\u001b[1mwandb\u001b[0m:    val_target_perplexity_min 191335.44494\n",
            "\u001b[34m\u001b[1mwandb\u001b[0m:              val_runtime_min 112.00384\n",
            "\u001b[34m\u001b[1mwandb\u001b[0m:                 val_loss_max 13.61204\n",
            "\u001b[34m\u001b[1mwandb\u001b[0m:           val_perplexity_max 815895.63863\n",
            "\u001b[34m\u001b[1mwandb\u001b[0m:             val_accuracy_max 0.0\n",
            "\u001b[34m\u001b[1mwandb\u001b[0m:    val_target_perplexity_max 419111.66778\n",
            "\u001b[34m\u001b[1mwandb\u001b[0m:              val_runtime_max 113.03787\n",
            "\u001b[34m\u001b[1mwandb\u001b[0m:                   train_loss 6.11409\n",
            "\u001b[34m\u001b[1mwandb\u001b[0m:             train_perplexity 452.18519\n",
            "\u001b[34m\u001b[1mwandb\u001b[0m:               train_accuracy 0.0\n",
            "\u001b[34m\u001b[1mwandb\u001b[0m:      train_target_perplexity 438.06861\n",
            "\u001b[34m\u001b[1mwandb\u001b[0m:                train_runtime 306.59211\n",
            "\u001b[34m\u001b[1mwandb\u001b[0m:                        epoch 2\n",
            "\u001b[34m\u001b[1mwandb\u001b[0m:                     val_loss 13.61204\n",
            "\u001b[34m\u001b[1mwandb\u001b[0m:               val_perplexity 815895.63863\n",
            "\u001b[34m\u001b[1mwandb\u001b[0m:                 val_accuracy 0.0\n",
            "\u001b[34m\u001b[1mwandb\u001b[0m:        val_target_perplexity 419111.66778\n",
            "\u001b[34m\u001b[1mwandb\u001b[0m:                  val_runtime 112.00384\n",
            "\u001b[34m\u001b[1mwandb\u001b[0m:                     _runtime 1140\n",
            "\u001b[34m\u001b[1mwandb\u001b[0m:                   _timestamp 1619930315\n",
            "\u001b[34m\u001b[1mwandb\u001b[0m:                        _step 2\n",
            "\u001b[34m\u001b[1mwandb\u001b[0m:                test_loss_min 13.63458\n",
            "\u001b[34m\u001b[1mwandb\u001b[0m:          test_perplexity_min 834490.33475\n",
            "\u001b[34m\u001b[1mwandb\u001b[0m:            test_accuracy_min 0.0\n",
            "\u001b[34m\u001b[1mwandb\u001b[0m:   test_target_perplexity_min 502626.89718\n",
            "\u001b[34m\u001b[1mwandb\u001b[0m:             test_runtime_min 117.73776\n",
            "\u001b[34m\u001b[1mwandb\u001b[0m:                test_loss_max 13.63458\n",
            "\u001b[34m\u001b[1mwandb\u001b[0m:          test_perplexity_max 834490.33475\n",
            "\u001b[34m\u001b[1mwandb\u001b[0m:            test_accuracy_max 0.0\n",
            "\u001b[34m\u001b[1mwandb\u001b[0m:   test_target_perplexity_max 502626.89718\n",
            "\u001b[34m\u001b[1mwandb\u001b[0m:             test_runtime_max 117.73776\n",
            "\u001b[34m\u001b[1mwandb\u001b[0m:                    test_loss 13.63458\n",
            "\u001b[34m\u001b[1mwandb\u001b[0m:              test_perplexity 834490.33475\n",
            "\u001b[34m\u001b[1mwandb\u001b[0m:                test_accuracy 0.0\n",
            "\u001b[34m\u001b[1mwandb\u001b[0m:       test_target_perplexity 502626.89718\n",
            "\u001b[34m\u001b[1mwandb\u001b[0m:                 test_runtime 117.73776\n",
            "\u001b[34m\u001b[1mwandb\u001b[0m: Run history:\n",
            "\u001b[34m\u001b[1mwandb\u001b[0m:                train_loss █▁\n",
            "\u001b[34m\u001b[1mwandb\u001b[0m:          train_perplexity █▁\n",
            "\u001b[34m\u001b[1mwandb\u001b[0m:            train_accuracy ▁▁\n",
            "\u001b[34m\u001b[1mwandb\u001b[0m:   train_target_perplexity █▁\n",
            "\u001b[34m\u001b[1mwandb\u001b[0m:             train_runtime █▁\n",
            "\u001b[34m\u001b[1mwandb\u001b[0m:                     epoch ▁█\n",
            "\u001b[34m\u001b[1mwandb\u001b[0m:                  val_loss ▁█\n",
            "\u001b[34m\u001b[1mwandb\u001b[0m:            val_perplexity ▁█\n",
            "\u001b[34m\u001b[1mwandb\u001b[0m:              val_accuracy ▁▁\n",
            "\u001b[34m\u001b[1mwandb\u001b[0m:     val_target_perplexity ▁█\n",
            "\u001b[34m\u001b[1mwandb\u001b[0m:               val_runtime █▁\n",
            "\u001b[34m\u001b[1mwandb\u001b[0m:                  _runtime ▁█\n",
            "\u001b[34m\u001b[1mwandb\u001b[0m:                _timestamp ▁█\n",
            "\u001b[34m\u001b[1mwandb\u001b[0m:                     _step ▁█\n",
            "\u001b[34m\u001b[1mwandb\u001b[0m:                 test_loss ▁\n",
            "\u001b[34m\u001b[1mwandb\u001b[0m:           test_perplexity ▁\n",
            "\u001b[34m\u001b[1mwandb\u001b[0m:             test_accuracy ▁\n",
            "\u001b[34m\u001b[1mwandb\u001b[0m:    test_target_perplexity ▁\n",
            "\u001b[34m\u001b[1mwandb\u001b[0m:              test_runtime ▁\n",
            "\u001b[34m\u001b[1mwandb\u001b[0m: \n",
            "\u001b[34m\u001b[1mwandb\u001b[0m: Synced 5 W&B file(s), 0 media file(s), 1 artifact file(s) and 0 other file(s)\n",
            "\u001b[34m\u001b[1mwandb\u001b[0m: \n",
            "\u001b[34m\u001b[1mwandb\u001b[0m: Synced \u001b[33mfirm-rain-1\u001b[0m: \u001b[34mhttps://wandb.ai/dfd/ut_lambada/runs/1f6ru7ne\u001b[0m\n"
          ],
          "name": "stdout"
        }
      ]
    },
    {
      "cell_type": "code",
      "metadata": {
        "id": "BiwnlZnLsORd"
      },
      "source": [
        ""
      ],
      "execution_count": null,
      "outputs": []
    }
  ]
}