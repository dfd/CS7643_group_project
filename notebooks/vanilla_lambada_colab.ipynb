{
  "nbformat": 4,
  "nbformat_minor": 0,
  "metadata": {
    "colab": {
      "name": "vanilla_lambada_colab.ipynb",
      "provenance": [],
      "authorship_tag": "ABX9TyNEQ2z4f5WBew6BqO7AGe5e",
      "include_colab_link": true
    },
    "kernelspec": {
      "name": "python3",
      "display_name": "Python 3"
    },
    "language_info": {
      "name": "python"
    },
    "accelerator": "GPU"
  },
  "cells": [
    {
      "cell_type": "markdown",
      "metadata": {
        "id": "view-in-github",
        "colab_type": "text"
      },
      "source": [
        "<a href=\"https://colab.research.google.com/github/dfd/CS7643_group_project/blob/master/notebooks/vanilla_lambada_colab.ipynb\" target=\"_parent\"><img src=\"https://colab.research.google.com/assets/colab-badge.svg\" alt=\"Open In Colab\"/></a>"
      ]
    },
    {
      "cell_type": "code",
      "metadata": {
        "colab": {
          "base_uri": "https://localhost:8080/"
        },
        "id": "L9vw44ARc47K",
        "outputId": "2ef36084-5062-4e1a-e8c7-d03ff8b13887"
      },
      "source": [
        "!pwd"
      ],
      "execution_count": 1,
      "outputs": [
        {
          "output_type": "stream",
          "text": [
            "/content\n"
          ],
          "name": "stdout"
        }
      ]
    },
    {
      "cell_type": "code",
      "metadata": {
        "colab": {
          "base_uri": "https://localhost:8080/"
        },
        "id": "C3b0IIVMc_om",
        "outputId": "42ff9f5e-d4bc-4992-d24d-4ae9be9776ac"
      },
      "source": [
        "ls"
      ],
      "execution_count": 2,
      "outputs": [
        {
          "output_type": "stream",
          "text": [
            "\u001b[0m\u001b[01;34msample_data\u001b[0m/\n"
          ],
          "name": "stdout"
        }
      ]
    },
    {
      "cell_type": "code",
      "metadata": {
        "colab": {
          "base_uri": "https://localhost:8080/"
        },
        "id": "Jh9bavNvdDZX",
        "outputId": "3552dd20-464c-473c-b2ec-0764d642514e"
      },
      "source": [
        "!git clone https://github.com/dfd/CS7643_group_project"
      ],
      "execution_count": 3,
      "outputs": [
        {
          "output_type": "stream",
          "text": [
            "Cloning into 'CS7643_group_project'...\n",
            "remote: Enumerating objects: 865, done.\u001b[K\n",
            "remote: Counting objects: 100% (13/13), done.\u001b[K\n",
            "remote: Compressing objects: 100% (11/11), done.\u001b[K\n",
            "remote: Total 865 (delta 5), reused 6 (delta 2), pack-reused 852\u001b[K\n",
            "Receiving objects: 100% (865/865), 14.83 MiB | 16.99 MiB/s, done.\n",
            "Resolving deltas: 100% (500/500), done.\n"
          ],
          "name": "stdout"
        }
      ]
    },
    {
      "cell_type": "code",
      "metadata": {
        "colab": {
          "base_uri": "https://localhost:8080/"
        },
        "id": "aqQqAkWudXAn",
        "outputId": "da754b86-b983-48c0-9e72-de2fa5c02947"
      },
      "source": [
        "cd CS7643_group_project"
      ],
      "execution_count": 5,
      "outputs": [
        {
          "output_type": "stream",
          "text": [
            "/content/CS7643_group_project\n"
          ],
          "name": "stdout"
        }
      ]
    },
    {
      "cell_type": "code",
      "metadata": {
        "colab": {
          "base_uri": "https://localhost:8080/"
        },
        "id": "snaPxNnndFFX",
        "outputId": "9e75c424-9de4-4065-cc9d-4c10d4108ac2"
      },
      "source": [
        "!pip install torch==1.8.1\n",
        "!pip install spacy\n",
        "!pip install wandb\n",
        "!pip install transformers\n",
        "!pip install datasets\n",
        "!pip install torchtext\n",
        "!python -m spacy download en_core_web_md"
      ],
      "execution_count": 4,
      "outputs": [
        {
          "output_type": "stream",
          "text": [
            "Requirement already satisfied: torch==1.8.1 in /usr/local/lib/python3.7/dist-packages (1.8.1+cu101)\n",
            "Requirement already satisfied: numpy in /usr/local/lib/python3.7/dist-packages (from torch==1.8.1) (1.19.5)\n",
            "Requirement already satisfied: typing-extensions in /usr/local/lib/python3.7/dist-packages (from torch==1.8.1) (3.7.4.3)\n",
            "Requirement already satisfied: spacy in /usr/local/lib/python3.7/dist-packages (2.2.4)\n",
            "Requirement already satisfied: tqdm<5.0.0,>=4.38.0 in /usr/local/lib/python3.7/dist-packages (from spacy) (4.41.1)\n",
            "Requirement already satisfied: catalogue<1.1.0,>=0.0.7 in /usr/local/lib/python3.7/dist-packages (from spacy) (1.0.0)\n",
            "Requirement already satisfied: thinc==7.4.0 in /usr/local/lib/python3.7/dist-packages (from spacy) (7.4.0)\n",
            "Requirement already satisfied: preshed<3.1.0,>=3.0.2 in /usr/local/lib/python3.7/dist-packages (from spacy) (3.0.5)\n",
            "Requirement already satisfied: srsly<1.1.0,>=1.0.2 in /usr/local/lib/python3.7/dist-packages (from spacy) (1.0.5)\n",
            "Requirement already satisfied: numpy>=1.15.0 in /usr/local/lib/python3.7/dist-packages (from spacy) (1.19.5)\n",
            "Requirement already satisfied: blis<0.5.0,>=0.4.0 in /usr/local/lib/python3.7/dist-packages (from spacy) (0.4.1)\n",
            "Requirement already satisfied: plac<1.2.0,>=0.9.6 in /usr/local/lib/python3.7/dist-packages (from spacy) (1.1.3)\n",
            "Requirement already satisfied: wasabi<1.1.0,>=0.4.0 in /usr/local/lib/python3.7/dist-packages (from spacy) (0.8.2)\n",
            "Requirement already satisfied: setuptools in /usr/local/lib/python3.7/dist-packages (from spacy) (56.0.0)\n",
            "Requirement already satisfied: requests<3.0.0,>=2.13.0 in /usr/local/lib/python3.7/dist-packages (from spacy) (2.23.0)\n",
            "Requirement already satisfied: cymem<2.1.0,>=2.0.2 in /usr/local/lib/python3.7/dist-packages (from spacy) (2.0.5)\n",
            "Requirement already satisfied: murmurhash<1.1.0,>=0.28.0 in /usr/local/lib/python3.7/dist-packages (from spacy) (1.0.5)\n",
            "Requirement already satisfied: importlib-metadata>=0.20; python_version < \"3.8\" in /usr/local/lib/python3.7/dist-packages (from catalogue<1.1.0,>=0.0.7->spacy) (3.10.1)\n",
            "Requirement already satisfied: chardet<4,>=3.0.2 in /usr/local/lib/python3.7/dist-packages (from requests<3.0.0,>=2.13.0->spacy) (3.0.4)\n",
            "Requirement already satisfied: certifi>=2017.4.17 in /usr/local/lib/python3.7/dist-packages (from requests<3.0.0,>=2.13.0->spacy) (2020.12.5)\n",
            "Requirement already satisfied: idna<3,>=2.5 in /usr/local/lib/python3.7/dist-packages (from requests<3.0.0,>=2.13.0->spacy) (2.10)\n",
            "Requirement already satisfied: urllib3!=1.25.0,!=1.25.1,<1.26,>=1.21.1 in /usr/local/lib/python3.7/dist-packages (from requests<3.0.0,>=2.13.0->spacy) (1.24.3)\n",
            "Requirement already satisfied: typing-extensions>=3.6.4; python_version < \"3.8\" in /usr/local/lib/python3.7/dist-packages (from importlib-metadata>=0.20; python_version < \"3.8\"->catalogue<1.1.0,>=0.0.7->spacy) (3.7.4.3)\n",
            "Requirement already satisfied: zipp>=0.5 in /usr/local/lib/python3.7/dist-packages (from importlib-metadata>=0.20; python_version < \"3.8\"->catalogue<1.1.0,>=0.0.7->spacy) (3.4.1)\n",
            "Collecting wandb\n",
            "\u001b[?25l  Downloading https://files.pythonhosted.org/packages/5c/ee/d755f9e5466df64c8416a2c6a860fb3aaa43ed6ea8e8e8e81460fda5788b/wandb-0.10.28-py2.py3-none-any.whl (2.1MB)\n",
            "\u001b[K     |████████████████████████████████| 2.1MB 8.6MB/s \n",
            "\u001b[?25hCollecting configparser>=3.8.1\n",
            "  Downloading https://files.pythonhosted.org/packages/fd/01/ff260a18caaf4457eb028c96eeb405c4a230ca06c8ec9c1379f813caa52e/configparser-5.0.2-py3-none-any.whl\n",
            "Collecting shortuuid>=0.5.0\n",
            "  Downloading https://files.pythonhosted.org/packages/25/a6/2ecc1daa6a304e7f1b216f0896b26156b78e7c38e1211e9b798b4716c53d/shortuuid-1.0.1-py3-none-any.whl\n",
            "Requirement already satisfied: protobuf>=3.12.0 in /usr/local/lib/python3.7/dist-packages (from wandb) (3.12.4)\n",
            "Requirement already satisfied: six>=1.13.0 in /usr/local/lib/python3.7/dist-packages (from wandb) (1.15.0)\n",
            "Collecting subprocess32>=3.5.3\n",
            "\u001b[?25l  Downloading https://files.pythonhosted.org/packages/32/c8/564be4d12629b912ea431f1a50eb8b3b9d00f1a0b1ceff17f266be190007/subprocess32-3.5.4.tar.gz (97kB)\n",
            "\u001b[K     |████████████████████████████████| 102kB 13.9MB/s \n",
            "\u001b[?25hCollecting sentry-sdk>=0.4.0\n",
            "\u001b[?25l  Downloading https://files.pythonhosted.org/packages/f3/92/5a33be64990ba815364a8f2dd9e6f51de60d23dfddafb4f1fc5577d4dc64/sentry_sdk-1.0.0-py2.py3-none-any.whl (131kB)\n",
            "\u001b[K     |████████████████████████████████| 133kB 51.4MB/s \n",
            "\u001b[?25hRequirement already satisfied: Click>=7.0 in /usr/local/lib/python3.7/dist-packages (from wandb) (7.1.2)\n",
            "Requirement already satisfied: PyYAML in /usr/local/lib/python3.7/dist-packages (from wandb) (3.13)\n",
            "Collecting docker-pycreds>=0.4.0\n",
            "  Downloading https://files.pythonhosted.org/packages/f5/e8/f6bd1eee09314e7e6dee49cbe2c5e22314ccdb38db16c9fc72d2fa80d054/docker_pycreds-0.4.0-py2.py3-none-any.whl\n",
            "Requirement already satisfied: python-dateutil>=2.6.1 in /usr/local/lib/python3.7/dist-packages (from wandb) (2.8.1)\n",
            "Collecting GitPython>=1.0.0\n",
            "\u001b[?25l  Downloading https://files.pythonhosted.org/packages/a6/99/98019716955ba243657daedd1de8f3a88ca1f5b75057c38e959db22fb87b/GitPython-3.1.14-py3-none-any.whl (159kB)\n",
            "\u001b[K     |████████████████████████████████| 163kB 42.9MB/s \n",
            "\u001b[?25hRequirement already satisfied: psutil>=5.0.0 in /usr/local/lib/python3.7/dist-packages (from wandb) (5.4.8)\n",
            "Collecting pathtools\n",
            "  Downloading https://files.pythonhosted.org/packages/e7/7f/470d6fcdf23f9f3518f6b0b76be9df16dcc8630ad409947f8be2eb0ed13a/pathtools-0.1.2.tar.gz\n",
            "Requirement already satisfied: promise<3,>=2.0 in /usr/local/lib/python3.7/dist-packages (from wandb) (2.3)\n",
            "Requirement already satisfied: requests<3,>=2.0.0 in /usr/local/lib/python3.7/dist-packages (from wandb) (2.23.0)\n",
            "Requirement already satisfied: setuptools in /usr/local/lib/python3.7/dist-packages (from protobuf>=3.12.0->wandb) (56.0.0)\n",
            "Requirement already satisfied: certifi in /usr/local/lib/python3.7/dist-packages (from sentry-sdk>=0.4.0->wandb) (2020.12.5)\n",
            "Requirement already satisfied: urllib3>=1.10.0 in /usr/local/lib/python3.7/dist-packages (from sentry-sdk>=0.4.0->wandb) (1.24.3)\n",
            "Collecting gitdb<5,>=4.0.1\n",
            "\u001b[?25l  Downloading https://files.pythonhosted.org/packages/ea/e8/f414d1a4f0bbc668ed441f74f44c116d9816833a48bf81d22b697090dba8/gitdb-4.0.7-py3-none-any.whl (63kB)\n",
            "\u001b[K     |████████████████████████████████| 71kB 11.3MB/s \n",
            "\u001b[?25hRequirement already satisfied: chardet<4,>=3.0.2 in /usr/local/lib/python3.7/dist-packages (from requests<3,>=2.0.0->wandb) (3.0.4)\n",
            "Requirement already satisfied: idna<3,>=2.5 in /usr/local/lib/python3.7/dist-packages (from requests<3,>=2.0.0->wandb) (2.10)\n",
            "Collecting smmap<5,>=3.0.1\n",
            "  Downloading https://files.pythonhosted.org/packages/68/ee/d540eb5e5996eb81c26ceffac6ee49041d473bc5125f2aa995cf51ec1cf1/smmap-4.0.0-py2.py3-none-any.whl\n",
            "Building wheels for collected packages: subprocess32, pathtools\n",
            "  Building wheel for subprocess32 (setup.py) ... \u001b[?25l\u001b[?25hdone\n",
            "  Created wheel for subprocess32: filename=subprocess32-3.5.4-cp37-none-any.whl size=6489 sha256=5ed70f3494aef0c824f9ff373e5ee2d6998b5aeae73187384c0aacba7b197ef2\n",
            "  Stored in directory: /root/.cache/pip/wheels/68/39/1a/5e402bdfdf004af1786c8b853fd92f8c4a04f22aad179654d1\n",
            "  Building wheel for pathtools (setup.py) ... \u001b[?25l\u001b[?25hdone\n",
            "  Created wheel for pathtools: filename=pathtools-0.1.2-cp37-none-any.whl size=8786 sha256=d4b65d7653645ac76db563e34efaf28dad1185d3c4adc48864d09baa2d9075a7\n",
            "  Stored in directory: /root/.cache/pip/wheels/0b/04/79/c3b0c3a0266a3cb4376da31e5bfe8bba0c489246968a68e843\n",
            "Successfully built subprocess32 pathtools\n",
            "Installing collected packages: configparser, shortuuid, subprocess32, sentry-sdk, docker-pycreds, smmap, gitdb, GitPython, pathtools, wandb\n",
            "Successfully installed GitPython-3.1.14 configparser-5.0.2 docker-pycreds-0.4.0 gitdb-4.0.7 pathtools-0.1.2 sentry-sdk-1.0.0 shortuuid-1.0.1 smmap-4.0.0 subprocess32-3.5.4 wandb-0.10.28\n",
            "Collecting transformers\n",
            "\u001b[?25l  Downloading https://files.pythonhosted.org/packages/d8/b2/57495b5309f09fa501866e225c84532d1fd89536ea62406b2181933fb418/transformers-4.5.1-py3-none-any.whl (2.1MB)\n",
            "\u001b[K     |████████████████████████████████| 2.1MB 8.6MB/s \n",
            "\u001b[?25hRequirement already satisfied: requests in /usr/local/lib/python3.7/dist-packages (from transformers) (2.23.0)\n",
            "Requirement already satisfied: importlib-metadata; python_version < \"3.8\" in /usr/local/lib/python3.7/dist-packages (from transformers) (3.10.1)\n",
            "Requirement already satisfied: numpy>=1.17 in /usr/local/lib/python3.7/dist-packages (from transformers) (1.19.5)\n",
            "Requirement already satisfied: tqdm>=4.27 in /usr/local/lib/python3.7/dist-packages (from transformers) (4.41.1)\n",
            "Collecting tokenizers<0.11,>=0.10.1\n",
            "\u001b[?25l  Downloading https://files.pythonhosted.org/packages/ae/04/5b870f26a858552025a62f1649c20d29d2672c02ff3c3fb4c688ca46467a/tokenizers-0.10.2-cp37-cp37m-manylinux2010_x86_64.whl (3.3MB)\n",
            "\u001b[K     |████████████████████████████████| 3.3MB 49.5MB/s \n",
            "\u001b[?25hCollecting sacremoses\n",
            "\u001b[?25l  Downloading https://files.pythonhosted.org/packages/75/ee/67241dc87f266093c533a2d4d3d69438e57d7a90abb216fa076e7d475d4a/sacremoses-0.0.45-py3-none-any.whl (895kB)\n",
            "\u001b[K     |████████████████████████████████| 901kB 56.9MB/s \n",
            "\u001b[?25hRequirement already satisfied: filelock in /usr/local/lib/python3.7/dist-packages (from transformers) (3.0.12)\n",
            "Requirement already satisfied: regex!=2019.12.17 in /usr/local/lib/python3.7/dist-packages (from transformers) (2019.12.20)\n",
            "Requirement already satisfied: packaging in /usr/local/lib/python3.7/dist-packages (from transformers) (20.9)\n",
            "Requirement already satisfied: idna<3,>=2.5 in /usr/local/lib/python3.7/dist-packages (from requests->transformers) (2.10)\n",
            "Requirement already satisfied: urllib3!=1.25.0,!=1.25.1,<1.26,>=1.21.1 in /usr/local/lib/python3.7/dist-packages (from requests->transformers) (1.24.3)\n",
            "Requirement already satisfied: chardet<4,>=3.0.2 in /usr/local/lib/python3.7/dist-packages (from requests->transformers) (3.0.4)\n",
            "Requirement already satisfied: certifi>=2017.4.17 in /usr/local/lib/python3.7/dist-packages (from requests->transformers) (2020.12.5)\n",
            "Requirement already satisfied: zipp>=0.5 in /usr/local/lib/python3.7/dist-packages (from importlib-metadata; python_version < \"3.8\"->transformers) (3.4.1)\n",
            "Requirement already satisfied: typing-extensions>=3.6.4; python_version < \"3.8\" in /usr/local/lib/python3.7/dist-packages (from importlib-metadata; python_version < \"3.8\"->transformers) (3.7.4.3)\n",
            "Requirement already satisfied: six in /usr/local/lib/python3.7/dist-packages (from sacremoses->transformers) (1.15.0)\n",
            "Requirement already satisfied: click in /usr/local/lib/python3.7/dist-packages (from sacremoses->transformers) (7.1.2)\n",
            "Requirement already satisfied: joblib in /usr/local/lib/python3.7/dist-packages (from sacremoses->transformers) (1.0.1)\n",
            "Requirement already satisfied: pyparsing>=2.0.2 in /usr/local/lib/python3.7/dist-packages (from packaging->transformers) (2.4.7)\n",
            "Installing collected packages: tokenizers, sacremoses, transformers\n",
            "Successfully installed sacremoses-0.0.45 tokenizers-0.10.2 transformers-4.5.1\n",
            "Collecting datasets\n",
            "\u001b[?25l  Downloading https://files.pythonhosted.org/packages/46/1a/b9f9b3bfef624686ae81c070f0a6bb635047b17cdb3698c7ad01281e6f9a/datasets-1.6.2-py3-none-any.whl (221kB)\n",
            "\u001b[K     |████████████████████████████████| 225kB 6.5MB/s \n",
            "\u001b[?25hRequirement already satisfied: importlib-metadata; python_version < \"3.8\" in /usr/local/lib/python3.7/dist-packages (from datasets) (3.10.1)\n",
            "Requirement already satisfied: pandas in /usr/local/lib/python3.7/dist-packages (from datasets) (1.1.5)\n",
            "Requirement already satisfied: packaging in /usr/local/lib/python3.7/dist-packages (from datasets) (20.9)\n",
            "Collecting xxhash\n",
            "\u001b[?25l  Downloading https://files.pythonhosted.org/packages/7d/4f/0a862cad26aa2ed7a7cd87178cbbfa824fc1383e472d63596a0d018374e7/xxhash-2.0.2-cp37-cp37m-manylinux2010_x86_64.whl (243kB)\n",
            "\u001b[K     |████████████████████████████████| 245kB 12.5MB/s \n",
            "\u001b[?25hRequirement already satisfied: tqdm<4.50.0,>=4.27 in /usr/local/lib/python3.7/dist-packages (from datasets) (4.41.1)\n",
            "Collecting huggingface-hub<0.1.0\n",
            "  Downloading https://files.pythonhosted.org/packages/a1/88/7b1e45720ecf59c6c6737ff332f41c955963090a18e72acbcbeac6b25e86/huggingface_hub-0.0.8-py3-none-any.whl\n",
            "Requirement already satisfied: pyarrow>=1.0.0<4.0.0 in /usr/local/lib/python3.7/dist-packages (from datasets) (3.0.0)\n",
            "Requirement already satisfied: dill in /usr/local/lib/python3.7/dist-packages (from datasets) (0.3.3)\n",
            "Requirement already satisfied: multiprocess in /usr/local/lib/python3.7/dist-packages (from datasets) (0.70.11.1)\n",
            "Collecting fsspec\n",
            "\u001b[?25l  Downloading https://files.pythonhosted.org/packages/e9/91/2ef649137816850fa4f4c97c6f2eabb1a79bf0aa2c8ed198e387e373455e/fsspec-2021.4.0-py3-none-any.whl (108kB)\n",
            "\u001b[K     |████████████████████████████████| 112kB 11.4MB/s \n",
            "\u001b[?25hRequirement already satisfied: numpy>=1.17 in /usr/local/lib/python3.7/dist-packages (from datasets) (1.19.5)\n",
            "Requirement already satisfied: requests>=2.19.0 in /usr/local/lib/python3.7/dist-packages (from datasets) (2.23.0)\n",
            "Requirement already satisfied: typing-extensions>=3.6.4; python_version < \"3.8\" in /usr/local/lib/python3.7/dist-packages (from importlib-metadata; python_version < \"3.8\"->datasets) (3.7.4.3)\n",
            "Requirement already satisfied: zipp>=0.5 in /usr/local/lib/python3.7/dist-packages (from importlib-metadata; python_version < \"3.8\"->datasets) (3.4.1)\n",
            "Requirement already satisfied: pytz>=2017.2 in /usr/local/lib/python3.7/dist-packages (from pandas->datasets) (2018.9)\n",
            "Requirement already satisfied: python-dateutil>=2.7.3 in /usr/local/lib/python3.7/dist-packages (from pandas->datasets) (2.8.1)\n",
            "Requirement already satisfied: pyparsing>=2.0.2 in /usr/local/lib/python3.7/dist-packages (from packaging->datasets) (2.4.7)\n",
            "Requirement already satisfied: filelock in /usr/local/lib/python3.7/dist-packages (from huggingface-hub<0.1.0->datasets) (3.0.12)\n",
            "Requirement already satisfied: certifi>=2017.4.17 in /usr/local/lib/python3.7/dist-packages (from requests>=2.19.0->datasets) (2020.12.5)\n",
            "Requirement already satisfied: urllib3!=1.25.0,!=1.25.1,<1.26,>=1.21.1 in /usr/local/lib/python3.7/dist-packages (from requests>=2.19.0->datasets) (1.24.3)\n",
            "Requirement already satisfied: chardet<4,>=3.0.2 in /usr/local/lib/python3.7/dist-packages (from requests>=2.19.0->datasets) (3.0.4)\n",
            "Requirement already satisfied: idna<3,>=2.5 in /usr/local/lib/python3.7/dist-packages (from requests>=2.19.0->datasets) (2.10)\n",
            "Requirement already satisfied: six>=1.5 in /usr/local/lib/python3.7/dist-packages (from python-dateutil>=2.7.3->pandas->datasets) (1.15.0)\n",
            "Installing collected packages: xxhash, huggingface-hub, fsspec, datasets\n",
            "Successfully installed datasets-1.6.2 fsspec-2021.4.0 huggingface-hub-0.0.8 xxhash-2.0.2\n",
            "Requirement already satisfied: torchtext in /usr/local/lib/python3.7/dist-packages (0.9.1)\n",
            "Requirement already satisfied: requests in /usr/local/lib/python3.7/dist-packages (from torchtext) (2.23.0)\n",
            "Requirement already satisfied: torch==1.8.1 in /usr/local/lib/python3.7/dist-packages (from torchtext) (1.8.1+cu101)\n",
            "Requirement already satisfied: tqdm in /usr/local/lib/python3.7/dist-packages (from torchtext) (4.41.1)\n",
            "Requirement already satisfied: numpy in /usr/local/lib/python3.7/dist-packages (from torchtext) (1.19.5)\n",
            "Requirement already satisfied: idna<3,>=2.5 in /usr/local/lib/python3.7/dist-packages (from requests->torchtext) (2.10)\n",
            "Requirement already satisfied: certifi>=2017.4.17 in /usr/local/lib/python3.7/dist-packages (from requests->torchtext) (2020.12.5)\n",
            "Requirement already satisfied: urllib3!=1.25.0,!=1.25.1,<1.26,>=1.21.1 in /usr/local/lib/python3.7/dist-packages (from requests->torchtext) (1.24.3)\n",
            "Requirement already satisfied: chardet<4,>=3.0.2 in /usr/local/lib/python3.7/dist-packages (from requests->torchtext) (3.0.4)\n",
            "Requirement already satisfied: typing-extensions in /usr/local/lib/python3.7/dist-packages (from torch==1.8.1->torchtext) (3.7.4.3)\n",
            "Collecting en_core_web_md==2.2.5\n",
            "\u001b[?25l  Downloading https://github.com/explosion/spacy-models/releases/download/en_core_web_md-2.2.5/en_core_web_md-2.2.5.tar.gz (96.4MB)\n",
            "\u001b[K     |████████████████████████████████| 96.4MB 1.2MB/s \n",
            "\u001b[?25hRequirement already satisfied: spacy>=2.2.2 in /usr/local/lib/python3.7/dist-packages (from en_core_web_md==2.2.5) (2.2.4)\n",
            "Requirement already satisfied: murmurhash<1.1.0,>=0.28.0 in /usr/local/lib/python3.7/dist-packages (from spacy>=2.2.2->en_core_web_md==2.2.5) (1.0.5)\n",
            "Requirement already satisfied: blis<0.5.0,>=0.4.0 in /usr/local/lib/python3.7/dist-packages (from spacy>=2.2.2->en_core_web_md==2.2.5) (0.4.1)\n",
            "Requirement already satisfied: preshed<3.1.0,>=3.0.2 in /usr/local/lib/python3.7/dist-packages (from spacy>=2.2.2->en_core_web_md==2.2.5) (3.0.5)\n",
            "Requirement already satisfied: cymem<2.1.0,>=2.0.2 in /usr/local/lib/python3.7/dist-packages (from spacy>=2.2.2->en_core_web_md==2.2.5) (2.0.5)\n",
            "Requirement already satisfied: plac<1.2.0,>=0.9.6 in /usr/local/lib/python3.7/dist-packages (from spacy>=2.2.2->en_core_web_md==2.2.5) (1.1.3)\n",
            "Requirement already satisfied: requests<3.0.0,>=2.13.0 in /usr/local/lib/python3.7/dist-packages (from spacy>=2.2.2->en_core_web_md==2.2.5) (2.23.0)\n",
            "Requirement already satisfied: setuptools in /usr/local/lib/python3.7/dist-packages (from spacy>=2.2.2->en_core_web_md==2.2.5) (56.0.0)\n",
            "Requirement already satisfied: tqdm<5.0.0,>=4.38.0 in /usr/local/lib/python3.7/dist-packages (from spacy>=2.2.2->en_core_web_md==2.2.5) (4.41.1)\n",
            "Requirement already satisfied: catalogue<1.1.0,>=0.0.7 in /usr/local/lib/python3.7/dist-packages (from spacy>=2.2.2->en_core_web_md==2.2.5) (1.0.0)\n",
            "Requirement already satisfied: srsly<1.1.0,>=1.0.2 in /usr/local/lib/python3.7/dist-packages (from spacy>=2.2.2->en_core_web_md==2.2.5) (1.0.5)\n",
            "Requirement already satisfied: numpy>=1.15.0 in /usr/local/lib/python3.7/dist-packages (from spacy>=2.2.2->en_core_web_md==2.2.5) (1.19.5)\n",
            "Requirement already satisfied: wasabi<1.1.0,>=0.4.0 in /usr/local/lib/python3.7/dist-packages (from spacy>=2.2.2->en_core_web_md==2.2.5) (0.8.2)\n",
            "Requirement already satisfied: thinc==7.4.0 in /usr/local/lib/python3.7/dist-packages (from spacy>=2.2.2->en_core_web_md==2.2.5) (7.4.0)\n",
            "Requirement already satisfied: chardet<4,>=3.0.2 in /usr/local/lib/python3.7/dist-packages (from requests<3.0.0,>=2.13.0->spacy>=2.2.2->en_core_web_md==2.2.5) (3.0.4)\n",
            "Requirement already satisfied: idna<3,>=2.5 in /usr/local/lib/python3.7/dist-packages (from requests<3.0.0,>=2.13.0->spacy>=2.2.2->en_core_web_md==2.2.5) (2.10)\n",
            "Requirement already satisfied: certifi>=2017.4.17 in /usr/local/lib/python3.7/dist-packages (from requests<3.0.0,>=2.13.0->spacy>=2.2.2->en_core_web_md==2.2.5) (2020.12.5)\n",
            "Requirement already satisfied: urllib3!=1.25.0,!=1.25.1,<1.26,>=1.21.1 in /usr/local/lib/python3.7/dist-packages (from requests<3.0.0,>=2.13.0->spacy>=2.2.2->en_core_web_md==2.2.5) (1.24.3)\n",
            "Requirement already satisfied: importlib-metadata>=0.20; python_version < \"3.8\" in /usr/local/lib/python3.7/dist-packages (from catalogue<1.1.0,>=0.0.7->spacy>=2.2.2->en_core_web_md==2.2.5) (3.10.1)\n",
            "Requirement already satisfied: zipp>=0.5 in /usr/local/lib/python3.7/dist-packages (from importlib-metadata>=0.20; python_version < \"3.8\"->catalogue<1.1.0,>=0.0.7->spacy>=2.2.2->en_core_web_md==2.2.5) (3.4.1)\n",
            "Requirement already satisfied: typing-extensions>=3.6.4; python_version < \"3.8\" in /usr/local/lib/python3.7/dist-packages (from importlib-metadata>=0.20; python_version < \"3.8\"->catalogue<1.1.0,>=0.0.7->spacy>=2.2.2->en_core_web_md==2.2.5) (3.7.4.3)\n",
            "Building wheels for collected packages: en-core-web-md\n",
            "  Building wheel for en-core-web-md (setup.py) ... \u001b[?25l\u001b[?25hdone\n",
            "  Created wheel for en-core-web-md: filename=en_core_web_md-2.2.5-cp37-none-any.whl size=98051305 sha256=3561a7b5e5ff65aa37362efc949a19229bffca414437dac01c28e650623dfed5\n",
            "  Stored in directory: /tmp/pip-ephem-wheel-cache-6k_21og0/wheels/df/94/ad/f5cf59224cea6b5686ac4fd1ad19c8a07bc026e13c36502d81\n",
            "Successfully built en-core-web-md\n",
            "Installing collected packages: en-core-web-md\n",
            "Successfully installed en-core-web-md-2.2.5\n",
            "\u001b[38;5;2m✔ Download and installation successful\u001b[0m\n",
            "You can now load the model via spacy.load('en_core_web_md')\n"
          ],
          "name": "stdout"
        }
      ]
    },
    {
      "cell_type": "code",
      "metadata": {
        "colab": {
          "base_uri": "https://localhost:8080/"
        },
        "id": "2hw3qMMLdHp_",
        "outputId": "c9d4af5f-1727-421b-8263-f235c0f87d9d"
      },
      "source": [
        "import wandb\n",
        "!wandb login"
      ],
      "execution_count": 6,
      "outputs": [
        {
          "output_type": "stream",
          "text": [
            "\u001b[34m\u001b[1mwandb\u001b[0m: You can find your API key in your browser here: https://wandb.ai/authorize\n",
            "\u001b[34m\u001b[1mwandb\u001b[0m: Paste an API key from your profile and hit enter: \n",
            "\u001b[34m\u001b[1mwandb\u001b[0m: Appending key for api.wandb.ai to your netrc file: /root/.netrc\n"
          ],
          "name": "stdout"
        }
      ]
    },
    {
      "cell_type": "code",
      "metadata": {
        "colab": {
          "base_uri": "https://localhost:8080/"
        },
        "id": "scz1Uy_XdKFk",
        "outputId": "92621b74-f4f1-4a75-ae4c-a8cf37601010"
      },
      "source": [
        "ls"
      ],
      "execution_count": 7,
      "outputs": [
        {
          "output_type": "stream",
          "text": [
            "\u001b[0m\u001b[01;34mconfigs\u001b[0m/         \u001b[01;34mnotebooks\u001b[0m/  train_lambada.py  \u001b[01;34muniversal_transformer\u001b[0m/\n",
            "environment.yml  setup.cfg   train.py\n"
          ],
          "name": "stdout"
        }
      ]
    },
    {
      "cell_type": "code",
      "metadata": {
        "colab": {
          "base_uri": "https://localhost:8080/"
        },
        "id": "Sc83bLiTdfA6",
        "outputId": "046eae4c-07f7-4f37-877b-c36092e86ab5"
      },
      "source": [
        "!rm universal_transformer/__pycache__/transformers.cpython-37.pyc\n",
        "!git pull origin master"
      ],
      "execution_count": 8,
      "outputs": [
        {
          "output_type": "stream",
          "text": [
            "rm: cannot remove 'universal_transformer/__pycache__/transformers.cpython-37.pyc': No such file or directory\n",
            "From https://github.com/dfd/CS7643_group_project\n",
            " * branch            master     -> FETCH_HEAD\n",
            "Already up to date.\n"
          ],
          "name": "stdout"
        }
      ]
    },
    {
      "cell_type": "code",
      "metadata": {
        "colab": {
          "base_uri": "https://localhost:8080/"
        },
        "id": "0XmzQgtpdg_s",
        "outputId": "51ab9af5-7620-49c1-c57d-f1600d2dae46"
      },
      "source": [
        "!WANDB_MODE=run python train_lambada.py --project ut_lambada -c configs/vanilla_lambada_1.yaml"
      ],
      "execution_count": 9,
      "outputs": [
        {
          "output_type": "stream",
          "text": [
            "2021-05-04 03:41:19.500054: I tensorflow/stream_executor/platform/default/dso_loader.cc:49] Successfully opened dynamic library libcudart.so.11.0\n",
            "\u001b[34m\u001b[1mwandb\u001b[0m: Currently logged in as: \u001b[33mdfd\u001b[0m (use `wandb login --relogin` to force relogin)\n",
            "2021-05-04 03:41:22.563538: I tensorflow/stream_executor/platform/default/dso_loader.cc:49] Successfully opened dynamic library libcudart.so.11.0\n",
            "\u001b[34m\u001b[1mwandb\u001b[0m: Tracking run with wandb version 0.10.28\n",
            "\u001b[34m\u001b[1mwandb\u001b[0m: Syncing run \u001b[33mvanilla_lambada_1.yaml\u001b[0m\n",
            "\u001b[34m\u001b[1mwandb\u001b[0m: ⭐️ View project at \u001b[34m\u001b[4mhttps://wandb.ai/dfd/ut_lambada\u001b[0m\n",
            "\u001b[34m\u001b[1mwandb\u001b[0m: 🚀 View run at \u001b[34m\u001b[4mhttps://wandb.ai/dfd/ut_lambada/runs/1aw3hpjc\u001b[0m\n",
            "\u001b[34m\u001b[1mwandb\u001b[0m: Run data is saved locally in /content/CS7643_group_project/wandb/run-20210504_034121-1aw3hpjc\n",
            "\u001b[34m\u001b[1mwandb\u001b[0m: Run `wandb offline` to turn off syncing.\n",
            "\n",
            "using cuda\n",
            "Downloading: 4.95kB [00:00, 3.90MB/s]                                           \n",
            "Downloading: 2.65kB [00:00, 2.25MB/s]                                           \n",
            "Downloading and preparing dataset lambada/plain_text (download: 319.03 MiB, generated: 936.19 MiB, post-processed: Unknown size, total: 1.23 GiB) to /root/.cache/huggingface/datasets/lambada/plain_text/1.1.0/e32d76a7236c9ebb30099bc73d677c3acf32ddffb411836fe9ffc091ad3f3bec...\n",
            "Downloading: 100%|███████████████████████████| 335M/335M [00:29<00:00, 11.3MB/s]\n",
            "Dataset lambada downloaded and prepared to /root/.cache/huggingface/datasets/lambada/plain_text/1.1.0/e32d76a7236c9ebb30099bc73d677c3acf32ddffb411836fe9ffc091ad3f3bec. Subsequent calls will reuse this data.\n",
            "/content/CS7643_group_project/universal_transformer/datasets.py:73: FutureWarning: remove_columns_ is deprecated and will be removed in the next major version of datasets. Use Dataset.remove_columns instead.\n",
            "  train.remove_columns_(['domain'])\n",
            "tcmalloc: large alloc 1622974464 bytes == 0x55678d14a000 @  0x7f896cfc2b6b 0x7f896cfe2379 0x7f890422225e 0x7f89042239d2 0x7f8941aea853 0x7f8941372043 0x7f89418737d7 0x7f8941842da0 0x7f894169d679 0x7f894136285a 0x7f89419711f3 0x7f8941ab689b 0x7f8952a5d5fa 0x556675462050 0x55667555399d 0x5566754d5fe9 0x5566754d0e0d 0x55667546377a 0x5566754d1a45 0x5566754d0b0e 0x55667546402c 0x5566754a4d39 0x5566754a1c84 0x556675464231 0x5566754d31e6 0x5566754d0b0e 0x55667546377a 0x5566754d5e50 0x55667546369a 0x5566754d1a45 0x5566754d0b0e\n",
            "torch.Size([500000, 203])\n",
            "torch.Size([4869, 203])\n",
            "torch.Size([5153, 203])\n",
            "data loaded\n",
            "alt kwargs\n",
            "tcmalloc: large alloc 2186412032 bytes == 0x55681f2b8000 @  0x7f896cfc2b6b 0x7f896cfe2379 0x7f890422225e 0x7f89042239d2 0x7f8941aea853 0x7f8941372043 0x7f89418737d7 0x7f8941842da0 0x7f894169d679 0x7f8941364d08 0x7f89419711aa 0x7f8941adde62 0x7f8941ab5bb2 0x7f89529407de 0x7f8952a6c85e 0x556675462050 0x55667555399d 0x5566754d5fe9 0x556675554858 0x5566754d1ee2 0x55667546369a 0x5566754d1a45 0x5566754d0b0e 0x5566754d0813 0x55667559a592 0x55667559a90d 0x55667559a7b6 0x556675572103 0x556675571dac 0x7f896bdcabf7 0x556675571c8a\n",
            "tcmalloc: large alloc 2186412032 bytes == 0x55681f2b8000 @  0x7f896cfc2b6b 0x7f896cfe2379 0x7f890422225e 0x7f89042239d2 0x7f8941aea853 0x7f8941372043 0x7f89418737d7 0x7f8941842da0 0x7f894169d679 0x7f8941364d08 0x7f89419711aa 0x7f8941adde62 0x7f8941ab5bb2 0x7f89529407de 0x7f8952a6c85e 0x556675462050 0x55667555399d 0x5566754d5fe9 0x556675554858 0x5566754d1ee2 0x55667546369a 0x5566754d1a45 0x5566754d0b0e 0x5566754d0813 0x55667559a592 0x55667559a90d 0x55667559a7b6 0x556675572103 0x556675571dac 0x7f896bdcabf7 0x556675571c8a\n",
            "tcmalloc: large alloc 2186412032 bytes == 0x55681f2b8000 @  0x7f896cfc2b6b 0x7f896cfe2379 0x7f890422225e 0x7f89042239d2 0x7f8941aea853 0x7f8941372043 0x7f89418737d7 0x7f8941842da0 0x7f894169d679 0x7f8941364d08 0x7f89419711aa 0x7f8941adde62 0x7f8941ab5bb2 0x7f89529407de 0x7f8952a6c85e 0x556675462050 0x55667555399d 0x5566754d5fe9 0x556675554858 0x5566754d1ee2 0x55667546369a 0x5566754d1a45 0x5566754d0b0e 0x5566754d0813 0x55667559a592 0x55667559a90d 0x55667559a7b6 0x556675572103 0x556675571dac 0x7f896bdcabf7 0x556675571c8a\n",
            "tcmalloc: large alloc 2186412032 bytes == 0x55681f2b8000 @  0x7f896cfc2b6b 0x7f896cfe2379 0x7f890422225e 0x7f89042239d2 0x7f8941aea853 0x7f8941372043 0x7f89418737d7 0x7f8941842da0 0x7f894169d679 0x7f8941364d08 0x7f89419711aa 0x7f8941adde62 0x7f8941ab5bb2 0x7f89529407de 0x7f8952a6c85e 0x556675462050 0x55667555399d 0x5566754d5fe9 0x556675554858 0x5566754d1ee2 0x55667546369a 0x5566754d1a45 0x5566754d0b0e 0x5566754d0813 0x55667559a592 0x55667559a90d 0x55667559a7b6 0x556675572103 0x556675571dac 0x7f896bdcabf7 0x556675571c8a\n",
            "tcmalloc: large alloc 2186412032 bytes == 0x55681f2b8000 @  0x7f896cfc2b6b 0x7f896cfe2379 0x7f890422225e 0x7f89042239d2 0x7f8941aea853 0x7f8941372043 0x7f89418737d7 0x7f8941842da0 0x7f894169d679 0x7f8941364d08 0x7f89419711aa 0x7f8941adde62 0x7f8941ab5bb2 0x7f89529407de 0x7f8952a6c85e 0x556675462050 0x55667555399d 0x5566754d5fe9 0x556675554858 0x5566754d1ee2 0x55667546369a 0x5566754d1a45 0x5566754d0b0e 0x5566754d0813 0x55667559a592 0x55667559a90d 0x55667559a7b6 0x556675572103 0x556675571dac 0x7f896bdcabf7 0x556675571c8a\n",
            "tcmalloc: large alloc 2186412032 bytes == 0x55681f2b8000 @  0x7f896cfc2b6b 0x7f896cfe2379 0x7f890422225e 0x7f89042239d2 0x7f8941aea853 0x7f8941372043 0x7f89418737d7 0x7f8941842da0 0x7f894169d679 0x7f8941364d08 0x7f89419711aa 0x7f8941adde62 0x7f8941ab5bb2 0x7f89529407de 0x7f8952a6c85e 0x556675462050 0x55667555399d 0x5566754d5fe9 0x556675554858 0x5566754d1ee2 0x55667546369a 0x5566754d1a45 0x5566754d0b0e 0x5566754d0813 0x55667559a592 0x55667559a90d 0x55667559a7b6 0x556675572103 0x556675571dac 0x7f896bdcabf7 0x556675571c8a\n",
            "[2021-05-04 09:33:45 +0000] [universal_transformer] [INFO] {'train_loss': 4.725499153137207, 'train_perplexity': 112.78678220194752, 'train_accuracy': 0.22875, 'train_target_perplexity': 112.95722695118945, 'train_runtime': 20950.8493126, 'epoch': 1}\n",
            "[2021-05-04 09:36:21 +0000] [universal_transformer] [INFO] {'val_loss': 16.290212631225586, 'val_perplexity': 11878167.762108974, 'val_accuracy': 0.00041076196344218524, 'val_target_perplexity': 10473.89315556401, 'val_runtime': 155.46103068500088, 'epoch': 1}\n",
            "[2021-05-04 15:25:22 +0000] [universal_transformer] [INFO] {'train_loss': 4.272151470184326, 'train_perplexity': 71.67567793509352, 'train_accuracy': 0.265182, 'train_target_perplexity': 70.41750040618388, 'train_runtime': 20940.171301619997, 'epoch': 2}\n",
            "[2021-05-04 15:27:57 +0000] [universal_transformer] [INFO] {'val_loss': 15.92154312133789, 'val_perplexity': 8215581.740227042, 'val_accuracy': 0.002875333744095297, 'val_target_perplexity': 6334.094754271001, 'val_runtime': 155.13274154900137, 'epoch': 2}\n",
            "[2021-05-04 21:16:58 +0000] [universal_transformer] [INFO] {'train_loss': 4.130797386169434, 'train_perplexity': 62.227522522937846, 'train_accuracy': 0.276892, 'train_target_perplexity': 60.70075512172048, 'train_runtime': 20941.110845469004, 'epoch': 3}\n",
            "[2021-05-04 21:19:34 +0000] [universal_transformer] [INFO] {'val_loss': 16.220382690429688, 'val_perplexity': 11077013.801182048, 'val_accuracy': 0.0061614294516327784, 'val_target_perplexity': 3692.713789030646, 'val_runtime': 155.74055271099496, 'epoch': 3}\n",
            "[2021-05-05 03:08:45 +0000] [universal_transformer] [INFO] {'train_loss': 4.046171188354492, 'train_perplexity': 57.17811317463288, 'train_accuracy': 0.284144, 'train_target_perplexity': 55.29704308109113, 'train_runtime': 20951.060991369, 'epoch': 4}\n",
            "[2021-05-05 03:11:20 +0000] [universal_transformer] [INFO] {'val_loss': 16.269012451171875, 'val_perplexity': 11628999.010333706, 'val_accuracy': 0.023618812897925653, 'val_target_perplexity': 2389.558358141059, 'val_runtime': 154.98045337099757, 'epoch': 4}\n",
            "[2021-05-05 03:14:07 +0000] [universal_transformer] [INFO] {'test_loss': 16.3461971282959, 'test_perplexity': 12562127.96094523, 'test_accuracy': 0.0, 'test_target_perplexity': 11179.316537202973, 'test_runtime': 164.4146119759971, 'epoch': 4}\n",
            "\n",
            "\u001b[34m\u001b[1mwandb\u001b[0m: Waiting for W&B process to finish, PID 277\n",
            "\u001b[34m\u001b[1mwandb\u001b[0m: Program ended successfully.\n",
            "\u001b[34m\u001b[1mwandb\u001b[0m:                                                                                \n",
            "\u001b[34m\u001b[1mwandb\u001b[0m: Find user logs for this run at: /content/CS7643_group_project/wandb/run-20210504_034121-1aw3hpjc/logs/debug.log\n",
            "\u001b[34m\u001b[1mwandb\u001b[0m: Find internal logs for this run at: /content/CS7643_group_project/wandb/run-20210504_034121-1aw3hpjc/logs/debug-internal.log\n",
            "\u001b[34m\u001b[1mwandb\u001b[0m: Run summary:\n",
            "\u001b[34m\u001b[1mwandb\u001b[0m:                 val_loss_min 15.92154\n",
            "\u001b[34m\u001b[1mwandb\u001b[0m:           val_perplexity_min 8215581.74023\n",
            "\u001b[34m\u001b[1mwandb\u001b[0m:             val_accuracy_min 0.00041\n",
            "\u001b[34m\u001b[1mwandb\u001b[0m:    val_target_perplexity_min 2389.55836\n",
            "\u001b[34m\u001b[1mwandb\u001b[0m:              val_runtime_min 154.98045\n",
            "\u001b[34m\u001b[1mwandb\u001b[0m:                 val_loss_max 16.29021\n",
            "\u001b[34m\u001b[1mwandb\u001b[0m:           val_perplexity_max 11878167.76211\n",
            "\u001b[34m\u001b[1mwandb\u001b[0m:             val_accuracy_max 0.02362\n",
            "\u001b[34m\u001b[1mwandb\u001b[0m:    val_target_perplexity_max 10473.89316\n",
            "\u001b[34m\u001b[1mwandb\u001b[0m:              val_runtime_max 155.74055\n",
            "\u001b[34m\u001b[1mwandb\u001b[0m:                   train_loss 4.04617\n",
            "\u001b[34m\u001b[1mwandb\u001b[0m:             train_perplexity 57.17811\n",
            "\u001b[34m\u001b[1mwandb\u001b[0m:               train_accuracy 0.28414\n",
            "\u001b[34m\u001b[1mwandb\u001b[0m:      train_target_perplexity 55.29704\n",
            "\u001b[34m\u001b[1mwandb\u001b[0m:                train_runtime 20951.06099\n",
            "\u001b[34m\u001b[1mwandb\u001b[0m:                        epoch 4\n",
            "\u001b[34m\u001b[1mwandb\u001b[0m:                     val_loss 16.26901\n",
            "\u001b[34m\u001b[1mwandb\u001b[0m:               val_perplexity 11628999.01033\n",
            "\u001b[34m\u001b[1mwandb\u001b[0m:                 val_accuracy 0.02362\n",
            "\u001b[34m\u001b[1mwandb\u001b[0m:        val_target_perplexity 2389.55836\n",
            "\u001b[34m\u001b[1mwandb\u001b[0m:                  val_runtime 154.98045\n",
            "\u001b[34m\u001b[1mwandb\u001b[0m:                     _runtime 84766\n",
            "\u001b[34m\u001b[1mwandb\u001b[0m:                   _timestamp 1620184447\n",
            "\u001b[34m\u001b[1mwandb\u001b[0m:                        _step 4\n",
            "\u001b[34m\u001b[1mwandb\u001b[0m:                test_loss_min 16.3462\n",
            "\u001b[34m\u001b[1mwandb\u001b[0m:          test_perplexity_min 12562127.96095\n",
            "\u001b[34m\u001b[1mwandb\u001b[0m:            test_accuracy_min 0.0\n",
            "\u001b[34m\u001b[1mwandb\u001b[0m:   test_target_perplexity_min 11179.31654\n",
            "\u001b[34m\u001b[1mwandb\u001b[0m:             test_runtime_min 164.41461\n",
            "\u001b[34m\u001b[1mwandb\u001b[0m:                test_loss_max 16.3462\n",
            "\u001b[34m\u001b[1mwandb\u001b[0m:          test_perplexity_max 12562127.96095\n",
            "\u001b[34m\u001b[1mwandb\u001b[0m:            test_accuracy_max 0.0\n",
            "\u001b[34m\u001b[1mwandb\u001b[0m:   test_target_perplexity_max 11179.31654\n",
            "\u001b[34m\u001b[1mwandb\u001b[0m:             test_runtime_max 164.41461\n",
            "\u001b[34m\u001b[1mwandb\u001b[0m:                    test_loss 16.3462\n",
            "\u001b[34m\u001b[1mwandb\u001b[0m:              test_perplexity 12562127.96095\n",
            "\u001b[34m\u001b[1mwandb\u001b[0m:                test_accuracy 0.0\n",
            "\u001b[34m\u001b[1mwandb\u001b[0m:       test_target_perplexity 11179.31654\n",
            "\u001b[34m\u001b[1mwandb\u001b[0m:                 test_runtime 164.41461\n",
            "\u001b[34m\u001b[1mwandb\u001b[0m: Run history:\n",
            "\u001b[34m\u001b[1mwandb\u001b[0m:                train_loss █▃▂▁\n",
            "\u001b[34m\u001b[1mwandb\u001b[0m:          train_perplexity █▃▂▁\n",
            "\u001b[34m\u001b[1mwandb\u001b[0m:            train_accuracy ▁▆▇█\n",
            "\u001b[34m\u001b[1mwandb\u001b[0m:   train_target_perplexity █▃▂▁\n",
            "\u001b[34m\u001b[1mwandb\u001b[0m:             train_runtime █▁▂█\n",
            "\u001b[34m\u001b[1mwandb\u001b[0m:                     epoch ▁▃▆█\n",
            "\u001b[34m\u001b[1mwandb\u001b[0m:                  val_loss █▁▇█\n",
            "\u001b[34m\u001b[1mwandb\u001b[0m:            val_perplexity █▁▆█\n",
            "\u001b[34m\u001b[1mwandb\u001b[0m:              val_accuracy ▁▂▃█\n",
            "\u001b[34m\u001b[1mwandb\u001b[0m:     val_target_perplexity █▄▂▁\n",
            "\u001b[34m\u001b[1mwandb\u001b[0m:               val_runtime ▅▂█▁\n",
            "\u001b[34m\u001b[1mwandb\u001b[0m:                  _runtime ▁▄██\n",
            "\u001b[34m\u001b[1mwandb\u001b[0m:                _timestamp ▁▄██\n",
            "\u001b[34m\u001b[1mwandb\u001b[0m:                     _step ▁▃▆█\n",
            "\u001b[34m\u001b[1mwandb\u001b[0m:                 test_loss ▁\n",
            "\u001b[34m\u001b[1mwandb\u001b[0m:           test_perplexity ▁\n",
            "\u001b[34m\u001b[1mwandb\u001b[0m:             test_accuracy ▁\n",
            "\u001b[34m\u001b[1mwandb\u001b[0m:    test_target_perplexity ▁\n",
            "\u001b[34m\u001b[1mwandb\u001b[0m:              test_runtime ▁\n",
            "\u001b[34m\u001b[1mwandb\u001b[0m: \n",
            "\u001b[34m\u001b[1mwandb\u001b[0m: Synced 5 W&B file(s), 0 media file(s), 1 artifact file(s) and 0 other file(s)\n",
            "\u001b[34m\u001b[1mwandb\u001b[0m: \n",
            "\u001b[34m\u001b[1mwandb\u001b[0m: Synced \u001b[33mvanilla_lambada_1.yaml\u001b[0m: \u001b[34mhttps://wandb.ai/dfd/ut_lambada/runs/1aw3hpjc\u001b[0m\n"
          ],
          "name": "stdout"
        }
      ]
    },
    {
      "cell_type": "code",
      "metadata": {
        "id": "Pn_WW-ExdzX7"
      },
      "source": [
        ""
      ],
      "execution_count": null,
      "outputs": []
    }
  ]
}